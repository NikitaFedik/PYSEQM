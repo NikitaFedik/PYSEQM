{
 "cells": [
  {
   "cell_type": "markdown",
   "id": "92d836e4-8b96-4f27-9183-4101b05062d2",
   "metadata": {},
   "source": [
    "# Example of BOMD MD (NVE, NVT)"
   ]
  },
  {
   "cell_type": "code",
   "execution_count": 1,
   "id": "a5d16b3b-5b0b-49b7-998e-957f67350f12",
   "metadata": {},
   "outputs": [],
   "source": [
    "import torch\n",
    "from seqm.seqm_functions.constants import Constants\n",
    "from seqm.Molecule import Molecule\n",
    "from seqm.MolecularDynamics import Molecular_Dynamics_Basic, Molecular_Dynamics_Langevin\n",
    "\n",
    "torch.set_default_dtype(torch.float64)\n",
    "if torch.cuda.is_available():\n",
    "    device = torch.device('cuda')\n",
    "else:\n",
    "    device = torch.device('cpu')"
   ]
  },
  {
   "cell_type": "code",
   "execution_count": 3,
   "id": "1104f502-e6e6-46c0-9829-740177ef7b48",
   "metadata": {},
   "outputs": [
    {
     "name": "stdout",
     "output_type": "stream",
     "text": [
      "Initialize velocities: zero_com\n",
      "Step,    Temp,    E(kinetic),  E(potential),  E(total)\n",
      "     1   508.67   2.630030e-01 -1.350658e+00 -1.087655e+00 ||    355.80   1.839639e-01 1.501225e+00 1.685189e+00 || \n",
      "     2   470.57   2.433021e-01 -1.330798e+00 -1.087495e+00 ||    255.68   1.321945e-01 1.553362e+00 1.685556e+00 || \n",
      "     3   421.10   2.177281e-01 -1.305032e+00 -1.087304e+00 ||    198.27   1.025123e-01 1.583227e+00 1.685740e+00 || \n",
      "     4   366.20   1.893379e-01 -1.276449e+00 -1.087111e+00 ||    189.23   9.784064e-02 1.587896e+00 1.685737e+00 || \n",
      "     5   311.86   1.612447e-01 -1.248187e+00 -1.086942e+00 ||    228.49   1.181385e-01 1.567413e+00 1.685551e+00 || \n",
      "     6   263.41   1.361934e-01 -1.223013e+00 -1.086819e+00 ||    310.33   1.604555e-01 1.524734e+00 1.685190e+00 || \n",
      "     7   224.78   1.162215e-01 -1.202978e+00 -1.086757e+00 ||    423.77   2.191057e-01 1.465565e+00 1.684671e+00 || \n",
      "     8   198.12   1.024360e-01 -1.189196e+00 -1.086760e+00 ||    553.16   2.860066e-01 1.398019e+00 1.684026e+00 || \n",
      "     9   183.59   9.492509e-02 -1.181749e+00 -1.086824e+00 ||    679.39   3.512702e-01 1.332041e+00 1.683311e+00 || \n",
      "    10   179.51   9.281517e-02 -1.179751e+00 -1.086936e+00 ||    781.67   4.041529e-01 1.278458e+00 1.682611e+00 || \n",
      "CPU times: user 4.1 s, sys: 74.2 ms, total: 4.17 s\n",
      "Wall time: 4.16 s\n"
     ]
    }
   ],
   "source": [
    "%%time\n",
    "species = torch.as_tensor([[8,6,1,1],[5,1,1,1]],dtype=torch.int64, device=device)[:]\n",
    "coordinates = torch.tensor([\n",
    "                  [\n",
    "                   [ 0.00,  0.0,  0.0],\n",
    "                   [ 1.22,  0.0,  0.0],\n",
    "                   [ 1.82,  0.94, 0.0],\n",
    "                   [ 1.82, -0.94, 0.0]\n",
    "                  ],\n",
    "                  [\n",
    "                   [ 0.00,  0.00,  0.00],\n",
    "                   [ 1.20,  0.00,  0.00],\n",
    "                   [-0.60,  1.03,  0.00],\n",
    "                   [-0.60, -1.03,  0.00]\n",
    "                  ]\n",
    "                 ], device=device)[:]\n",
    "\n",
    "const = Constants().to(device)\n",
    "\n",
    "elements = [0]+sorted(set(species.reshape(-1).tolist()))\n",
    "seqm_parameters = {\n",
    "                   'method' : 'AM1',  # AM1, MNDO, PM#\n",
    "                   'scf_eps' : 1.0e-6,  # unit eV, change of electric energy, as nuclear energy doesnt' change during SCF\n",
    "                   'scf_converger' : [2,0.0], # converger used for scf loop\n",
    "                                         # [0, 0.1], [0, alpha] constant mixing, P = alpha*P + (1.0-alpha)*Pnew\n",
    "                                         # [1], adaptive mixing\n",
    "                                         # [2], adaptive mixing, then pulay\n",
    "                   'sp2' : [False, 1.0e-5],  # whether to use sp2 algorithm in scf loop,\n",
    "                                            #[True, eps] or [False], eps for SP2 conve criteria\n",
    "                   'elements' : elements, #[0,1,6,8],\n",
    "                   'learned' : [], # learned parameters name list, e.g ['U_ss']\n",
    "                   #'parameter_file_dir' : '../seqm/params/', # file directory for other required parameters\n",
    "                   'pair_outer_cutoff' : 1.0e10, # consistent with the unit on coordinates\n",
    "                   'eig' : True\n",
    "                   }\n",
    "\n",
    "output={'molid':[0, 1], 'thermo':1, 'dump':1, 'prefix':'Outputs/MD_BOMD_Basic'}\n",
    "molecule = Molecule(const, seqm_parameters, coordinates, species).to(device)\n",
    "\n",
    "md =  Molecular_Dynamics_Basic(seqm_parameters=seqm_parameters, Temp=400.0, timestep=0.4, output=output).to(device)\n",
    "md.initialize_velocity(molecule )\n",
    "#remove center of mass velocity\n",
    "# Info_log flag generates .txt wtih additional info for every step (orbital energies, dipole)\n",
    "_ = md.run(molecule, 10, remove_com=[True, 1], Info_log=True)"
   ]
  },
  {
   "cell_type": "markdown",
   "id": "7009434b-aff2-4218-85e2-1fcbc3e01f0b",
   "metadata": {},
   "source": [
    "## *MD_BOMD_BASIC.0.xyz* and *MD_BOMD_BASIC.1.xyz* files with general info for each step are created. Coordinates, velocities, forces and charges are recorded in the following sequence: x y z vx vy vz fx fy fz q.\n",
    "\n",
    "## *MD_BOMD_BASIC.Info.0.txt* and *MD_BOMD_BASIC.Info.1.txt* contain additional info for each step (orbital energies, dipole)."
   ]
  },
  {
   "cell_type": "markdown",
   "id": "c8882565-c2e2-4ca3-9c98-d0744c222606",
   "metadata": {},
   "source": [
    "## Scale velocities to adjust kinetic energy and compenstate the energy shift"
   ]
  },
  {
   "cell_type": "code",
   "execution_count": 4,
   "id": "039fc1c6-a9b8-4bd5-a261-83c400c8c31d",
   "metadata": {},
   "outputs": [
    {
     "name": "stdout",
     "output_type": "stream",
     "text": [
      "Initialize velocities: zero_com\n",
      "Step,    Temp,    E(kinetic),  E(potential),  E(total)\n",
      "     1   207.34   1.072017e-01 -8.764901e-02 1.955273e-02 ||    572.13   2.958167e-01 2.073125e+00 2.368942e+00 || \n",
      "     2   243.73   1.260159e-01 -1.064632e-01 1.955273e-02 ||    769.46   3.978415e-01 1.971100e+00 2.368942e+00 || \n",
      "     3   327.00   1.690699e-01 -1.495172e-01 1.955273e-02 ||   1004.55   5.193913e-01 1.849550e+00 2.368942e+00 || \n",
      "     4   459.44   2.375472e-01 -2.179945e-01 1.955273e-02 ||   1255.65   6.492192e-01 1.719722e+00 2.368942e+00 || \n",
      "     5   643.40   3.326630e-01 -3.131103e-01 1.955273e-02 ||   1498.32   7.746891e-01 1.594253e+00 2.368942e+00 || \n",
      "     6   878.87   4.544116e-01 -4.348589e-01 1.955273e-02 ||   1706.79   8.824812e-01 1.486461e+00 2.368942e+00 || \n",
      "     7  1160.55   6.000496e-01 -5.804969e-01 1.955273e-02 ||   1854.96   9.590909e-01 1.409851e+00 2.368942e+00 || \n",
      "     8  1475.45   7.628657e-01 -7.433130e-01 1.955273e-02 ||   1917.08   9.912088e-01 1.377733e+00 2.368942e+00 || \n",
      "     9  1802.09   9.317508e-01 -9.121981e-01 1.955273e-02 ||   1869.85   9.667851e-01 1.402157e+00 2.368942e+00 || \n",
      "    10  2111.68   1.091824e+00 -1.072271e+00 1.955273e-02 ||   1698.78   8.783386e-01 1.490603e+00 2.368942e+00 || \n",
      "CPU times: user 4.12 s, sys: 67.3 ms, total: 4.19 s\n",
      "Wall time: 4.17 s\n"
     ]
    }
   ],
   "source": [
    "%%time\n",
    "species = torch.as_tensor([[8,6,1,1],[5,1,1,1]],dtype=torch.int64, device=device)[:]\n",
    "coordinates = torch.tensor([\n",
    "                  [\n",
    "                   [ 1.40,  0.0,  0.0],\n",
    "                   [ 0.00,  0.0,  0.0],\n",
    "                   [-0.60,  0.94, 0.0],\n",
    "                   [-0.60, -0.94, 0.0]\n",
    "                  ],\n",
    "                  [\n",
    "                   [ 0.00,  0.00,  0.00],\n",
    "                   [ 1.40,  0.00,  0.00],\n",
    "                   [-0.60,  1.03,  0.00],\n",
    "                   [-0.60, -1.03,  0.00]\n",
    "                  ]\n",
    "                 ], device=device)[:]\n",
    "\n",
    "const = Constants().to(device)\n",
    "\n",
    "elements = [0]+sorted(set(species.reshape(-1).tolist()))\n",
    "seqm_parameters = {\n",
    "                   'method' : 'AM1',  # AM1, MNDO, PM#\n",
    "                   'scf_eps' : 1.0e-6,  # unit eV, change of electric energy, as nuclear energy doesnt' change during SCF\n",
    "                   'scf_converger' : [2,0.0], # converger used for scf loop\n",
    "                                         # [0, 0.1], [0, alpha] constant mixing, P = alpha*P + (1.0-alpha)*Pnew\n",
    "                                         # [1], adaptive mixing\n",
    "                                         # [2], adaptive mixing, then pulay\n",
    "                   'sp2' : [False, 1.0e-5],  # whether to use sp2 algorithm in scf loop,\n",
    "                                            #[True, eps] or [False], eps for SP2 conve criteria\n",
    "                   'elements' : elements, #[0,1,6,8],\n",
    "                   'learned' : [], # learned parameters name list, e.g ['U_ss']\n",
    "                   #'parameter_file_dir' : '../seqm/params/', # file directory for other required parameters\n",
    "                   'pair_outer_cutoff' : 1.0e10, # consistent with the unit on coordinates\n",
    "                   'eig' : True\n",
    "                   }\n",
    "\n",
    "output={'molid':[0, 1], 'thermo':1, 'dump':1, 'prefix':'Outputs/MD_BOMD_Basic_E_cntrl'}\n",
    "molecule = Molecule(const, seqm_parameters, coordinates, species).to(device)\n",
    "\n",
    "md =  Molecular_Dynamics_Basic(seqm_parameters=seqm_parameters, Temp=400.0, timestep=0.4, output=output).to(device)\n",
    "md.initialize_velocity(molecule )\n",
    "#remove center of mass velocity\n",
    "# Info_log flag generates .txt wtih additional info for every step (orbital energies, dipole)\n",
    "_ = md.run(molecule, 10, control_energy_shift=True, remove_com=[True, 1], Info_log=True)"
   ]
  },
  {
   "cell_type": "code",
   "execution_count": null,
   "id": "c02e6ce5-5589-45f9-bc97-f9c802a1314a",
   "metadata": {},
   "outputs": [],
   "source": []
  },
  {
   "cell_type": "markdown",
   "id": "37fb7512-49d6-4c21-af85-74bbe7473aac",
   "metadata": {},
   "source": [
    "## Scale velocities to control temperature"
   ]
  },
  {
   "cell_type": "code",
   "execution_count": 5,
   "id": "15890b1f-7d82-4540-a295-edc2a73508b1",
   "metadata": {},
   "outputs": [
    {
     "name": "stdout",
     "output_type": "stream",
     "text": [
      "Initialize velocities: zero_com\n",
      "Step,    Temp,    E(kinetic),  E(potential),  E(total)\n",
      "     1   400.00   2.068160e-01 -5.892348e-02 1.478925e-01 ||    400.00   2.068160e-01 2.143274e+00 2.350090e+00 || \n",
      "     2   400.00   2.068160e-01 -5.217212e-02 1.546439e-01 ||    400.00   2.068160e-01 2.097205e+00 2.304021e+00 || \n",
      "     3   400.00   2.068160e-01 -7.434265e-02 1.324733e-01 ||    400.00   2.068160e-01 2.018711e+00 2.225527e+00 || \n",
      "     4   400.00   2.068160e-01 -1.229255e-01 8.389051e-02 ||    400.00   2.068160e-01 1.919684e+00 2.126500e+00 || \n",
      "     5   400.00   2.068160e-01 -1.925878e-01 1.422819e-02 ||    400.00   2.068160e-01 1.811000e+00 2.017816e+00 || \n",
      "     6   400.00   2.068160e-01 -2.770935e-01 -7.027755e-02 ||    400.00   2.068160e-01 1.700871e+00 1.907687e+00 || \n",
      "     7   400.00   2.068160e-01 -3.706762e-01 -1.638602e-01 ||    400.00   2.068160e-01 1.594995e+00 1.801811e+00 || \n",
      "     8   400.00   2.068160e-01 -4.686285e-01 -2.618125e-01 ||    400.00   2.068160e-01 1.497239e+00 1.704055e+00 || \n",
      "     9   400.00   2.068160e-01 -5.673647e-01 -3.605487e-01 ||    400.00   2.068160e-01 1.410284e+00 1.617100e+00 || \n",
      "    10   400.00   2.068160e-01 -6.642494e-01 -4.574334e-01 ||    400.00   2.068160e-01 1.336083e+00 1.542899e+00 || \n",
      "CPU times: user 4.09 s, sys: 89.7 ms, total: 4.18 s\n",
      "Wall time: 4.16 s\n"
     ]
    }
   ],
   "source": [
    "%%time\n",
    "species = torch.as_tensor([[8,6,1,1],[5,1,1,1]],dtype=torch.int64, device=device)[:]\n",
    "coordinates = torch.tensor([\n",
    "                  [\n",
    "                   [ 1.40,  0.0,  0.0],\n",
    "                   [ 0.00,  0.0,  0.0],\n",
    "                   [-0.60,  0.94, 0.0],\n",
    "                   [-0.60, -0.94, 0.0]\n",
    "                  ],\n",
    "                  [\n",
    "                   [ 0.00,  0.00,  0.00],\n",
    "                   [ 1.40,  0.00,  0.00],\n",
    "                   [-0.60,  1.03,  0.00],\n",
    "                   [-0.60, -1.03,  0.00]\n",
    "                  ]\n",
    "                 ], device=device)[:]\n",
    "\n",
    "const = Constants().to(device)\n",
    "\n",
    "elements = [0]+sorted(set(species.reshape(-1).tolist()))\n",
    "seqm_parameters = {\n",
    "                   'method' : 'AM1',  # AM1, MNDO, PM#\n",
    "                   'scf_eps' : 1.0e-6,  # unit eV, change of electric energy, as nuclear energy doesnt' change during SCF\n",
    "                   'scf_converger' : [2,0.0], # converger used for scf loop\n",
    "                                         # [0, 0.1], [0, alpha] constant mixing, P = alpha*P + (1.0-alpha)*Pnew\n",
    "                                         # [1], adaptive mixing\n",
    "                                         # [2], adaptive mixing, then pulay\n",
    "                   'sp2' : [False, 1.0e-5],  # whether to use sp2 algorithm in scf loop,\n",
    "                                            #[True, eps] or [False], eps for SP2 conve criteria\n",
    "                   'elements' : elements, #[0,1,6,8],\n",
    "                   'learned' : [], # learned parameters name list, e.g ['U_ss']\n",
    "                   #'parameter_file_dir' : '../seqm/params/', # file directory for other required parameters\n",
    "                   'pair_outer_cutoff' : 1.0e10, # consistent with the unit on coordinates\n",
    "                   'eig' : True\n",
    "                   }\n",
    "\n",
    "output={'molid':[0, 1], 'thermo':1, 'dump':1, 'prefix':'Outputs/MD_BOMD_Basic_T_cntrl'}\n",
    "molecule = Molecule(const, seqm_parameters, coordinates, species).to(device)\n",
    "\n",
    "md =  Molecular_Dynamics_Basic(seqm_parameters=seqm_parameters, Temp=400.0, timestep=0.4, output=output).to(device)\n",
    "md.initialize_velocity(molecule )\n",
    "#remove center of mass velocity\n",
    "# Info_log flag generates .txt wtih additional info for every step (orbital energies, dipole)\n",
    "_ = md.run(molecule, 10, scale_vel=[1,400], remove_com=[True, 1], Info_log=True)"
   ]
  },
  {
   "cell_type": "code",
   "execution_count": null,
   "id": "21bef66a-303d-45ad-85d0-59c40213fa45",
   "metadata": {},
   "outputs": [],
   "source": []
  },
  {
   "cell_type": "markdown",
   "id": "28917924-2e5a-49a9-86fb-f1ea809c45f3",
   "metadata": {},
   "source": [
    "## Langevin Thermostat"
   ]
  },
  {
   "cell_type": "code",
   "execution_count": 6,
   "id": "34485db3-0514-41d2-9507-e4e630dfa1c2",
   "metadata": {},
   "outputs": [
    {
     "name": "stdout",
     "output_type": "stream",
     "text": [
      "Initialize velocities: zero_com\n",
      "Step,    Temp,    E(kinetic),  E(potential),  E(total)\n",
      "     1   393.63   2.035200e-01 -1.348049e+00 -1.144529e+00 ||    462.23   2.389917e-01 1.388268e+00 1.627260e+00 || \n",
      "     2   331.12   1.712012e-01 -1.324041e+00 -1.152840e+00 ||    550.69   2.847291e-01 1.340948e+00 1.625677e+00 || \n",
      "     3   277.40   1.434246e-01 -1.294431e+00 -1.151006e+00 ||    649.42   3.357736e-01 1.297567e+00 1.633340e+00 || \n",
      "     4   217.36   1.123852e-01 -1.259408e+00 -1.147023e+00 ||    713.64   3.689780e-01 1.264546e+00 1.633524e+00 || \n",
      "     5   145.39   7.517252e-02 -1.226805e+00 -1.151632e+00 ||    723.48   3.740661e-01 1.248836e+00 1.622902e+00 || \n",
      "     6   105.60   5.459880e-02 -1.199979e+00 -1.145380e+00 ||    690.98   3.572648e-01 1.258605e+00 1.615870e+00 || \n",
      "     7    64.71   3.345663e-02 -1.176330e+00 -1.142874e+00 ||    659.16   3.408096e-01 1.294412e+00 1.635222e+00 || \n",
      "     8    30.40   1.571696e-02 -1.162940e+00 -1.147223e+00 ||    581.69   3.007593e-01 1.348993e+00 1.649752e+00 || \n",
      "     9    27.72   1.433274e-02 -1.161372e+00 -1.147039e+00 ||    464.11   2.399628e-01 1.411685e+00 1.651648e+00 || \n",
      "    10    47.94   2.478720e-02 -1.172013e+00 -1.147226e+00 ||    369.37   1.909787e-01 1.467173e+00 1.658151e+00 || \n",
      "CPU times: user 4.09 s, sys: 80.1 ms, total: 4.17 s\n",
      "Wall time: 4.16 s\n"
     ]
    }
   ],
   "source": [
    "%%time\n",
    "species = torch.as_tensor([[8,6,1,1],[5,1,1,1]],dtype=torch.int64, device=device)[:]\n",
    "coordinates = torch.tensor([\n",
    "                  [\n",
    "                   [ 0.00,  0.0,  0.0],\n",
    "                   [ 1.22,  0.0,  0.0],\n",
    "                   [ 1.82,  0.94, 0.0],\n",
    "                   [ 1.82, -0.94, 0.0]\n",
    "                  ],\n",
    "                  [\n",
    "                   [ 0.00,  0.00,  0.00],\n",
    "                   [ 1.20,  0.00,  0.00],\n",
    "                   [-0.60,  1.03,  0.00],\n",
    "                   [-0.60, -1.03,  0.00]\n",
    "                  ]\n",
    "                 ], device=device)[:]\n",
    "\n",
    "const = Constants().to(device)\n",
    "\n",
    "elements = [0]+sorted(set(species.reshape(-1).tolist()))\n",
    "seqm_parameters = {\n",
    "                   'method' : 'AM1',  # AM1, MNDO, PM#\n",
    "                   'scf_eps' : 1.0e-6,  # unit eV, change of electric energy, as nuclear energy doesnt' change during SCF\n",
    "                   'scf_converger' : [2,0.0], # converger used for scf loop\n",
    "                                         # [0, 0.1], [0, alpha] constant mixing, P = alpha*P + (1.0-alpha)*Pnew\n",
    "                                         # [1], adaptive mixing\n",
    "                                         # [2], adaptive mixing, then pulay\n",
    "                   'sp2' : [False, 1.0e-5],  # whether to use sp2 algorithm in scf loop,\n",
    "                                            #[True, eps] or [False], eps for SP2 conve criteria\n",
    "                   'elements' : elements, #[0,1,6,8],\n",
    "                   'learned' : [], # learned parameters name list, e.g ['U_ss']\n",
    "                   #'parameter_file_dir' : '../seqm/params/', # file directory for other required parameters\n",
    "                   'pair_outer_cutoff' : 1.0e10, # consistent with the unit on coordinates\n",
    "                   'eig' : True\n",
    "                   }\n",
    "\n",
    "output={'molid':[0, 1], 'thermo':1, 'dump':1, 'prefix':'Outputs/MD_BOMD_Langevin'}\n",
    "molecule = Molecule(const, seqm_parameters, coordinates, species).to(device)\n",
    "\n",
    "# specify damping factor\n",
    "md =  Molecular_Dynamics_Langevin(damp = 100.0, seqm_parameters=seqm_parameters, Temp=400.0, timestep=0.4, output=output).to(device)\n",
    "md.initialize_velocity(molecule )\n",
    "#remove center of mass velocity\n",
    "# Info_log flag generates .txt wtih additional info for every step (orbital energies, dipole)\n",
    "_ = md.run(molecule, 10, remove_com=[True, 1], Info_log=True)"
   ]
  },
  {
   "cell_type": "code",
   "execution_count": null,
   "id": "5156a4ba-6fc2-4104-9a37-8caed3d3c67a",
   "metadata": {},
   "outputs": [],
   "source": []
  }
 ],
 "metadata": {
  "kernelspec": {
   "display_name": "pyseqm_4",
   "language": "python",
   "name": "pyseqm_4"
  },
  "language_info": {
   "codemirror_mode": {
    "name": "ipython",
    "version": 3
   },
   "file_extension": ".py",
   "mimetype": "text/x-python",
   "name": "python",
   "nbconvert_exporter": "python",
   "pygments_lexer": "ipython3",
   "version": "3.9.15"
  }
 },
 "nbformat": 4,
 "nbformat_minor": 5
}
