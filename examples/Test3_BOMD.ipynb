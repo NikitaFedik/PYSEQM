{
 "cells": [
  {
   "cell_type": "markdown",
   "id": "92d836e4-8b96-4f27-9183-4101b05062d2",
   "metadata": {},
   "source": [
    "# Example of BOMD MD (NVE, NVT)"
   ]
  },
  {
   "cell_type": "code",
   "execution_count": 1,
   "id": "a5d16b3b-5b0b-49b7-998e-957f67350f12",
   "metadata": {},
   "outputs": [],
   "source": [
    "import torch\n",
    "from seqm.seqm_functions.constants import Constants\n",
    "from seqm.Molecule import Molecule\n",
    "from seqm.MolecularDynamics import Molecular_Dynamics_Basic, Molecular_Dynamics_Langevin\n",
    "\n",
    "torch.set_default_dtype(torch.float64)\n",
    "if torch.cuda.is_available():\n",
    "    device = torch.device('cuda')\n",
    "else:\n",
    "    device = torch.device('cpu')"
   ]
  },
  {
   "cell_type": "code",
   "execution_count": 3,
   "id": "1104f502-e6e6-46c0-9829-740177ef7b48",
   "metadata": {},
   "outputs": [
    {
     "name": "stdout",
     "output_type": "stream",
     "text": [
      "Initialize velocities: zero_com\n",
      "Step,    Temp,    E(kinetic),  E(potential),  E(total)\n",
      "     1   402.89   2.083079e-01 -1.357583e+00 -1.149275e+00 ||    458.27   2.369437e-01 1.399904e+00 1.636847e+00 || \n",
      "     2   384.41   1.987577e-01 -1.347987e+00 -1.149230e+00 ||    534.63   2.764233e-01 1.360007e+00 1.636430e+00 || \n",
      "     3   357.74   1.849660e-01 -1.334125e+00 -1.149159e+00 ||    612.47   3.166691e-01 1.319273e+00 1.635942e+00 || \n",
      "     4   325.26   1.681745e-01 -1.317248e+00 -1.149073e+00 ||    677.87   3.504868e-01 1.284974e+00 1.635460e+00 || \n",
      "     5   289.80   1.498360e-01 -1.298822e+00 -1.148986e+00 ||    717.49   3.709717e-01 1.264111e+00 1.635083e+00 || \n",
      "     6   254.14   1.314024e-01 -1.280313e+00 -1.148911e+00 ||    721.43   3.730103e-01 1.261900e+00 1.634910e+00 || \n",
      "     7   220.71   1.141176e-01 -1.262973e+00 -1.148855e+00 ||    686.11   3.547478e-01 1.280262e+00 1.635009e+00 || \n",
      "     8   191.21   9.886069e-02 -1.247686e+00 -1.148825e+00 ||    616.02   3.185053e-01 1.316872e+00 1.635377e+00 || \n",
      "     9   166.46   8.606836e-02 -1.234891e+00 -1.148823e+00 ||    523.39   2.706153e-01 1.365306e+00 1.635921e+00 || \n",
      "    10   146.53   7.576095e-02 -1.224607e+00 -1.148846e+00 ||    425.44   2.199703e-01 1.416514e+00 1.636484e+00 || \n",
      "CPU times: user 2.83 s, sys: 85.7 ms, total: 2.91 s\n",
      "Wall time: 2.92 s\n"
     ]
    }
   ],
   "source": [
    "%%time\n",
    "species = torch.as_tensor([[8,6,1,1],[5,1,1,1]],dtype=torch.int64, device=device)[:]\n",
    "coordinates = torch.tensor([\n",
    "                  [\n",
    "                   [ 0.00,  0.0,  0.0],\n",
    "                   [ 1.22,  0.0,  0.0],\n",
    "                   [ 1.82,  0.94, 0.0],\n",
    "                   [ 1.82, -0.94, 0.0]\n",
    "                  ],\n",
    "                  [\n",
    "                   [ 0.00,  0.00,  0.00],\n",
    "                   [ 1.20,  0.00,  0.00],\n",
    "                   [-0.60,  1.03,  0.00],\n",
    "                   [-0.60, -1.03,  0.00]\n",
    "                  ]\n",
    "                 ], device=device)[:]\n",
    "\n",
    "const = Constants().to(device)\n",
    "\n",
    "elements = [0]+sorted(set(species.reshape(-1).tolist()))\n",
    "seqm_parameters = {\n",
    "                   'method' : 'AM1',  # AM1, MNDO, PM#\n",
    "                   'scf_eps' : 1.0e-6,  # unit eV, change of electric energy, as nuclear energy doesnt' change during SCF\n",
    "                   'scf_converger' : [2,0.0], # converger used for scf loop\n",
    "                                         # [0, 0.1], [0, alpha] constant mixing, P = alpha*P + (1.0-alpha)*Pnew\n",
    "                                         # [1], adaptive mixing\n",
    "                                         # [2], adaptive mixing, then pulay\n",
    "                   'sp2' : [False, 1.0e-5],  # whether to use sp2 algorithm in scf loop,\n",
    "                                            #[True, eps] or [False], eps for SP2 conve criteria\n",
    "                   'elements' : elements, #[0,1,6,8],\n",
    "                   'learned' : [], # learned parameters name list, e.g ['U_ss']\n",
    "                   #'parameter_file_dir' : '../seqm/params/', # file directory for other required parameters\n",
    "                   'pair_outer_cutoff' : 1.0e10, # consistent with the unit on coordinates\n",
    "                   'eig' : True\n",
    "                   }\n",
    "\n",
    "output={'molid':[0, 1], 'thermo':1, 'dump':1, 'prefix':'Outputs/3_MD_BOMD_Basic'}\n",
    "molecule = Molecule(const, seqm_parameters, coordinates, species).to(device)\n",
    "\n",
    "md =  Molecular_Dynamics_Basic(seqm_parameters=seqm_parameters, Temp=400.0, timestep=0.4, output=output).to(device)\n",
    "md.initialize_velocity(molecule )\n",
    "#remove center of mass velocity\n",
    "# Info_log flag generates .txt wtih additional info for every step (orbital energies, dipole)\n",
    "_ = md.run(molecule, 10, remove_com=[True, 1], Info_log=True)"
   ]
  },
  {
   "cell_type": "markdown",
   "id": "7009434b-aff2-4218-85e2-1fcbc3e01f0b",
   "metadata": {},
   "source": [
    "## *MD_BOMD_BASIC.0.xyz* and *MD_BOMD_BASIC.1.xyz* files with general info for each step are created. Coordinates, velocities, forces and charges are recorded in the following sequence: x y z vx vy vz fx fy fz q.\n",
    "\n",
    "## *MD_BOMD_BASIC.Info.0.txt* and *MD_BOMD_BASIC.Info.1.txt* contain additional info for each step (orbital energies, dipole)."
   ]
  },
  {
   "cell_type": "markdown",
   "id": "c8882565-c2e2-4ca3-9c98-d0744c222606",
   "metadata": {},
   "source": [
    "## Scale velocities to adjust kinetic energy and compenstate the energy shift"
   ]
  },
  {
   "cell_type": "code",
   "execution_count": 4,
   "id": "039fc1c6-a9b8-4bd5-a261-83c400c8c31d",
   "metadata": {},
   "outputs": [
    {
     "name": "stdout",
     "output_type": "stream",
     "text": [
      "Initialize velocities: zero_com\n",
      "Step,    Temp,    E(kinetic),  E(potential),  E(total)\n",
      "     1   459.48   2.375697e-01 -1.065373e-01 1.310324e-01 ||    168.05   8.688837e-02 2.185935e+00 2.272824e+00 || \n",
      "     2   518.75   2.682136e-01 -1.371812e-01 1.310324e-01 ||    178.53   9.230918e-02 2.180515e+00 2.272824e+00 || \n",
      "     3   619.35   3.202296e-01 -1.891973e-01 1.310324e-01 ||    274.63   1.419926e-01 2.130831e+00 2.272824e+00 || \n",
      "     4   768.54   3.973655e-01 -2.663331e-01 1.310324e-01 ||    449.57   2.324442e-01 2.040380e+00 2.272824e+00 || \n",
      "     5   969.37   5.012008e-01 -3.701685e-01 1.310324e-01 ||    690.60   3.570699e-01 1.915754e+00 2.272824e+00 || \n",
      "     6  1219.11   6.303263e-01 -4.992939e-01 1.310324e-01 ||    978.60   5.059744e-01 1.766849e+00 2.272824e+00 || \n",
      "     7  1508.31   7.798558e-01 -6.488234e-01 1.310324e-01 ||   1287.59   6.657347e-01 1.607089e+00 2.272824e+00 || \n",
      "     8  1820.41   9.412238e-01 -8.101914e-01 1.310324e-01 ||   1584.47   8.192327e-01 1.453591e+00 2.272824e+00 || \n",
      "     9  2131.92   1.102287e+00 -9.712541e-01 1.310324e-01 ||   1829.24   9.457920e-01 1.327032e+00 2.272824e+00 || \n",
      "    10  2413.39   1.247818e+00 -1.116786e+00 1.310324e-01 ||   1976.98   1.022177e+00 1.250647e+00 2.272824e+00 || \n",
      "CPU times: user 2.9 s, sys: 41.4 ms, total: 2.94 s\n",
      "Wall time: 2.94 s\n"
     ]
    }
   ],
   "source": [
    "%%time\n",
    "species = torch.as_tensor([[8,6,1,1],[5,1,1,1]],dtype=torch.int64, device=device)[:]\n",
    "coordinates = torch.tensor([\n",
    "                  [\n",
    "                   [ 1.40,  0.0,  0.0],\n",
    "                   [ 0.00,  0.0,  0.0],\n",
    "                   [-0.60,  0.94, 0.0],\n",
    "                   [-0.60, -0.94, 0.0]\n",
    "                  ],\n",
    "                  [\n",
    "                   [ 0.00,  0.00,  0.00],\n",
    "                   [ 1.40,  0.00,  0.00],\n",
    "                   [-0.60,  1.03,  0.00],\n",
    "                   [-0.60, -1.03,  0.00]\n",
    "                  ]\n",
    "                 ], device=device)[:]\n",
    "\n",
    "const = Constants().to(device)\n",
    "\n",
    "elements = [0]+sorted(set(species.reshape(-1).tolist()))\n",
    "seqm_parameters = {\n",
    "                   'method' : 'AM1',  # AM1, MNDO, PM#\n",
    "                   'scf_eps' : 1.0e-6,  # unit eV, change of electric energy, as nuclear energy doesnt' change during SCF\n",
    "                   'scf_converger' : [2,0.0], # converger used for scf loop\n",
    "                                         # [0, 0.1], [0, alpha] constant mixing, P = alpha*P + (1.0-alpha)*Pnew\n",
    "                                         # [1], adaptive mixing\n",
    "                                         # [2], adaptive mixing, then pulay\n",
    "                   'sp2' : [False, 1.0e-5],  # whether to use sp2 algorithm in scf loop,\n",
    "                                            #[True, eps] or [False], eps for SP2 conve criteria\n",
    "                   'elements' : elements, #[0,1,6,8],\n",
    "                   'learned' : [], # learned parameters name list, e.g ['U_ss']\n",
    "                   #'parameter_file_dir' : '../seqm/params/', # file directory for other required parameters\n",
    "                   'pair_outer_cutoff' : 1.0e10, # consistent with the unit on coordinates\n",
    "                   'eig' : True\n",
    "                   }\n",
    "\n",
    "output={'molid':[0, 1], 'thermo':1, 'dump':1, 'prefix':'Outputs/3_MD_BOMD_Basic_E_cntrl'}\n",
    "molecule = Molecule(const, seqm_parameters, coordinates, species).to(device)\n",
    "\n",
    "md =  Molecular_Dynamics_Basic(seqm_parameters=seqm_parameters, Temp=400.0, timestep=0.4, output=output).to(device)\n",
    "md.initialize_velocity(molecule )\n",
    "#remove center of mass velocity\n",
    "# Info_log flag generates .txt wtih additional info for every step (orbital energies, dipole)\n",
    "_ = md.run(molecule, 10, control_energy_shift=True, remove_com=[True, 1], Info_log=True)"
   ]
  },
  {
   "cell_type": "markdown",
   "id": "37fb7512-49d6-4c21-af85-74bbe7473aac",
   "metadata": {},
   "source": [
    "## Scale velocities to control temperature"
   ]
  },
  {
   "cell_type": "code",
   "execution_count": 5,
   "id": "15890b1f-7d82-4540-a295-edc2a73508b1",
   "metadata": {},
   "outputs": [
    {
     "name": "stdout",
     "output_type": "stream",
     "text": [
      "Initialize velocities: zero_com\n",
      "Step,    Temp,    E(kinetic),  E(potential),  E(total)\n",
      "     1   400.00   2.068160e-01 -1.122726e-01 9.454342e-02 ||    400.00   2.068160e-01 2.129391e+00 2.336207e+00 || \n",
      "     2   400.00   2.068160e-01 -1.419430e-01 6.487300e-02 ||    400.00   2.068160e-01 2.070398e+00 2.277214e+00 || \n",
      "     3   400.00   2.068160e-01 -1.932226e-01 1.359339e-02 ||    400.00   2.068160e-01 1.982957e+00 2.189773e+00 || \n",
      "     4   400.00   2.068160e-01 -2.653099e-01 -5.849388e-02 ||    400.00   2.068160e-01 1.879045e+00 2.085861e+00 || \n",
      "     5   400.00   2.068160e-01 -3.546723e-01 -1.478563e-01 ||    400.00   2.068160e-01 1.768744e+00 1.975560e+00 || \n",
      "     6   400.00   2.068160e-01 -4.560043e-01 -2.491883e-01 ||    400.00   2.068160e-01 1.659386e+00 1.866202e+00 || \n",
      "     7   400.00   2.068160e-01 -5.636089e-01 -3.567929e-01 ||    400.00   2.068160e-01 1.555986e+00 1.762802e+00 || \n",
      "     8   400.00   2.068160e-01 -6.724048e-01 -4.655888e-01 ||    400.00   2.068160e-01 1.461955e+00 1.668771e+00 || \n",
      "     9   400.00   2.068160e-01 -7.783522e-01 -5.715362e-01 ||    400.00   2.068160e-01 1.379682e+00 1.586498e+00 || \n",
      "    10   400.00   2.068160e-01 -8.784702e-01 -6.716542e-01 ||    400.00   2.068160e-01 1.310929e+00 1.517745e+00 || \n",
      "CPU times: user 4.05 s, sys: 74.2 ms, total: 4.12 s\n",
      "Wall time: 4.11 s\n"
     ]
    }
   ],
   "source": [
    "%%time\n",
    "species = torch.as_tensor([[8,6,1,1],[5,1,1,1]],dtype=torch.int64, device=device)[:]\n",
    "coordinates = torch.tensor([\n",
    "                  [\n",
    "                   [ 1.40,  0.0,  0.0],\n",
    "                   [ 0.00,  0.0,  0.0],\n",
    "                   [-0.60,  0.94, 0.0],\n",
    "                   [-0.60, -0.94, 0.0]\n",
    "                  ],\n",
    "                  [\n",
    "                   [ 0.00,  0.00,  0.00],\n",
    "                   [ 1.40,  0.00,  0.00],\n",
    "                   [-0.60,  1.03,  0.00],\n",
    "                   [-0.60, -1.03,  0.00]\n",
    "                  ]\n",
    "                 ], device=device)[:]\n",
    "\n",
    "const = Constants().to(device)\n",
    "\n",
    "elements = [0]+sorted(set(species.reshape(-1).tolist()))\n",
    "seqm_parameters = {\n",
    "                   'method' : 'AM1',  # AM1, MNDO, PM#\n",
    "                   'scf_eps' : 1.0e-6,  # unit eV, change of electric energy, as nuclear energy doesnt' change during SCF\n",
    "                   'scf_converger' : [2,0.0], # converger used for scf loop\n",
    "                                         # [0, 0.1], [0, alpha] constant mixing, P = alpha*P + (1.0-alpha)*Pnew\n",
    "                                         # [1], adaptive mixing\n",
    "                                         # [2], adaptive mixing, then pulay\n",
    "                   'sp2' : [False, 1.0e-5],  # whether to use sp2 algorithm in scf loop,\n",
    "                                            #[True, eps] or [False], eps for SP2 conve criteria\n",
    "                   'elements' : elements, #[0,1,6,8],\n",
    "                   'learned' : [], # learned parameters name list, e.g ['U_ss']\n",
    "                   #'parameter_file_dir' : '../seqm/params/', # file directory for other required parameters\n",
    "                   'pair_outer_cutoff' : 1.0e10, # consistent with the unit on coordinates\n",
    "                   'eig' : True\n",
    "                   }\n",
    "\n",
    "output={'molid':[0, 1], 'thermo':1, 'dump':1, 'prefix':'Outputs/3_MD_BOMD_Basic_T_cntrl'}\n",
    "molecule = Molecule(const, seqm_parameters, coordinates, species).to(device)\n",
    "\n",
    "md =  Molecular_Dynamics_Basic(seqm_parameters=seqm_parameters, Temp=400.0, timestep=0.4, output=output).to(device)\n",
    "md.initialize_velocity(molecule )\n",
    "#remove center of mass velocity\n",
    "# Info_log flag generates .txt wtih additional info for every step (orbital energies, dipole)\n",
    "_ = md.run(molecule, 10, scale_vel=[1,400], remove_com=[True, 1], Info_log=True)"
   ]
  },
  {
   "cell_type": "markdown",
   "id": "28917924-2e5a-49a9-86fb-f1ea809c45f3",
   "metadata": {},
   "source": [
    "## Langevin Thermostat"
   ]
  },
  {
   "cell_type": "code",
   "execution_count": 6,
   "id": "34485db3-0514-41d2-9507-e4e630dfa1c2",
   "metadata": {},
   "outputs": [
    {
     "name": "stdout",
     "output_type": "stream",
     "text": [
      "Initialize velocities: zero_com\n",
      "Step,    Temp,    E(kinetic),  E(potential),  E(total)\n",
      "     1   498.76   2.578773e-01 -1.359442e+00 -1.101565e+00 ||    524.55   2.712154e-01 1.383468e+00 1.654683e+00 || \n",
      "     2   496.28   2.565966e-01 -1.352851e+00 -1.096255e+00 ||    623.87   3.225650e-01 1.331952e+00 1.654517e+00 || \n",
      "     3   442.75   2.289208e-01 -1.341806e+00 -1.112885e+00 ||    715.72   3.700540e-01 1.288316e+00 1.658370e+00 || \n",
      "     4   397.35   2.054468e-01 -1.327693e+00 -1.122246e+00 ||    766.27   3.961902e-01 1.261110e+00 1.657300e+00 || \n",
      "     5   372.56   1.926280e-01 -1.310358e+00 -1.117730e+00 ||    726.77   3.757682e-01 1.255937e+00 1.631705e+00 || \n",
      "     6   337.42   1.744580e-01 -1.290099e+00 -1.115641e+00 ||    637.08   3.293955e-01 1.274611e+00 1.604007e+00 || \n",
      "     7   309.88   1.602214e-01 -1.268829e+00 -1.108607e+00 ||    546.38   2.825016e-01 1.311417e+00 1.593919e+00 || \n",
      "     8   275.01   1.421932e-01 -1.245584e+00 -1.103391e+00 ||    457.86   2.367295e-01 1.359442e+00 1.596172e+00 || \n",
      "     9   211.11   1.091541e-01 -1.222646e+00 -1.113492e+00 ||    363.57   1.879820e-01 1.411715e+00 1.599697e+00 || \n",
      "    10   155.42   8.035984e-02 -1.203197e+00 -1.122837e+00 ||    297.92   1.540357e-01 1.452663e+00 1.606698e+00 || \n",
      "CPU times: user 4.14 s, sys: 79.1 ms, total: 4.22 s\n",
      "Wall time: 4.2 s\n"
     ]
    }
   ],
   "source": [
    "%%time\n",
    "species = torch.as_tensor([[8,6,1,1],[5,1,1,1]],dtype=torch.int64, device=device)[:]\n",
    "coordinates = torch.tensor([\n",
    "                  [\n",
    "                   [ 0.00,  0.0,  0.0],\n",
    "                   [ 1.22,  0.0,  0.0],\n",
    "                   [ 1.82,  0.94, 0.0],\n",
    "                   [ 1.82, -0.94, 0.0]\n",
    "                  ],\n",
    "                  [\n",
    "                   [ 0.00,  0.00,  0.00],\n",
    "                   [ 1.20,  0.00,  0.00],\n",
    "                   [-0.60,  1.03,  0.00],\n",
    "                   [-0.60, -1.03,  0.00]\n",
    "                  ]\n",
    "                 ], device=device)[:]\n",
    "\n",
    "const = Constants().to(device)\n",
    "\n",
    "elements = [0]+sorted(set(species.reshape(-1).tolist()))\n",
    "seqm_parameters = {\n",
    "                   'method' : 'AM1',  # AM1, MNDO, PM#\n",
    "                   'scf_eps' : 1.0e-6,  # unit eV, change of electric energy, as nuclear energy doesnt' change during SCF\n",
    "                   'scf_converger' : [2,0.0], # converger used for scf loop\n",
    "                                         # [0, 0.1], [0, alpha] constant mixing, P = alpha*P + (1.0-alpha)*Pnew\n",
    "                                         # [1], adaptive mixing\n",
    "                                         # [2], adaptive mixing, then pulay\n",
    "                   'sp2' : [False, 1.0e-5],  # whether to use sp2 algorithm in scf loop,\n",
    "                                            #[True, eps] or [False], eps for SP2 conve criteria\n",
    "                   'elements' : elements, #[0,1,6,8],\n",
    "                   'learned' : [], # learned parameters name list, e.g ['U_ss']\n",
    "                   #'parameter_file_dir' : '../seqm/params/', # file directory for other required parameters\n",
    "                   'pair_outer_cutoff' : 1.0e10, # consistent with the unit on coordinates\n",
    "                   'eig' : True\n",
    "                   }\n",
    "\n",
    "output={'molid':[0, 1], 'thermo':1, 'dump':1, 'prefix':'Outputs/3_MD_BOMD_Langevin'}\n",
    "molecule = Molecule(const, seqm_parameters, coordinates, species).to(device)\n",
    "\n",
    "# specify damping factor\n",
    "md =  Molecular_Dynamics_Langevin(damp = 100.0, seqm_parameters=seqm_parameters, Temp=400.0, timestep=0.4, output=output).to(device)\n",
    "md.initialize_velocity(molecule )\n",
    "#remove center of mass velocity\n",
    "# Info_log flag generates .txt wtih additional info for every step (orbital energies, dipole)\n",
    "_ = md.run(molecule, 10, remove_com=[True, 1], Info_log=True)"
   ]
  },
  {
   "cell_type": "code",
   "execution_count": null,
   "id": "5156a4ba-6fc2-4104-9a37-8caed3d3c67a",
   "metadata": {},
   "outputs": [],
   "source": []
  }
 ],
 "metadata": {
  "kernelspec": {
   "display_name": "pyseqm_4",
   "language": "python",
   "name": "pyseqm_4"
  },
  "language_info": {
   "codemirror_mode": {
    "name": "ipython",
    "version": 3
   },
   "file_extension": ".py",
   "mimetype": "text/x-python",
   "name": "python",
   "nbconvert_exporter": "python",
   "pygments_lexer": "ipython3",
   "version": "3.9.15"
  }
 },
 "nbformat": 4,
 "nbformat_minor": 5
}
