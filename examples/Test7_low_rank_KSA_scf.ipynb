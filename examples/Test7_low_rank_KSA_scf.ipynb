{
 "cells": [
  {
   "cell_type": "markdown",
   "id": "179f6b90-4cf5-41cb-9593-cc7781de4b8c",
   "metadata": {},
   "source": [
    "# low-rank Krylov Subspace Approximation (KSA) for density matrix SCF optimization"
   ]
  },
  {
   "cell_type": "code",
   "execution_count": 3,
   "id": "53269fe9-f8ed-469a-aa52-aa7d01642fcf",
   "metadata": {},
   "outputs": [],
   "source": [
    "import torch\n",
    "from seqm.seqm_functions.constants import Constants\n",
    "from seqm.Molecule import Molecule\n",
    "from seqm.ElectronicStructure import Electronic_Structure\n",
    "from seqm.seqm_functions.read_xyz import read_xyz\n",
    "\n",
    "if torch.cuda.is_available():\n",
    "    device = torch.device('cuda')\n",
    "else:\n",
    "    device = torch.device('cpu')"
   ]
  },
  {
   "cell_type": "code",
   "execution_count": null,
   "id": "3dfaf0c0-4c73-49df-9790-af2c39bbb384",
   "metadata": {},
   "outputs": [
    {
     "name": "stderr",
     "output_type": "stream",
     "text": [
      "/home/maxim/anaconda3/envs/pyseqm_4/lib/python3.9/site-packages/PYSEQM-0.0.1-py3.9.egg/seqm/seqm_functions/diag.py:134: UserWarning: torch.symeig is deprecated in favor of torch.linalg.eigh and will be removed in a future PyTorch release.\n",
      "The default behavior has changed from using the upper triangular portion of the matrix by default to using the lower triangular portion.\n",
      "L, _ = torch.symeig(A, upper=upper)\n",
      "should be replaced with\n",
      "L = torch.linalg.eigvalsh(A, UPLO='U' if upper else 'L')\n",
      "and\n",
      "L, V = torch.symeig(A, eigenvectors=True)\n",
      "should be replaced with\n",
      "L, V = torch.linalg.eigh(A, UPLO='U' if upper else 'L') (Triggered internally at /opt/conda/conda-bld/pytorch_1670525551200/work/aten/src/ATen/native/BatchLinearAlgebra.cpp:2794.)\n",
      "  e0,v = torch.symeig(x0,eigenvectors=True,upper=True)\n"
     ]
    }
   ],
   "source": [
    "%%time\n",
    "DTYPE = torch.float64\n",
    "torch.set_default_dtype(DTYPE)\n",
    "files = [\n",
    "        'C380.xyz',\n",
    "        ]\n",
    "\n",
    "species, coordinates = read_xyz(files)\n",
    "species = torch.as_tensor(species,dtype=torch.int64, device=device)[:]\n",
    "coordinates = torch.tensor(coordinates, device=device, dtype=DTYPE)[:]\n",
    "\n",
    "const = Constants().to(device)\n",
    "\n",
    "elements = [0]+sorted(set(species.reshape(-1).tolist()))\n",
    "\n",
    "# parapeters dict for KSA-XL-BOMD needs to be passed to 'scf_converger'\n",
    "xl_bomd_params={'k':6, 'max_rank':3, 'err_threshold':0.0, 'T_el':1500}\n",
    "\n",
    "seqm_parameters = {\n",
    "                   'method' : 'AM1',  # AM1, MNDO, PM#\n",
    "                   'scf_eps' : 1.0e-6,  # unit eV, change of electric energy, as nuclear energy doesnt' change during SCF\n",
    "                   'scf_converger' : [3,xl_bomd_params], # converger used for scf loop\n",
    "                                         # [0, 0.1], [0, alpha] constant mixing, P = alpha*P + (1.0-alpha)*Pnew\n",
    "                                         # [1], adaptive mixing\n",
    "                                         # [2], adaptive mixing, then pulay\n",
    "                                         # [3, xl_bomd_params], low-rank KSA scf optimization\n",
    "                   'sp2' : [False, 1.0e-5],  # whether to use sp2 algorithm in scf loop,\n",
    "                                            #[True, eps] or [False], eps for SP2 conve criteria\n",
    "                   'elements' : elements, #[0,1,6,8],\n",
    "                   'learned' : [], # learned parameters name list, e.g ['U_ss']\n",
    "                   #'parameter_file_dir' : '../seqm/params/', # file directory for other required parameters\n",
    "                   'pair_outer_cutoff' : 1.0e10, # consistent with the unit on coordinates\n",
    "                   'eig' : True\n",
    "                   }\n",
    "\n",
    "molecules = Molecule(const, seqm_parameters, coordinates, species).to(device)\n",
    "\n",
    "### Create electronic structure driver:\n",
    "esdriver = Electronic_Structure(seqm_parameters).to(device)\n",
    "\n",
    "### Run esdriver on molecules:\n",
    "esdriver(molecules)\n"
   ]
  },
  {
   "cell_type": "code",
   "execution_count": null,
   "id": "72f63ab4-0c1d-49bf-9dbd-43c4200e98c0",
   "metadata": {},
   "outputs": [],
   "source": []
  }
 ],
 "metadata": {
  "kernelspec": {
   "display_name": "pyseqm_4",
   "language": "python",
   "name": "pyseqm_4"
  },
  "language_info": {
   "codemirror_mode": {
    "name": "ipython",
    "version": 3
   },
   "file_extension": ".py",
   "mimetype": "text/x-python",
   "name": "python",
   "nbconvert_exporter": "python",
   "pygments_lexer": "ipython3",
   "version": "3.9.15"
  }
 },
 "nbformat": 4,
 "nbformat_minor": 5
}
