{
 "cells": [
  {
   "cell_type": "markdown",
   "id": "179f6b90-4cf5-41cb-9593-cc7781de4b8c",
   "metadata": {},
   "source": [
    "# low-rank Krylov Subspace Approximation (KSA) for density matrix SCF optimization"
   ]
  },
  {
   "cell_type": "code",
   "execution_count": 8,
   "id": "53269fe9-f8ed-469a-aa52-aa7d01642fcf",
   "metadata": {},
   "outputs": [],
   "source": [
    "import torch\n",
    "from seqm.seqm_functions.constants import Constants\n",
    "from seqm.Molecule import Molecule\n",
    "from seqm.ElectronicStructure import Electronic_Structure\n",
    "from seqm.seqm_functions.read_xyz import read_xyz\n",
    "\n",
    "if torch.cuda.is_available():\n",
    "    device = torch.device('cuda')\n",
    "else:\n",
    "    device = torch.device('cpu')"
   ]
  },
  {
   "cell_type": "code",
   "execution_count": 9,
   "id": "3dfaf0c0-4c73-49df-9790-af2c39bbb384",
   "metadata": {},
   "outputs": [
    {
     "name": "stdout",
     "output_type": "stream",
     "text": [
      "CPU times: user 4min 2s, sys: 3.75 s, total: 4min 5s\n",
      "Wall time: 18.1 s\n"
     ]
    }
   ],
   "source": [
    "%%time\n",
    "DTYPE = torch.float64\n",
    "torch.set_default_dtype(DTYPE)\n",
    "files = [\n",
    "        'C380.xyz',\n",
    "        ]\n",
    "\n",
    "species, coordinates = read_xyz(files)\n",
    "species = torch.as_tensor(species,dtype=torch.int64, device=device)[:]\n",
    "coordinates = torch.tensor(coordinates, device=device, dtype=DTYPE)[:]\n",
    "\n",
    "const = Constants().to(device)\n",
    "\n",
    "elements = [0]+sorted(set(species.reshape(-1).tolist()))\n",
    "\n",
    "# parapeters dict for KSA-XL-BOMD needs to be passed to 'scf_converger'\n",
    "xl_bomd_params={'k':6, 'max_rank':3, 'err_threshold':0.0, 'T_el':1500}\n",
    "\n",
    "seqm_parameters = {\n",
    "                   'method' : 'AM1',  # AM1, MNDO, PM#\n",
    "                   'scf_eps' : 1.0e-6,  # unit eV, change of electric energy, as nuclear energy doesnt' change during SCF\n",
    "                   'scf_converger' : [3,xl_bomd_params], # converger used for scf loop\n",
    "                                         # [0, 0.1], [0, alpha] constant mixing, P = alpha*P + (1.0-alpha)*Pnew\n",
    "                                         # [1], adaptive mixing\n",
    "                                         # [2], adaptive mixing, then pulay\n",
    "                                         # [3, xl_bomd_params], low-rank KSA scf optimization\n",
    "                   'sp2' : [False, 1.0e-5],  # whether to use sp2 algorithm in scf loop,\n",
    "                                            #[True, eps] or [False], eps for SP2 conve criteria\n",
    "                   'elements' : elements, #[0,1,6,8],\n",
    "                   'learned' : [], # learned parameters name list, e.g ['U_ss']\n",
    "                   #'parameter_file_dir' : '../seqm/params/', # file directory for other required parameters\n",
    "                   'pair_outer_cutoff' : 1.0e10, # consistent with the unit on coordinates\n",
    "                   'eig' : True\n",
    "                   }\n",
    "\n",
    "molecules = Molecule(const, seqm_parameters, coordinates, species).to(device)\n",
    "\n",
    "### Create electronic structure driver:\n",
    "esdriver = Electronic_Structure(seqm_parameters).to(device)\n",
    "\n",
    "### Run esdriver on molecules:\n",
    "esdriver(molecules)\n"
   ]
  },
  {
   "cell_type": "code",
   "execution_count": 10,
   "id": "72f63ab4-0c1d-49bf-9dbd-43c4200e98c0",
   "metadata": {},
   "outputs": [
    {
     "name": "stdout",
     "output_type": "stream",
     "text": [
      " Total Energy (eV):\n",
      " tensor([-48587.7154], device='cuda:0')\n",
      "\n",
      " Electronic Energy (eV):  tensor([-1787645.6602], device='cuda:0')\n",
      "\n",
      " Nuclear Energy (eV):\n",
      " tensor([1739057.9448], device='cuda:0')\n",
      "\n",
      " Heat of Formation (ev):\n",
      " tensor([138.2180], device='cuda:0')\n",
      "\n",
      " HOMO-LUMO gap (eV):\n",
      " tensor([[2.7302]], device='cuda:0')\n",
      "\n",
      " Forces (eV/A):\n",
      " tensor([[[-1.1824e-04,  2.9804e-04, -5.9886e-04],\n",
      "         [-6.8664e-04,  2.0150e-04, -3.7463e-04],\n",
      "         [ 1.2534e-04,  3.0341e-04, -4.4419e-04],\n",
      "         ...,\n",
      "         [-3.7704e-04, -8.6599e-04, -9.3367e-04],\n",
      "         [ 6.4111e-04, -3.8037e-04,  5.6029e-04],\n",
      "         [-1.9480e-03,  1.0827e-03, -5.3333e-05]]], device='cuda:0')\n"
     ]
    }
   ],
   "source": [
    "print(' Total Energy (eV):\\n', molecules.Etot)\n",
    "print('\\n Electronic Energy (eV): ', molecules.Eelec)\n",
    "print('\\n Nuclear Energy (eV):\\n', molecules.Enuc)\n",
    "print('\\n Heat of Formation (ev):\\n', molecules.Hf)\n",
    "print('\\n HOMO-LUMO gap (eV):\\n', molecules.e_gap)\n",
    "print('\\n Forces (eV/A):\\n', molecules.force)"
   ]
  }
 ],
 "metadata": {
  "kernelspec": {
   "display_name": "pyseqm_4",
   "language": "python",
   "name": "pyseqm_4"
  },
  "language_info": {
   "codemirror_mode": {
    "name": "ipython",
    "version": 3
   },
   "file_extension": ".py",
   "mimetype": "text/x-python",
   "name": "python",
   "nbconvert_exporter": "python",
   "pygments_lexer": "ipython3",
   "version": "3.9.15"
  }
 },
 "nbformat": 4,
 "nbformat_minor": 5
}
