{
 "cells": [
  {
   "attachments": {},
   "cell_type": "markdown",
   "id": "6c88f6b0-f6cc-4ab9-b0e6-3ab3e95cd977",
   "metadata": {},
   "source": [
    "# Krylov Subspace Approximation XL-BOMD (KSA-XL-BOMD)\n",
    "### see https://pubs.acs.org/doi/full/10.1021/acs.jctc.0c00264 for details."
   ]
  },
  {
   "cell_type": "code",
   "execution_count": 11,
   "id": "2abd45e9-9b13-40a1-b3ae-730270169cfd",
   "metadata": {},
   "outputs": [],
   "source": [
    "import torch\n",
    "from seqm.seqm_functions.constants import Constants\n",
    "from seqm.Molecule import Molecule\n",
    "from seqm.MolecularDynamics import XL_BOMD_LR_MD\n",
    "\n",
    "torch.set_default_dtype(torch.float64)\n",
    "if torch.cuda.is_available():\n",
    "    device = torch.device('cuda')\n",
    "else:\n",
    "    device = torch.device('cpu')"
   ]
  },
  {
   "cell_type": "code",
   "execution_count": 12,
   "id": "90a457d9-7eff-4e0b-8e77-3b19cc54fdf7",
   "metadata": {},
   "outputs": [
    {
     "name": "stdout",
     "output_type": "stream",
     "text": [
      "Step,    Temp,    E(kinetic),  E(potential),  E(total)\n",
      "     1   280.01   1.447747e-01 -1.350262e+00 -1.205487e+00 ||    377.92   1.954009e-01 1.466852e+00 1.662253e+00 || \n",
      "     2   241.13   1.246739e-01 -1.330652e+00 -1.205978e+00 ||    338.43   1.749812e-01 1.487071e+00 1.662052e+00 || \n",
      "     3   192.53   9.954740e-02 -1.305245e+00 -1.205698e+00 ||    328.68   1.699414e-01 1.492090e+00 1.662032e+00 || \n",
      "     4   140.56   7.267445e-02 -1.277607e+00 -1.204932e+00 ||    347.27   1.795505e-01 1.482432e+00 1.661983e+00 || \n",
      "     5    91.24   4.717287e-02 -1.251874e+00 -1.204701e+00 ||    388.91   2.010795e-01 1.460582e+00 1.661662e+00 || \n",
      "     6    50.89   2.631291e-02 -1.230833e+00 -1.204520e+00 ||    445.67   2.304285e-01 1.430973e+00 1.661401e+00 || \n",
      "     7    25.21   1.303664e-02 -1.217585e+00 -1.204548e+00 ||    507.97   2.626398e-01 1.398335e+00 1.660974e+00 || \n",
      "     8    17.43   9.010392e-03 -1.213532e+00 -1.204522e+00 ||    565.87   2.925761e-01 1.367954e+00 1.660530e+00 || \n",
      "     9    27.69   1.431493e-02 -1.218900e+00 -1.204585e+00 ||    610.65   3.157295e-01 1.344433e+00 1.660163e+00 || \n",
      "    10    53.79   2.781329e-02 -1.232641e+00 -1.204828e+00 ||    635.74   3.287042e-01 1.331349e+00 1.660054e+00 || \n",
      "CPU times: user 3.79 s, sys: 32.1 ms, total: 3.82 s\n",
      "Wall time: 3.81 s\n"
     ]
    }
   ],
   "source": [
    "%%time\n",
    "torch.manual_seed(0)\n",
    "\n",
    "species = torch.as_tensor([[8,6,1,1],[5,1,1,1]],dtype=torch.int64, device=device)[:]\n",
    "coordinates = torch.tensor([\n",
    "                  [\n",
    "                   [ 0.00,  0.0,  0.0],\n",
    "                   [ 1.22,  0.0,  0.0],\n",
    "                   [ 1.82,  0.94, 0.0],\n",
    "                   [ 1.82, -0.94, 0.0]\n",
    "                  ],\n",
    "                  [\n",
    "                   [ 0.00,  0.00,  0.00],\n",
    "                   [ 1.20,  0.00,  0.00],\n",
    "                   [-0.60,  1.03,  0.00],\n",
    "                   [-0.60, -1.03,  0.00]\n",
    "                  ]\n",
    "                 ], device=device)[:]\n",
    "\n",
    "const = Constants().to(device)\n",
    "\n",
    "elements = [0]+sorted(set(species.reshape(-1).tolist()))\n",
    "seqm_parameters = {\n",
    "                   'method' : 'AM1',  # AM1, MNDO, PM#\n",
    "                   'scf_eps' : 1.0e-6,  # unit eV, change of electric energy, as nuclear energy doesnt' change during SCF\n",
    "                   'scf_converger' : [2,0.0], # converger used for scf loop\n",
    "                                         # [0, 0.1], [0, alpha] constant mixing, P = alpha*P + (1.0-alpha)*Pnew\n",
    "                                         # [1], adaptive mixing\n",
    "                                         # [2], adaptive mixing, then pulay\n",
    "                   'sp2' : [False, 1.0e-5],  # whether to use sp2 algorithm in scf loop,\n",
    "                                            #[True, eps] or [False], eps for SP2 conve criteria\n",
    "                   'elements' : elements, #[0,1,6,8],\n",
    "                   'learned' : [], # learned parameters name list, e.g ['U_ss']\n",
    "                   #'parameter_file_dir' : '../seqm/params/', # file directory for other required parameters\n",
    "                   'pair_outer_cutoff' : 1.0e10, # consistent with the unit on coordinates\n",
    "                   'eig' : True\n",
    "                   }\n",
    "\n",
    "output={'molid':[0, 1], 'thermo':1, 'dump':1, 'prefix':'Outputs/XL-BOMD-LR'}\n",
    "molecule = Molecule(const, seqm_parameters, coordinates, species).to(device)\n",
    "\n",
    "# Set max_rank for a low-rank approximation. See https://pubs.acs.org/doi/full/10.1021/acs.jctc.0c00264 for details.\n",
    "# Set err_threshold for low-rank approximation error tollerance. Set err_threshold=0.0 to keep max_rank constant.\n",
    "# T_el - electronic temperature for thermmal HF.\n",
    "# Set k for the dissipative electronic force term. See https://aip.scitation.org/doi/full/10.1063/1.3148075 for details.\n",
    "\n",
    "md = XL_BOMD_LR_MD(max_rank = 3, err_threshold=0.0, T_el=1500, k=6,\n",
    "                   seqm_parameters=seqm_parameters, Temp=400.0, timestep=0.4, output=output).to(device)\n",
    "\n",
    "md.initialize_velocity(molecule )\n",
    "#remove center of mass velocity\n",
    "# Info_log flag generates .txt wtih additional info for every step (orbital energies, dipole)\n",
    "_ = md.run(molecule, 10, remove_com=[True, 1], Info_log=True)"
   ]
  },
  {
   "cell_type": "code",
   "execution_count": null,
   "id": "93ef0a80-599a-4e53-bdd0-b24b52ef2185",
   "metadata": {},
   "outputs": [],
   "source": []
  },
  {
   "cell_type": "code",
   "execution_count": null,
   "id": "fc30cc21-1342-4e0c-8beb-d759d6ce41b5",
   "metadata": {},
   "outputs": [],
   "source": []
  }
 ],
 "metadata": {
  "kernelspec": {
   "display_name": "pyseqm_4",
   "language": "python",
   "name": "pyseqm_4"
  },
  "language_info": {
   "codemirror_mode": {
    "name": "ipython",
    "version": 3
   },
   "file_extension": ".py",
   "mimetype": "text/x-python",
   "name": "python",
   "nbconvert_exporter": "python",
   "pygments_lexer": "ipython3",
   "version": "3.9.15"
  }
 },
 "nbformat": 4,
 "nbformat_minor": 5
}
