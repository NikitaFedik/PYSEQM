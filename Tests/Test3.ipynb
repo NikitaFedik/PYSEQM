{
 "cells": [
  {
   "cell_type": "markdown",
   "id": "92d836e4-8b96-4f27-9183-4101b05062d2",
   "metadata": {},
   "source": [
    "# Example of BOMD MD (NVE, NVT)"
   ]
  },
  {
   "cell_type": "code",
   "execution_count": 10,
   "id": "a5d16b3b-5b0b-49b7-998e-957f67350f12",
   "metadata": {},
   "outputs": [],
   "source": [
    "import torch\n",
    "from seqm.seqm_functions.constants import Constants\n",
    "from seqm.Molecule import Molecule\n",
    "from seqm.MolecularDynamics import Molecular_Dynamics_Basic, Molecular_Dynamics_Langevin\n",
    "from seqm.seqm_functions.read_xyz import read_xyz\n",
    "\n",
    "torch.set_default_dtype(torch.float64)\n",
    "if torch.cuda.is_available():\n",
    "    device = torch.device('cuda')\n",
    "else:\n",
    "    device = torch.device('cpu')"
   ]
  },
  {
   "cell_type": "code",
   "execution_count": 14,
   "id": "1104f502-e6e6-46c0-9829-740177ef7b48",
   "metadata": {},
   "outputs": [
    {
     "name": "stdout",
     "output_type": "stream",
     "text": [
      "Step,    Temp,    E(kinetic),  E(potential),  E(total)\n",
      "     1   303.73   1.570421e-01 -1.363987e+00 -1.206945e+00 ||    258.65   1.337346e-01 1.415662e+00 1.549397e+00 || \n",
      "     2   296.18   1.531350e-01 -1.360048e+00 -1.206913e+00 ||    311.06   1.608290e-01 1.388264e+00 1.549093e+00 || \n",
      "     3   278.40   1.439427e-01 -1.350787e+00 -1.206844e+00 ||    374.59   1.936758e-01 1.355031e+00 1.548706e+00 || \n",
      "     4   252.61   1.306074e-01 -1.337358e+00 -1.206750e+00 ||    438.22   2.265798e-01 1.321721e+00 1.548301e+00 || \n",
      "     5   221.76   1.146604e-01 -1.321310e+00 -1.206649e+00 ||    490.66   2.536927e-01 1.294263e+00 1.547956e+00 || \n",
      "     6   189.06   9.775012e-02 -1.304309e+00 -1.206559e+00 ||    522.62   2.702134e-01 1.277533e+00 1.547747e+00 || \n",
      "     7   157.38   8.137028e-02 -1.287863e+00 -1.206493e+00 ||    529.01   2.735179e-01 1.274206e+00 1.547724e+00 || \n",
      "     8   128.91   6.665340e-02 -1.273109e+00 -1.206456e+00 ||    510.29   2.638427e-01 1.284040e+00 1.547882e+00 || \n",
      "     9   104.97   5.427563e-02 -1.260723e+00 -1.206447e+00 ||    472.26   2.441783e-01 1.303982e+00 1.548160e+00 || \n",
      "    10    86.03   4.448266e-02 -1.250940e+00 -1.206457e+00 ||    424.15   2.193000e-01 1.329156e+00 1.548456e+00 || \n",
      "CPU times: user 4.04 s, sys: 91.8 ms, total: 4.13 s\n",
      "Wall time: 4.12 s\n"
     ]
    }
   ],
   "source": [
    "%%time\n",
    "species = torch.as_tensor([[8,6,1,1],[5,1,1,1]],dtype=torch.int64, device=device)[:]\n",
    "coordinates = torch.tensor([\n",
    "                  [\n",
    "                   [ 0.00,  0.0,  0.0],\n",
    "                   [ 1.22,  0.0,  0.0],\n",
    "                   [ 1.82,  0.94, 0.0],\n",
    "                   [ 1.82, -0.94, 0.0]\n",
    "                  ],\n",
    "                  [\n",
    "                   [ 0.00,  0.00,  0.00],\n",
    "                   [ 1.20,  0.00,  0.00],\n",
    "                   [-0.60,  1.03,  0.00],\n",
    "                   [-0.60, -1.03,  0.00]\n",
    "                  ]\n",
    "                 ], device=device)[:]\n",
    "\n",
    "const = Constants().to(device)\n",
    "\n",
    "elements = [0]+sorted(set(species.reshape(-1).tolist()))\n",
    "seqm_parameters = {\n",
    "                   'method' : 'AM1',  # AM1, MNDO, PM#\n",
    "                   'scf_eps' : 1.0e-6,  # unit eV, change of electric energy, as nuclear energy doesnt' change during SCF\n",
    "                   'scf_converger' : [2,0.0], # converger used for scf loop\n",
    "                                         # [0, 0.1], [0, alpha] constant mixing, P = alpha*P + (1.0-alpha)*Pnew\n",
    "                                         # [1], adaptive mixing\n",
    "                                         # [2], adaptive mixing, then pulay\n",
    "                   'sp2' : [False, 1.0e-5],  # whether to use sp2 algorithm in scf loop,\n",
    "                                            #[True, eps] or [False], eps for SP2 conve criteria\n",
    "                   'elements' : elements, #[0,1,6,8],\n",
    "                   'learned' : [], # learned parameters name list, e.g ['U_ss']\n",
    "                   #'parameter_file_dir' : '../seqm/params/', # file directory for other required parameters\n",
    "                   'pair_outer_cutoff' : 1.0e10, # consistent with the unit on coordinates\n",
    "                   'eig' : True\n",
    "                   }\n",
    "\n",
    "output={'molid':[0, 1], 'thermo':1, 'dump':1, 'prefix':'Outputs/MD_BOMD_Basic'}\n",
    "molecule = Molecule(const, seqm_parameters, coordinates, species).to(device)\n",
    "\n",
    "md =  Molecular_Dynamics_Basic(seqm_parameters=seqm_parameters, Temp=400.0, timestep=0.4, output=output).to(device)\n",
    "md.initialize_velocity(molecule )\n",
    "#remove center of mass velocity\n",
    "# Info_log flag generates .txt wtih additional info for every step (orbital energies, dipole)\n",
    "_ = md.run(molecule, 10, remove_com=[True, 1], Info_log=True)"
   ]
  },
  {
   "cell_type": "markdown",
   "id": "7009434b-aff2-4218-85e2-1fcbc3e01f0b",
   "metadata": {},
   "source": [
    "## *MD_BOMD_BASIC.0.xyz* and *MD_BOMD_BASIC.1.xyz* files with general info for each step are created. Coordinates, velocities, forces and charges are recorded in the following sequence: x y z vx vy vz fx fy fz q.\n",
    "\n",
    "## *MD_BOMD_BASIC.Info.0.txt* and *MD_BOMD_BASIC.Info.1.txt* contain additional info for each step (orbital energies, dipole)."
   ]
  },
  {
   "cell_type": "code",
   "execution_count": null,
   "id": "2cecb4d9-2ab6-4635-9c9d-a1d358251ed1",
   "metadata": {},
   "outputs": [],
   "source": []
  },
  {
   "cell_type": "markdown",
   "id": "c8882565-c2e2-4ca3-9c98-d0744c222606",
   "metadata": {},
   "source": [
    "## Scale velocities to adjust kinetic energy and compenstate the energy shift"
   ]
  },
  {
   "cell_type": "code",
   "execution_count": 15,
   "id": "039fc1c6-a9b8-4bd5-a261-83c400c8c31d",
   "metadata": {},
   "outputs": [
    {
     "name": "stdout",
     "output_type": "stream",
     "text": [
      "Step,    Temp,    E(kinetic),  E(potential),  E(total)\n",
      "     1   356.37   1.842588e-01 -1.286218e-01 5.563700e-02 ||    488.19   2.524161e-01 2.128525e+00 2.380941e+00 || \n",
      "     2   459.82   2.377441e-01 -1.821071e-01 5.563700e-02 ||    591.05   3.055948e-01 2.075347e+00 2.380941e+00 || \n",
      "     3   597.46   3.089099e-01 -2.532729e-01 5.563700e-02 ||    749.68   3.876151e-01 1.993326e+00 2.380941e+00 || \n",
      "     4   773.37   3.998610e-01 -3.442240e-01 5.563700e-02 ||    948.07   4.901911e-01 1.890750e+00 2.380941e+00 || \n",
      "     5   992.97   5.134036e-01 -4.577666e-01 5.563700e-02 ||   1167.46   6.036230e-01 1.777318e+00 2.380941e+00 || \n",
      "     6  1258.54   6.507166e-01 -5.950796e-01 5.563700e-02 ||   1387.43   7.173591e-01 1.663582e+00 2.380941e+00 || \n",
      "     7  1563.94   8.086221e-01 -7.529851e-01 5.563700e-02 ||   1586.90   8.204886e-01 1.560453e+00 2.380941e+00 || \n",
      "     8  1890.80   9.776215e-01 -9.219845e-01 5.563700e-02 ||   1744.60   9.020262e-01 1.478915e+00 2.380941e+00 || \n",
      "     9  2208.27   1.141763e+00 -1.086126e+00 5.563700e-02 ||   1839.20   9.509407e-01 1.430001e+00 2.380941e+00 || \n",
      "    10  2476.93   1.280670e+00 -1.225033e+00 5.563700e-02 ||   1849.44   9.562351e-01 1.424706e+00 2.380941e+00 || \n",
      "CPU times: user 4.12 s, sys: 100 ms, total: 4.22 s\n",
      "Wall time: 4.21 s\n"
     ]
    }
   ],
   "source": [
    "%%time\n",
    "species = torch.as_tensor([[8,6,1,1],[5,1,1,1]],dtype=torch.int64, device=device)[:]\n",
    "coordinates = torch.tensor([\n",
    "                  [\n",
    "                   [ 1.40,  0.0,  0.0],\n",
    "                   [ 0.00,  0.0,  0.0],\n",
    "                   [-0.60,  0.94, 0.0],\n",
    "                   [-0.60, -0.94, 0.0]\n",
    "                  ],\n",
    "                  [\n",
    "                   [ 0.00,  0.00,  0.00],\n",
    "                   [ 1.40,  0.00,  0.00],\n",
    "                   [-0.60,  1.03,  0.00],\n",
    "                   [-0.60, -1.03,  0.00]\n",
    "                  ]\n",
    "                 ], device=device)[:]\n",
    "\n",
    "const = Constants().to(device)\n",
    "\n",
    "elements = [0]+sorted(set(species.reshape(-1).tolist()))\n",
    "seqm_parameters = {\n",
    "                   'method' : 'AM1',  # AM1, MNDO, PM#\n",
    "                   'scf_eps' : 1.0e-6,  # unit eV, change of electric energy, as nuclear energy doesnt' change during SCF\n",
    "                   'scf_converger' : [2,0.0], # converger used for scf loop\n",
    "                                         # [0, 0.1], [0, alpha] constant mixing, P = alpha*P + (1.0-alpha)*Pnew\n",
    "                                         # [1], adaptive mixing\n",
    "                                         # [2], adaptive mixing, then pulay\n",
    "                   'sp2' : [False, 1.0e-5],  # whether to use sp2 algorithm in scf loop,\n",
    "                                            #[True, eps] or [False], eps for SP2 conve criteria\n",
    "                   'elements' : elements, #[0,1,6,8],\n",
    "                   'learned' : [], # learned parameters name list, e.g ['U_ss']\n",
    "                   #'parameter_file_dir' : '../seqm/params/', # file directory for other required parameters\n",
    "                   'pair_outer_cutoff' : 1.0e10, # consistent with the unit on coordinates\n",
    "                   'eig' : True\n",
    "                   }\n",
    "\n",
    "output={'molid':[0, 1], 'thermo':1, 'dump':1, 'prefix':'Outputs/MD_BOMD_Basic_Ectrl'}\n",
    "molecule = Molecule(const, seqm_parameters, coordinates, species).to(device)\n",
    "\n",
    "md =  Molecular_Dynamics_Basic(seqm_parameters=seqm_parameters, Temp=400.0, timestep=0.4, output=output).to(device)\n",
    "md.initialize_velocity(molecule )\n",
    "#remove center of mass velocity\n",
    "# Info_log flag generates .txt wtih additional info for every step (orbital energies, dipole)\n",
    "_ = md.run(molecule, 10, control_energy_shift=True, remove_com=[True, 1], Info_log=True)"
   ]
  },
  {
   "cell_type": "code",
   "execution_count": null,
   "id": "c02e6ce5-5589-45f9-bc97-f9c802a1314a",
   "metadata": {},
   "outputs": [],
   "source": []
  },
  {
   "cell_type": "markdown",
   "id": "37fb7512-49d6-4c21-af85-74bbe7473aac",
   "metadata": {},
   "source": [
    "## Scale velocities to control temperature"
   ]
  },
  {
   "cell_type": "code",
   "execution_count": 16,
   "id": "15890b1f-7d82-4540-a295-edc2a73508b1",
   "metadata": {},
   "outputs": [
    {
     "name": "stdout",
     "output_type": "stream",
     "text": [
      "Step,    Temp,    E(kinetic),  E(potential),  E(total)\n",
      "     1   400.00   2.068160e-01 -1.770809e-01 2.973512e-02 ||    400.00   2.068160e-01 2.067105e+00 2.273921e+00 || \n",
      "     2   400.00   2.068160e-01 -2.701705e-01 -6.335446e-02 ||    400.00   2.068160e-01 1.977663e+00 2.184479e+00 || \n",
      "     3   400.00   2.068160e-01 -3.698711e-01 -1.630551e-01 ||    400.00   2.068160e-01 1.875273e+00 2.082089e+00 || \n",
      "     4   400.00   2.068160e-01 -4.734252e-01 -2.666092e-01 ||    400.00   2.068160e-01 1.768589e+00 1.975405e+00 || \n",
      "     5   400.00   2.068160e-01 -5.780569e-01 -3.712409e-01 ||    400.00   2.068160e-01 1.663527e+00 1.870343e+00 || \n",
      "     6   400.00   2.068160e-01 -6.812309e-01 -4.744149e-01 ||    400.00   2.068160e-01 1.563993e+00 1.770809e+00 || \n",
      "     7   400.00   2.068160e-01 -7.807953e-01 -5.739793e-01 ||    400.00   2.068160e-01 1.472626e+00 1.679442e+00 || \n",
      "     8   400.00   2.068160e-01 -8.750156e-01 -6.681996e-01 ||    400.00   2.068160e-01 1.391334e+00 1.598150e+00 || \n",
      "     9   400.00   2.068160e-01 -9.625439e-01 -7.557279e-01 ||    400.00   2.068160e-01 1.321636e+00 1.528452e+00 || \n",
      "    10   400.00   2.068160e-01 -1.042363e+00 -8.355467e-01 ||    400.00   2.068160e-01 1.264858e+00 1.471674e+00 || \n",
      "CPU times: user 4.08 s, sys: 83 ms, total: 4.16 s\n",
      "Wall time: 4.15 s\n"
     ]
    }
   ],
   "source": [
    "%%time\n",
    "species = torch.as_tensor([[8,6,1,1],[5,1,1,1]],dtype=torch.int64, device=device)[:]\n",
    "coordinates = torch.tensor([\n",
    "                  [\n",
    "                   [ 1.40,  0.0,  0.0],\n",
    "                   [ 0.00,  0.0,  0.0],\n",
    "                   [-0.60,  0.94, 0.0],\n",
    "                   [-0.60, -0.94, 0.0]\n",
    "                  ],\n",
    "                  [\n",
    "                   [ 0.00,  0.00,  0.00],\n",
    "                   [ 1.40,  0.00,  0.00],\n",
    "                   [-0.60,  1.03,  0.00],\n",
    "                   [-0.60, -1.03,  0.00]\n",
    "                  ]\n",
    "                 ], device=device)[:]\n",
    "\n",
    "const = Constants().to(device)\n",
    "\n",
    "elements = [0]+sorted(set(species.reshape(-1).tolist()))\n",
    "seqm_parameters = {\n",
    "                   'method' : 'AM1',  # AM1, MNDO, PM#\n",
    "                   'scf_eps' : 1.0e-6,  # unit eV, change of electric energy, as nuclear energy doesnt' change during SCF\n",
    "                   'scf_converger' : [2,0.0], # converger used for scf loop\n",
    "                                         # [0, 0.1], [0, alpha] constant mixing, P = alpha*P + (1.0-alpha)*Pnew\n",
    "                                         # [1], adaptive mixing\n",
    "                                         # [2], adaptive mixing, then pulay\n",
    "                   'sp2' : [False, 1.0e-5],  # whether to use sp2 algorithm in scf loop,\n",
    "                                            #[True, eps] or [False], eps for SP2 conve criteria\n",
    "                   'elements' : elements, #[0,1,6,8],\n",
    "                   'learned' : [], # learned parameters name list, e.g ['U_ss']\n",
    "                   #'parameter_file_dir' : '../seqm/params/', # file directory for other required parameters\n",
    "                   'pair_outer_cutoff' : 1.0e10, # consistent with the unit on coordinates\n",
    "                   'eig' : True\n",
    "                   }\n",
    "\n",
    "output={'molid':[0, 1], 'thermo':1, 'dump':1, 'prefix':'Outputs/MD_BOMD_Basic_Tctrl'}\n",
    "molecule = Molecule(const, seqm_parameters, coordinates, species).to(device)\n",
    "\n",
    "md =  Molecular_Dynamics_Basic(seqm_parameters=seqm_parameters, Temp=400.0, timestep=0.4, output=output).to(device)\n",
    "md.initialize_velocity(molecule )\n",
    "#remove center of mass velocity\n",
    "# Info_log flag generates .txt wtih additional info for every step (orbital energies, dipole)\n",
    "_ = md.run(molecule, 10, scale_vel=[1,400], remove_com=[True, 1], Info_log=True)"
   ]
  },
  {
   "cell_type": "code",
   "execution_count": null,
   "id": "21bef66a-303d-45ad-85d0-59c40213fa45",
   "metadata": {},
   "outputs": [],
   "source": []
  }
 ],
 "metadata": {
  "kernelspec": {
   "display_name": "pyseqm_4",
   "language": "python",
   "name": "pyseqm_4"
  },
  "language_info": {
   "codemirror_mode": {
    "name": "ipython",
    "version": 3
   },
   "file_extension": ".py",
   "mimetype": "text/x-python",
   "name": "python",
   "nbconvert_exporter": "python",
   "pygments_lexer": "ipython3",
   "version": "3.9.15"
  }
 },
 "nbformat": 4,
 "nbformat_minor": 5
}
