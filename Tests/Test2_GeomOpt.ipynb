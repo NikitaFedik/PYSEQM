{
 "cells": [
  {
   "cell_type": "markdown",
   "id": "fcfb8b0a-1b5d-4de4-97f1-9228b2dffcbc",
   "metadata": {},
   "source": [
    "# Example of geometry optimization\n",
    "## Batch of two molecules"
   ]
  },
  {
   "cell_type": "code",
   "execution_count": 1,
   "id": "af25061b-d7f2-407c-8cb0-130049fcc6cb",
   "metadata": {},
   "outputs": [],
   "source": [
    "import torch\n",
    "from seqm.seqm_functions.constants import Constants\n",
    "from seqm.Molecule import Molecule\n",
    "from seqm.MolecularDynamics import Geometry_Optimization_SD\n",
    "from seqm.seqm_functions.read_xyz import read_xyz\n",
    "from seqm.seqm_functions.save_xyz import save_xyz\n",
    "\n",
    "\n",
    "torch.set_default_dtype(torch.float64)\n",
    "if torch.cuda.is_available():\n",
    "    device = torch.device('cuda')\n",
    "else:\n",
    "    device = torch.device('cpu')"
   ]
  },
  {
   "cell_type": "code",
   "execution_count": 4,
   "id": "b30a529c-d535-4226-915e-b4aa69cd4600",
   "metadata": {
    "scrolled": true,
    "tags": []
   },
   "outputs": [
    {
     "name": "stdout",
     "output_type": "stream",
     "text": [
      "Step,  Max_Force,      Etot(eV),     dE(eV)\n",
      "1      1.796659e+00 ||-1.362050e+00 -1.362050e+00 ||-1.362050e+00 -1.362050e+00 ||-2.392370e+00 -2.392370e+00 \n",
      "2      1.400939e+00 ||-1.363489e+00 -1.439058e-03 ||-1.363489e+00 -1.439058e-03 ||-2.449955e+00 -5.758453e-02 \n",
      "3      1.153429e+00 ||-1.364422e+00 -9.335565e-04 ||-1.364422e+00 -9.335565e-04 ||-2.485697e+00 -3.574174e-02 \n",
      "4      9.636769e-01 ||-1.364870e+00 -4.476099e-04 ||-1.364870e+00 -4.476099e-04 ||-2.510563e+00 -2.486624e-02 \n",
      "5      8.074885e-01 ||-1.365146e+00 -2.757984e-04 ||-1.365146e+00 -2.757984e-04 ||-2.528016e+00 -1.745273e-02 \n",
      "6      6.766222e-01 ||-1.365288e+00 -1.425080e-04 ||-1.365288e+00 -1.425080e-04 ||-2.540260e+00 -1.224393e-02 \n",
      "7      5.666936e-01 ||-1.365373e+00 -8.517386e-05 ||-1.365373e+00 -8.517386e-05 ||-2.548841e+00 -8.581488e-03 \n",
      "8      4.744288e-01 ||-1.365419e+00 -4.614317e-05 ||-1.365419e+00 -4.614317e-05 ||-2.554851e+00 -6.010428e-03 \n",
      "9      3.970775e-01 ||-1.365447e+00 -2.722724e-05 ||-1.365447e+00 -2.722724e-05 ||-2.559059e+00 -4.207889e-03 \n",
      "10      3.322842e-01 ||-1.365462e+00 -1.578683e-05 ||-1.365462e+00 -1.578683e-05 ||-2.562005e+00 -2.945247e-03 \n",
      "11      2.780394e-01 ||-1.365472e+00 -9.162780e-06 ||-1.365472e+00 -9.162780e-06 ||-2.564066e+00 -2.061260e-03 \n",
      "12      2.326406e-01 ||-1.365477e+00 -4.916342e-06 ||-1.365477e+00 -4.916342e-06 ||-2.565508e+00 -1.442553e-03 \n",
      "13      1.946497e-01 ||-1.365479e+00 -2.082459e-06 ||-1.365479e+00 -2.082459e-06 ||-2.566518e+00 -1.009578e-03 \n",
      "14      1.628642e-01 ||-1.365480e+00 -1.808635e-06 ||-1.365480e+00 -1.808635e-06 ||-2.567225e+00 -7.065737e-04 \n",
      "15      1.362741e-01 ||-1.365482e+00 -1.259854e-06 ||-1.365482e+00 -1.259854e-06 ||-2.567719e+00 -4.949214e-04 \n",
      "16      1.140214e-01 ||-1.365483e+00 -9.809171e-07 ||-1.365483e+00 -9.809171e-07 ||-2.568066e+00 -3.460643e-04 \n",
      "17      9.475472e-02 ||-1.365483e+00 -6.384913e-07 ||-1.365483e+00 -6.384913e-07 ||-2.568307e+00 -2.418671e-04 \n",
      "18      7.916553e-02 ||-1.365484e+00 -2.935393e-07 ||-1.365484e+00 -2.935393e-07 ||-2.568476e+00 -1.682199e-04 \n",
      "19      6.628334e-02 ||-1.365484e+00 -2.986038e-07 ||-1.365484e+00 -2.986038e-07 ||-2.568594e+00 -1.180320e-04 \n",
      "20      5.555091e-02 ||-1.365484e+00 -2.572273e-07 ||-1.365484e+00 -2.572273e-07 ||-2.568677e+00 -8.297735e-05 \n",
      "21      4.657747e-02 ||-1.365484e+00 -2.022957e-07 ||-1.365484e+00 -2.022957e-07 ||-2.568735e+00 -5.836276e-05 \n",
      "22      3.906220e-02 ||-1.365485e+00 -1.970590e-07 ||-1.365485e+00 -1.970590e-07 ||-2.568776e+00 -4.105696e-05 \n",
      "23      3.239539e-02 ||-1.365485e+00 -1.472821e-07 ||-1.365485e+00 -1.472821e-07 ||-2.568805e+00 -2.871466e-05 \n",
      "24      2.702765e-02 ||-1.365485e+00 -1.486335e-07 ||-1.365485e+00 -1.486335e-07 ||-2.568825e+00 -1.999862e-05 \n",
      "25      2.264466e-02 ||-1.365485e+00 -1.097402e-07 ||-1.365485e+00 -1.097402e-07 ||-2.568839e+00 -1.410708e-05 \n",
      "26      1.902307e-02 ||-1.365485e+00 -1.123985e-07 ||-1.365485e+00 -1.123985e-07 ||-2.568849e+00 -9.999642e-06 \n",
      "27      1.600737e-02 ||-1.365485e+00 -8.288083e-08 ||-1.365485e+00 -8.288083e-08 ||-2.568856e+00 -7.103674e-06 \n",
      "28      1.348387e-02 ||-1.365485e+00 -8.557356e-08 ||-1.365485e+00 -8.557356e-08 ||-2.568861e+00 -5.051813e-06 \n",
      "29      1.136570e-02 ||-1.365485e+00 -6.329731e-08 ||-1.365485e+00 -6.329731e-08 ||-2.568865e+00 -3.594638e-06 \n",
      "30      9.966700e-03 ||-1.365485e+00 -6.566938e-08 ||-1.365485e+00 -6.566938e-08 ||-2.568867e+00 -2.558574e-06 \n",
      "converged with 30 step, Max Force = 9.966700e-03 (eV/Ang), dE = -8.966376e-07 (eV)\n",
      "CPU times: user 10.4 s, sys: 175 ms, total: 10.6 s\n",
      "Wall time: 10.5 s\n"
     ]
    }
   ],
   "source": [
    "%%time\n",
    "\n",
    "species = torch.as_tensor([[8,6,1,1],\n",
    "                           [8,6,1,1],\n",
    "                           [8,1,1,0]], # zero-padding for batching\n",
    "                          dtype=torch.int64, device=device)\n",
    "\n",
    "coordinates = torch.tensor([\n",
    "                              [\n",
    "                               [0.00,    0.00,    0.00],\n",
    "                               [1.22,    0.00,    0.00],\n",
    "                               [1.82,    0.94,    0.00],\n",
    "                               [1.82,   -0.94,    0.00]\n",
    "                              ],\n",
    "                              [\n",
    "                               [0.00,    0.00,    0.00],\n",
    "                               [1.22,    0.00,    0.00],\n",
    "                               [1.82,    0.94,    0.00],\n",
    "                               [1.82,   -0.94,    0.00]\n",
    "                              ],\n",
    "                              [\n",
    "                               [ 0.00,    0.00,    0.00],\n",
    "                               [ 0.96,    0.00,    0.00],\n",
    "                               [-0.45,   -0.57,    0.67],\n",
    "                               [0.0,0.0,0.0]            # zero-padding for batching\n",
    "                              ]\n",
    "                            ], device=device)\n",
    "\n",
    "const = Constants().to(device)\n",
    "#may need to add scaling factor for length and energy on const, check constants.py\n",
    "\n",
    "elements = [0]+sorted(set(species.reshape(-1).tolist()))\n",
    "seqm_parameters = {\n",
    "                   'method' : 'AM1',  # AM1, MNDO, PM#\n",
    "                   'scf_eps' : 1.0e-6,  # unit eV, change of electric energy, as nuclear energy doesnt' change during SCF\n",
    "                   'scf_converger' : [2,0.0], # converger used for scf loop\n",
    "                                         # [0, 0.1], [0, alpha] constant mixing, P = alpha*P + (1.0-alpha)*Pnew\n",
    "                                         # [1], adaptive mixing\n",
    "                                         # [2], adaptive mixing, then pulay\n",
    "                   'sp2' : [False, 1.0e-5],  # whether to use sp2 algorithm in scf loop,\n",
    "                                            #[True, eps] or [False], eps for SP2 conve criteria\n",
    "                   'elements' : elements, #[0,1,6,8],\n",
    "                   'learned' : [], # learned parameters name list, e.g ['U_ss']\n",
    "                   #'parameter_file_dir' : '../seqm/params/', # file directory for other required parameters\n",
    "                   'pair_outer_cutoff' : 1.0e10, # consistent with the unit on coordinates\n",
    "                   'eig' : True\n",
    "                   }\n",
    "\n",
    "molecule = Molecule(const, seqm_parameters, coordinates, species).to(device)\n",
    "\n",
    "opt =  Geometry_Optimization_SD(seqm_parameters, alpha=0.008, force_tol=1.0e-2, max_evl=400).to(device)\n",
    "max_force, dE =  opt.run(molecule)"
   ]
  },
  {
   "cell_type": "markdown",
   "id": "154e82a3-bb82-4cb4-ba73-e680ce649487",
   "metadata": {},
   "source": [
    "### Final forces and optimized geometry"
   ]
  },
  {
   "cell_type": "code",
   "execution_count": 7,
   "id": "5d4a465c-c235-4388-bffd-ce3182b5a51a",
   "metadata": {},
   "outputs": [
    {
     "data": {
      "text/plain": [
       "tensor([[[ 9.9667e-03, -2.8699e-14, -4.3301e-15],\n",
       "         [-9.4592e-03,  1.8697e-13,  2.6211e-15],\n",
       "         [-2.5373e-04,  1.3308e-03,  4.2835e-15],\n",
       "         [-2.5373e-04, -1.3308e-03, -2.5745e-15]],\n",
       "\n",
       "        [[ 9.9667e-03, -2.8699e-14, -4.3301e-15],\n",
       "         [-9.4592e-03,  1.8697e-13,  2.6211e-15],\n",
       "         [-2.5373e-04,  1.3308e-03,  4.2835e-15],\n",
       "         [-2.5373e-04, -1.3308e-03, -2.5745e-15]],\n",
       "\n",
       "        [[-3.3919e-03,  3.5531e-03, -4.1765e-03],\n",
       "         [-6.1924e-03, -4.9384e-03,  5.8048e-03],\n",
       "         [ 9.5843e-03,  1.3853e-03, -1.6283e-03],\n",
       "         [-0.0000e+00, -0.0000e+00, -0.0000e+00]]], device='cuda:0')"
      ]
     },
     "execution_count": 7,
     "metadata": {},
     "output_type": "execute_result"
    }
   ],
   "source": [
    "molecule.force"
   ]
  },
  {
   "cell_type": "code",
   "execution_count": 8,
   "id": "a504df8b-e33d-4782-868c-c4e086d3bc2d",
   "metadata": {},
   "outputs": [
    {
     "data": {
      "text/plain": [
       "tensor([[[-1.5705e-03, -4.3565e-16,  4.1913e-16],\n",
       "         [ 1.2257e+00,  1.4420e-15, -1.5915e-16],\n",
       "         [ 1.8180e+00,  9.3933e-01, -1.7557e-16],\n",
       "         [ 1.8180e+00, -9.3933e-01, -8.4408e-17]],\n",
       "\n",
       "        [[-1.5705e-03, -4.3565e-16,  4.1913e-16],\n",
       "         [ 1.2257e+00,  1.4420e-15, -1.5915e-16],\n",
       "         [ 1.8180e+00,  9.3933e-01, -1.7557e-16],\n",
       "         [ 1.8180e+00, -9.3933e-01, -8.4408e-17]],\n",
       "\n",
       "        [[-3.8492e-02,  2.8403e-02, -3.3386e-02],\n",
       "         [ 9.1673e-01, -4.1681e-02,  4.8993e-02],\n",
       "         [-3.6823e-01, -5.5672e-01,  6.5439e-01],\n",
       "         [ 0.0000e+00,  0.0000e+00,  0.0000e+00]]], device='cuda:0',\n",
       "       requires_grad=True)"
      ]
     },
     "execution_count": 8,
     "metadata": {},
     "output_type": "execute_result"
    }
   ],
   "source": [
    "molecule.coordinates"
   ]
  },
  {
   "cell_type": "markdown",
   "id": "c8cffcd0-cef3-46e3-adca-f480ac24bd2a",
   "metadata": {
    "tags": []
   },
   "source": [
    "### Save optimized geometries to .xyz files without final forces."
   ]
  },
  {
   "cell_type": "code",
   "execution_count": 9,
   "id": "743749ab-4b83-4e80-9187-ae058890ee07",
   "metadata": {},
   "outputs": [],
   "source": [
    "save_xyz(molecule, 'XYZ', Forces=False)"
   ]
  },
  {
   "cell_type": "code",
   "execution_count": null,
   "id": "6a94fd53-d51e-459c-b75e-c6f592c56e28",
   "metadata": {},
   "outputs": [],
   "source": []
  },
  {
   "cell_type": "markdown",
   "id": "7135cc73-c007-421f-a320-6d78fc013113",
   "metadata": {},
   "source": [
    "## Reading starting geometries from .xyz\n",
    "### Only molecules of the same length are currently supported for batched xyz_reader."
   ]
  },
  {
   "cell_type": "code",
   "execution_count": 10,
   "id": "6a917094-7115-4f17-9d7d-b851c79551bd",
   "metadata": {
    "scrolled": true,
    "tags": []
   },
   "outputs": [
    {
     "name": "stdout",
     "output_type": "stream",
     "text": [
      "Step,  Max_Force,      Etot(eV),     dE(eV)\n",
      "1      6.239775e-01 ||4.242794e+00 4.242794e+00 ||4.242794e+00 4.242794e+00 \n",
      "2      3.792450e-01 ||4.186331e+00 -5.646306e-02 ||4.186331e+00 -5.646306e-02 \n",
      "3      1.358504e-01 ||4.178392e+00 -7.939291e-03 ||4.178391e+00 -7.939486e-03 \n",
      "4      1.011021e-01 ||4.176500e+00 -1.891369e-03 ||4.176504e+00 -1.887698e-03 \n",
      "5      6.815978e-02 ||4.175762e+00 -7.386139e-04 ||4.175764e+00 -7.399696e-04 \n",
      "6      5.569419e-02 ||4.175298e+00 -4.631112e-04 ||4.175302e+00 -4.619211e-04 \n",
      "7      4.486743e-02 ||4.174941e+00 -3.577596e-04 ||4.174943e+00 -3.591308e-04 \n",
      "8      3.946914e-02 ||4.174646e+00 -2.943463e-04 ||4.174647e+00 -2.952524e-04 \n",
      "9      3.851805e-02 ||4.174399e+00 -2.478058e-04 ||4.174399e+00 -2.481736e-04 \n",
      "10      3.467146e-02 ||4.174187e+00 -2.118280e-04 ||4.174187e+00 -2.117687e-04 \n",
      "11      3.326823e-02 ||4.174005e+00 -1.817669e-04 ||4.174005e+00 -1.821376e-04 \n",
      "12      3.045950e-02 ||4.173848e+00 -1.573237e-04 ||4.173848e+00 -1.574436e-04 \n",
      "13      2.876049e-02 ||4.173711e+00 -1.365026e-04 ||4.173711e+00 -1.366053e-04 \n",
      "14      2.656867e-02 ||4.173593e+00 -1.180372e-04 ||4.173593e+00 -1.180638e-04 \n",
      "15      2.505073e-02 ||4.173490e+00 -1.031922e-04 ||4.173490e+00 -1.032185e-04 \n",
      "16      2.338747e-02 ||4.173399e+00 -9.091964e-05 ||4.173399e+00 -9.093246e-05 \n",
      "17      2.189601e-02 ||4.173319e+00 -7.951915e-05 ||4.173320e+00 -7.953788e-05 \n",
      "18      2.059444e-02 ||4.173249e+00 -7.021226e-05 ||4.173249e+00 -7.023995e-05 \n",
      "19      1.926974e-02 ||4.173188e+00 -6.147791e-05 ||4.173188e+00 -6.147042e-05 \n",
      "20      1.814162e-02 ||4.173133e+00 -5.433751e-05 ||4.173133e+00 -5.433253e-05 \n",
      "21      1.697803e-02 ||4.173086e+00 -4.759750e-05 ||4.173086e+00 -4.761188e-05 \n",
      "22      1.598298e-02 ||4.173044e+00 -4.208317e-05 ||4.173044e+00 -4.211007e-05 \n",
      "23      1.483791e-02 ||4.173007e+00 -3.678746e-05 ||4.173007e+00 -3.676307e-05 \n",
      "24      1.406853e-02 ||4.172975e+00 -3.238089e-05 ||4.172975e+00 -3.239608e-05 \n",
      "25      1.306821e-02 ||4.172946e+00 -2.856310e-05 ||4.172946e+00 -2.856001e-05 \n",
      "26      1.240169e-02 ||4.172921e+00 -2.513964e-05 ||4.172921e+00 -2.513163e-05 \n",
      "27      1.152535e-02 ||4.172899e+00 -2.221555e-05 ||4.172899e+00 -2.222330e-05 \n",
      "28      1.079279e-02 ||4.172879e+00 -1.941575e-05 ||4.172879e+00 -1.940400e-05 \n",
      "29      1.012201e-02 ||4.172862e+00 -1.704494e-05 ||4.172862e+00 -1.704239e-05 \n",
      "30      9.504501e-03 ||4.172847e+00 -1.511705e-05 ||4.172847e+00 -1.510800e-05 \n",
      "converged with 30 step, Max Force = 9.504501e-03 (eV/Ang), dE = -1.511253e-05 (eV)\n",
      "CPU times: user 2min 28s, sys: 2.89 s, total: 2min 31s\n",
      "Wall time: 9.52 s\n"
     ]
    }
   ],
   "source": [
    "%%time\n",
    "torch.manual_seed(0)\n",
    "files = ['coronene.xyz', 'coronene.xyz']\n",
    "\n",
    "species, coordinates = read_xyz(files)\n",
    "species = torch.as_tensor(species,dtype=torch.int64, device=device)[:]\n",
    "coordinates = torch.tensor(coordinates, device=device)[:]\n",
    "const = Constants().to(device)\n",
    "#may need to add scaling factor for length and energy on const, check constants.py\n",
    "\n",
    "elements = [0]+sorted(set(species.reshape(-1).tolist()))\n",
    "seqm_parameters = {\n",
    "                   'method' : 'AM1',  # AM1, MNDO, PM#\n",
    "                   'scf_eps' : 1.0e-6,  # unit eV, change of electric energy, as nuclear energy doesnt' change during SCF\n",
    "                   'scf_converger' : [2,0.0], # converger used for scf loop\n",
    "                                         # [0, 0.1], [0, alpha] constant mixing, P = alpha*P + (1.0-alpha)*Pnew\n",
    "                                         # [1], adaptive mixing\n",
    "                                         # [2], adaptive mixing, then pulay\n",
    "                   'sp2' : [False, 1.0e-5],  # whether to use sp2 algorithm in scf loop,\n",
    "                                            #[True, eps] or [False], eps for SP2 conve criteria\n",
    "                   'elements' : elements, #[0,1,6,8],\n",
    "                   'learned' : [], # learned parameters name list, e.g ['U_ss']\n",
    "                   #'parameter_file_dir' : '../seqm/params/', # file directory for other required parameters\n",
    "                   'pair_outer_cutoff' : 1.0e10, # consistent with the unit on coordinates\n",
    "                   'eig' : True\n",
    "                   }\n",
    "\n",
    "molecule = Molecule(const, seqm_parameters, coordinates, species).to(device)\n",
    "\n",
    "opt =  Geometry_Optimization_SD(seqm_parameters, alpha=0.012, force_tol=1.0e-2, max_evl=400).to(device)\n",
    "max_force, dE =  opt.run(molecule)"
   ]
  },
  {
   "cell_type": "markdown",
   "id": "b929e41f-c665-41fc-9dc2-74321ccb7e7a",
   "metadata": {},
   "source": [
    "### Alternatively, use zero-padding in .xyz files for molecules of different lengths."
   ]
  },
  {
   "cell_type": "code",
   "execution_count": 11,
   "id": "c9ede1a5-90b8-4f84-a3ae-ef539f1901eb",
   "metadata": {},
   "outputs": [
    {
     "name": "stdout",
     "output_type": "stream",
     "text": [
      "Step,  Max_Force,      Etot(eV),     dE(eV)\n",
      "1      6.239775e-01 ||4.242794e+00 4.242794e+00 ||9.740017e-01 9.740017e-01 \n",
      "2      3.792450e-01 ||4.186331e+00 -5.646306e-02 ||9.610098e-01 -1.299196e-02 \n",
      "3      1.609409e-01 ||4.178392e+00 -7.939296e-03 ||9.573780e-01 -3.631755e-03 \n",
      "4      1.004714e-01 ||4.176500e+00 -1.891303e-03 ||9.560781e-01 -1.299970e-03 \n",
      "5      6.776770e-02 ||4.175762e+00 -7.384495e-04 ||9.555108e-01 -5.672506e-04 \n",
      "6      5.517375e-02 ||4.175300e+00 -4.619030e-04 ||9.552377e-01 -2.731449e-04 \n",
      "7      4.479049e-02 ||4.174942e+00 -3.583238e-04 ||9.551008e-01 -1.369124e-04 \n",
      "8      3.945767e-02 ||4.174647e+00 -2.946251e-04 ||9.550310e-01 -6.970436e-05 \n",
      "9      3.848431e-02 ||4.174399e+00 -2.480224e-04 ||9.549954e-01 -3.568108e-05 \n",
      "10      3.466393e-02 ||4.174187e+00 -2.116342e-04 ||9.549772e-01 -1.821622e-05 \n",
      "11      3.325615e-02 ||4.174005e+00 -1.820775e-04 ||9.549677e-01 -9.402105e-06 \n",
      "12      3.045552e-02 ||4.173848e+00 -1.574189e-04 ||9.549629e-01 -4.861493e-06 \n",
      "13      2.875518e-02 ||4.173711e+00 -1.365782e-04 ||9.549604e-01 -2.519390e-06 \n",
      "14      2.656732e-02 ||4.173593e+00 -1.180383e-04 ||9.549591e-01 -1.305414e-06 \n",
      "15      2.504256e-02 ||4.173490e+00 -1.032266e-04 ||9.549584e-01 -6.769174e-07 \n",
      "16      2.338091e-02 ||4.173399e+00 -9.094071e-05 ||9.549580e-01 -3.509458e-07 \n",
      "17      2.188782e-02 ||4.173319e+00 -7.952761e-05 ||9.549579e-01 -1.820049e-07 \n",
      "18      2.059115e-02 ||4.173249e+00 -7.022643e-05 ||9.549578e-01 -9.437963e-08 \n",
      "19      1.926508e-02 ||4.173188e+00 -6.147223e-05 ||9.549577e-01 -4.894810e-08 \n",
      "20      1.813816e-02 ||4.173133e+00 -5.432116e-05 ||9.549577e-01 -2.538445e-08 \n",
      "21      1.697658e-02 ||4.173086e+00 -4.763278e-05 ||9.549577e-01 -1.316585e-08 \n",
      "22      1.597944e-02 ||4.173044e+00 -4.207485e-05 ||9.549577e-01 -6.828941e-09 \n",
      "23      1.483675e-02 ||4.173007e+00 -3.677934e-05 ||9.549577e-01 -3.540663e-09 \n",
      "24      1.406497e-02 ||4.172975e+00 -3.238105e-05 ||9.549577e-01 -1.835815e-09 \n",
      "25      1.306611e-02 ||4.172946e+00 -2.855221e-05 ||9.549577e-01 -9.531504e-10 \n",
      "26      1.240074e-02 ||4.172921e+00 -2.515260e-05 ||9.549577e-01 -4.952199e-10 \n",
      "27      1.152415e-02 ||4.172899e+00 -2.221694e-05 ||9.549577e-01 -2.564775e-10 \n",
      "28      1.079146e-02 ||4.172879e+00 -1.943916e-05 ||9.549577e-01 -1.323315e-10 \n",
      "29      1.011824e-02 ||4.172862e+00 -1.698540e-05 ||9.549577e-01 -6.866685e-11 \n",
      "30      9.507054e-03 ||4.172847e+00 -1.515132e-05 ||9.549577e-01 -3.456080e-11 \n",
      "converged with 30 step, Max Force = 9.507054e-03 (eV/Ang), dE = -7.575679e-06 (eV)\n",
      "CPU times: user 2min 25s, sys: 2.98 s, total: 2min 28s\n",
      "Wall time: 8.98 s\n"
     ]
    }
   ],
   "source": [
    "%%time\n",
    "torch.manual_seed(0)\n",
    "files = ['coronene.xyz', 'benzene_zero_pad.xyz']\n",
    "\n",
    "species, coordinates = read_xyz(files)\n",
    "species = torch.as_tensor(species,dtype=torch.int64, device=device)[:]\n",
    "coordinates = torch.tensor(coordinates, device=device)[:]\n",
    "const = Constants().to(device)\n",
    "#may need to add scaling factor for length and energy on const, check constants.py\n",
    "\n",
    "elements = [0]+sorted(set(species.reshape(-1).tolist()))\n",
    "seqm_parameters = {\n",
    "                   'method' : 'AM1',  # AM1, MNDO, PM#\n",
    "                   'scf_eps' : 1.0e-6,  # unit eV, change of electric energy, as nuclear energy doesnt' change during SCF\n",
    "                   'scf_converger' : [2,0.0], # converger used for scf loop\n",
    "                                         # [0, 0.1], [0, alpha] constant mixing, P = alpha*P + (1.0-alpha)*Pnew\n",
    "                                         # [1], adaptive mixing\n",
    "                                         # [2], adaptive mixing, then pulay\n",
    "                   'sp2' : [False, 1.0e-5],  # whether to use sp2 algorithm in scf loop,\n",
    "                                            #[True, eps] or [False], eps for SP2 conve criteria\n",
    "                   'elements' : elements, #[0,1,6,8],\n",
    "                   'learned' : [], # learned parameters name list, e.g ['U_ss']\n",
    "                   #'parameter_file_dir' : '../seqm/params/', # file directory for other required parameters\n",
    "                   'pair_outer_cutoff' : 1.0e10, # consistent with the unit on coordinates\n",
    "                   'eig' : True\n",
    "                   }\n",
    "\n",
    "molecule = Molecule(const, seqm_parameters, coordinates, species).to(device)\n",
    "\n",
    "opt =  Geometry_Optimization_SD(seqm_parameters, alpha=0.012, force_tol=1.0e-2, max_evl=1000).to(device)\n",
    "max_force, dE =  opt.run(molecule)"
   ]
  },
  {
   "cell_type": "code",
   "execution_count": null,
   "id": "b7aef50c-0262-40cd-9891-36214370b605",
   "metadata": {},
   "outputs": [],
   "source": []
  }
 ],
 "metadata": {
  "kernelspec": {
   "display_name": "pyseqm_4",
   "language": "python",
   "name": "pyseqm_4"
  },
  "language_info": {
   "codemirror_mode": {
    "name": "ipython",
    "version": 3
   },
   "file_extension": ".py",
   "mimetype": "text/x-python",
   "name": "python",
   "nbconvert_exporter": "python",
   "pygments_lexer": "ipython3",
   "version": "3.9.15"
  }
 },
 "nbformat": 4,
 "nbformat_minor": 5
}
