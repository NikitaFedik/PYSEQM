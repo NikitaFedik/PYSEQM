{
 "cells": [
  {
   "cell_type": "code",
   "execution_count": 1,
   "id": "ae4cb5b3-0946-41ed-896e-34d1631ef110",
   "metadata": {},
   "outputs": [],
   "source": [
    "import torch\n",
    "from seqm.seqm_functions.constants import Constants\n",
    "from seqm.Molecule import Molecule\n",
    "from seqm.MolecularDynamics import XL_BOMD_MD, Molecular_Dynamics_Basic, XL_BOMD_LR_MD\n",
    "from seqm.seqm_functions.read_xyz import read_xyz\n",
    "from torch.profiler import profile, record_function, ProfilerActivity\n",
    "from seqm.ElectronicStructure import Electronic_Structure\n",
    "import numpy as np\n",
    "if torch.cuda.is_available():\n",
    "    device = torch.device('cuda')\n",
    "else:\n",
    "    device = torch.device('cpu')"
   ]
  },
  {
   "cell_type": "code",
   "execution_count": 2,
   "id": "96030ef0-3797-4dea-b482-924c85f978fc",
   "metadata": {},
   "outputs": [
    {
     "name": "stderr",
     "output_type": "stream",
     "text": [
      "/home/maxim/anaconda3/envs/pyseqm_4/lib/python3.9/site-packages/PYSEQM-0.0.1-py3.9.egg/seqm/seqm_functions/diag.py:134: UserWarning: torch.symeig is deprecated in favor of torch.linalg.eigh and will be removed in a future PyTorch release.\n",
      "The default behavior has changed from using the upper triangular portion of the matrix by default to using the lower triangular portion.\n",
      "L, _ = torch.symeig(A, upper=upper)\n",
      "should be replaced with\n",
      "L = torch.linalg.eigvalsh(A, UPLO='U' if upper else 'L')\n",
      "and\n",
      "L, V = torch.symeig(A, eigenvectors=True)\n",
      "should be replaced with\n",
      "L, V = torch.linalg.eigh(A, UPLO='U' if upper else 'L') (Triggered internally at /opt/conda/conda-bld/pytorch_1666642975993/work/aten/src/ATen/native/BatchLinearAlgebra.cpp:2794.)\n",
      "  e0,v = torch.symeig(x0,eigenvectors=True,upper=True)\n"
     ]
    },
    {
     "name": "stdout",
     "output_type": "stream",
     "text": [
      "111\n",
      "CPU times: user 10.4 s, sys: 1.66 s, total: 12.1 s\n",
      "Wall time: 4.99 s\n"
     ]
    }
   ],
   "source": [
    "%%time\n",
    "DTYPE = torch.float64\n",
    "torch.set_default_dtype(DTYPE)\n",
    "\n",
    "torch.manual_seed(0)\n",
    "files = ['benzene.xyz']\n",
    "\n",
    "species, coordinates = read_xyz(files)\n",
    "species = torch.as_tensor(species,dtype=torch.int64, device=device)[:]\n",
    "coordinates = torch.tensor(coordinates, device=device, dtype=DTYPE)[:]\n",
    "\n",
    "const = Constants().to(device)\n",
    "\n",
    "elements = [0]+sorted(set(species.reshape(-1).tolist()))\n",
    "seqm_parameters = {\n",
    "                   'method' : 'AM1',  # AM1, MNDO, PM#\n",
    "                   'scf_eps' : 1.0e-6,  # unit eV, change of electric energy, as nuclear energy doesnt' change during SCF\n",
    "                   'scf_converger' : [2,0.0], # converger used for scf loop\n",
    "                                         # [0, 0.1], [0, alpha] constant mixing, P = alpha*P + (1.0-alpha)*Pnew\n",
    "                                         # [1], adaptive mixing\n",
    "                                         # [2], adaptive mixing, then pulay\n",
    "                   'sp2' : [False, 1.0e-5],  # whether to use sp2 algorithm in scf loop,\n",
    "                                            #[True, eps] or [False], eps for SP2 conve criteria\n",
    "                   'elements' : elements, #[0,1,6,8],\n",
    "                   'learned' : [], # learned parameters name list, e.g ['U_ss']\n",
    "                   #'parameter_file_dir' : '../seqm/params/', # file directory for other required parameters\n",
    "                   'pair_outer_cutoff' : 1.0e10, # consistent with the unit on coordinates\n",
    "                   'eig' : True\n",
    "                   }\n",
    "\n",
    "output={'molid':[0], 'thermo':1, 'dump':1, 'prefix':'BOMD'}\n",
    "molecule = Molecule(const, seqm_parameters, coordinates, species).to(device)\n",
    "\n",
    "esdriver = Electronic_Structure(seqm_parameters).to(device)\n",
    "\n",
    "### Run esdriver on molecules:\n",
    "esdriver(molecule)"
   ]
  },
  {
   "cell_type": "code",
   "execution_count": 37,
   "id": "6b42022d-8d3e-4000-9e7f-5726a641ef7f",
   "metadata": {},
   "outputs": [],
   "source": [
    "molecule.dm = molecule.dm.type(torch.float32)\n",
    "molecule.coordinates = molecule.coordinates.type(torch.float32)\n",
    "molecule.velocities = molecule.velocities.type(torch.float32)\n",
    "molecule.const.mass[species][0] = molecule.const.mass[species][0].type(torch.float32)"
   ]
  },
  {
   "cell_type": "code",
   "execution_count": 14,
   "id": "38b0b819-bb96-4d2b-a548-246de802feb2",
   "metadata": {},
   "outputs": [
    {
     "data": {
      "text/plain": [
       "(torch.float32, torch.float32)"
      ]
     },
     "execution_count": 14,
     "metadata": {},
     "output_type": "execute_result"
    }
   ],
   "source": [
    "molecule.dm.dtype, molecule.coordinates.dtype, #molecule.velocities.dtype"
   ]
  },
  {
   "cell_type": "code",
   "execution_count": 15,
   "id": "77e10af9-6805-463f-913b-543d55a99534",
   "metadata": {},
   "outputs": [
    {
     "data": {
      "text/plain": [
       "torch.float32"
      ]
     },
     "execution_count": 15,
     "metadata": {},
     "output_type": "execute_result"
    }
   ],
   "source": [
    "molecule.const.mass[species].dtype"
   ]
  },
  {
   "cell_type": "code",
   "execution_count": 3,
   "id": "82a41b13-55f2-4dc6-8648-9d7ee6baa303",
   "metadata": {},
   "outputs": [
    {
     "name": "stdout",
     "output_type": "stream",
     "text": [
      "Already initialized\n",
      "acc:  tensor([[[ 4.7130e-04,  1.1969e-04,  1.2591e-04],\n",
      "         [-2.2969e-04, -7.7436e-05,  2.2641e-04],\n",
      "         [-1.9980e-04, -2.9192e-05,  2.8133e-04],\n",
      "         [-2.2187e-04, -7.5005e-05, -2.3923e-04],\n",
      "         [-2.0765e-04, -3.1634e-05, -2.9412e-04],\n",
      "         [ 4.7128e-04,  1.1968e-04, -1.5126e-04],\n",
      "         [-3.8557e-03, -1.0858e-03, -1.7364e-03],\n",
      "         [ 3.2105e-03,  8.3147e-04, -1.9665e-03],\n",
      "         [-3.9820e-03, -1.1251e-03,  1.8611e-03],\n",
      "         [ 3.3369e-03,  8.7079e-04,  2.0918e-03],\n",
      "         [ 1.4730e-04,  9.8819e-05,  4.8911e-03],\n",
      "         [ 1.4704e-04,  9.8652e-05, -4.5338e-03]]], device='cuda:0')\n",
      "Step,    Temp,    E(kinetic),  E(potential),  E(total)\n",
      "     1   105.50   1.636459e-01 9.896057e-01 1.153252e+00 || \n",
      "     2    96.54   1.497380e-01 1.002912e+00 1.152650e+00 || \n",
      "     3    85.70   1.329359e-01 1.019739e+00 1.152675e+00 || \n",
      "     4    75.51   1.171230e-01 1.036312e+00 1.153435e+00 || \n",
      "     5    67.94   1.053855e-01 1.048459e+00 1.153844e+00 || \n",
      "     6    64.20   9.957874e-02 1.054429e+00 1.154007e+00 || \n",
      "     7    64.37   9.985050e-02 1.053781e+00 1.153632e+00 || \n",
      "     8    67.34   1.044508e-01 1.048807e+00 1.153258e+00 || \n",
      "     9    71.14   1.103533e-01 1.042667e+00 1.153021e+00 || \n",
      "    10    73.74   1.143857e-01 1.038417e+00 1.152803e+00 || \n",
      "    11    73.61   1.141733e-01 1.038773e+00 1.152947e+00 || \n",
      "    12    70.07   1.086795e-01 1.044479e+00 1.153159e+00 || \n",
      "    13    63.43   9.837985e-02 1.054843e+00 1.153222e+00 || \n",
      "    14    54.79   8.498302e-02 1.068280e+00 1.153263e+00 || \n",
      "    15    45.63   7.077339e-02 1.082733e+00 1.153506e+00 || \n",
      "    16    37.38   5.797904e-02 1.095709e+00 1.153688e+00 || \n",
      "    17    31.24   4.845802e-02 1.105236e+00 1.153694e+00 || \n",
      "    18    28.10   4.358738e-02 1.110216e+00 1.153803e+00 || \n",
      "    19    28.45   4.412622e-02 1.109690e+00 1.153816e+00 || \n",
      "    20    32.28   5.007511e-02 1.103612e+00 1.153687e+00 || \n",
      "CPU times: user 1min 16s, sys: 1.39 s, total: 1min 18s\n",
      "Wall time: 4.55 s\n"
     ]
    }
   ],
   "source": [
    "%%time\n",
    "#DTYPE = torch.float32\n",
    "#torch.set_default_dtype(DTYPE)\n",
    "\n",
    "md = XL_BOMD_LR_MD(max_rank = 3, err_threshold=0.0, T_el=1500, k=6,\n",
    "                   seqm_parameters=seqm_parameters, Temp=100.0, timestep=0.4, output=output).to(device)\n",
    "md.initialize_velocity(molecule )\n",
    "_ = md.run(molecule, 20, remove_com=[True, 1], Info_log=True)"
   ]
  },
  {
   "cell_type": "code",
   "execution_count": 9,
   "id": "b4568416-ec8c-4108-9395-c6bf2a139095",
   "metadata": {},
   "outputs": [
    {
     "data": {
      "text/plain": [
       "array([[ 1.643e-05,  5.250e-06, -2.610e-06],\n",
       "       [-1.011e-05, -3.116e-06,  1.401e-05],\n",
       "       [-6.390e-06, -2.160e-06, -1.606e-05],\n",
       "       [-1.028e-05, -3.165e-06, -1.391e-05],\n",
       "       [-6.260e-06, -2.114e-06,  1.616e-05],\n",
       "       [ 1.642e-05,  5.240e-06,  2.520e-06],\n",
       "       [ 3.300e-06,  9.000e-07,  1.100e-06],\n",
       "       [-2.200e-06, -5.800e-07,  2.700e-06],\n",
       "       [ 5.500e-06,  1.700e-06, -2.500e-06],\n",
       "       [-4.000e-06, -1.200e-06, -3.900e-06],\n",
       "       [-1.000e-07, -1.000e-09, -5.100e-06],\n",
       "       [-1.200e-07, -3.300e-08,  6.400e-06]])"
      ]
     },
     "execution_count": 9,
     "metadata": {},
     "output_type": "execute_result"
    }
   ],
   "source": [
    "a = np.array([[ 4.8773e-04,  1.2494e-04,  1.2330e-04],\n",
    "[-2.3980e-04, -8.0552e-05,  2.4042e-04],\n",
    "[-2.0619e-04, -3.1352e-05,  2.6527e-04],\n",
    "[-2.3215e-04, -7.8170e-05, -2.5314e-04],\n",
    "[-2.1391e-04, -3.3748e-05, -2.7796e-04],\n",
    "[ 4.8770e-04,  1.2492e-04, -1.4874e-04],\n",
    "[-3.8524e-03, -1.0849e-03, -1.7353e-03],\n",
    "[ 3.2083e-03,  8.3089e-04, -1.9638e-03],\n",
    "[-3.9765e-03, -1.1234e-03,  1.8586e-03],\n",
    "[ 3.3329e-03,  8.6959e-04,  2.0879e-03],\n",
    "[ 1.4720e-04,  9.8818e-05,  4.8860e-03],\n",
    "[ 1.4692e-04,  9.8619e-05, -4.5274e-03]])\n",
    "\n",
    "b = np.array([[ 4.7130e-04,  1.1969e-04,  1.2591e-04],\n",
    "         [-2.2969e-04, -7.7436e-05,  2.2641e-04],\n",
    "         [-1.9980e-04, -2.9192e-05,  2.8133e-04],\n",
    "         [-2.2187e-04, -7.5005e-05, -2.3923e-04],\n",
    "         [-2.0765e-04, -3.1634e-05, -2.9412e-04],\n",
    "         [ 4.7128e-04,  1.1968e-04, -1.5126e-04],\n",
    "         [-3.8557e-03, -1.0858e-03, -1.7364e-03],\n",
    "         [ 3.2105e-03,  8.3147e-04, -1.9665e-03],\n",
    "         [-3.9820e-03, -1.1251e-03,  1.8611e-03],\n",
    "         [ 3.3369e-03,  8.7079e-04,  2.0918e-03],\n",
    "         [ 1.4730e-04,  9.8819e-05,  4.8911e-03],\n",
    "         [ 1.4704e-04,  9.8652e-05, -4.5338e-03]])\n",
    "\n",
    "a - b"
   ]
  },
  {
   "cell_type": "code",
   "execution_count": 8,
   "id": "02c0646d-3e94-417f-a355-0488d32660a8",
   "metadata": {},
   "outputs": [
    {
     "data": {
      "text/plain": [
       "torch.float64"
      ]
     },
     "execution_count": 8,
     "metadata": {},
     "output_type": "execute_result"
    }
   ],
   "source": [
    "molecule.Etot.dtype"
   ]
  },
  {
   "cell_type": "code",
   "execution_count": 16,
   "id": "ee68e9b3-b524-4bef-be1a-e067c55a542b",
   "metadata": {
    "scrolled": true,
    "tags": []
   },
   "outputs": [
    {
     "name": "stdout",
     "output_type": "stream",
     "text": [
      "Step,    Temp,    E(kinetic),  E(potential),  E(total)\n",
      "     1   421.89   6.544039e-01 1.003244e+00 1.657647e+00 || \n",
      "     2   381.01   5.909867e-01 1.067431e+00 1.658418e+00 || \n",
      "     3   326.38   5.062498e-01 1.153442e+00 1.659692e+00 || \n",
      "     4   270.91   4.202184e-01 1.240831e+00 1.661050e+00 || \n",
      "     5   227.98   3.536232e-01 1.308319e+00 1.661942e+00 || \n",
      "CPU times: user 33 s, sys: 588 ms, total: 33.6 s\n",
      "Wall time: 2.27 s\n"
     ]
    }
   ],
   "source": [
    "%%time\n",
    "DTYPE = torch.float64\n",
    "torch.set_default_dtype(DTYPE)\n",
    "\n",
    "torch.manual_seed(0)\n",
    "files = ['benzene.xyz']\n",
    "\n",
    "species, coordinates = read_xyz(files)\n",
    "species = torch.as_tensor(species,dtype=torch.int64, device=device)[:]\n",
    "coordinates = torch.tensor(coordinates, device=device, dtype=DTYPE)[:]\n",
    "\n",
    "const = Constants().to(device)\n",
    "\n",
    "elements = [0]+sorted(set(species.reshape(-1).tolist()))\n",
    "seqm_parameters = {\n",
    "                   'method' : 'AM1',  # AM1, MNDO, PM#\n",
    "                   'scf_eps' : 1.0e-6,  # unit eV, change of electric energy, as nuclear energy doesnt' change during SCF\n",
    "                   'scf_converger' : [2,0.0], # converger used for scf loop\n",
    "                                         # [0, 0.1], [0, alpha] constant mixing, P = alpha*P + (1.0-alpha)*Pnew\n",
    "                                         # [1], adaptive mixing\n",
    "                                         # [2], adaptive mixing, then pulay\n",
    "                   'sp2' : [False, 1.0e-5],  # whether to use sp2 algorithm in scf loop,\n",
    "                                            #[True, eps] or [False], eps for SP2 conve criteria\n",
    "                   'elements' : elements, #[0,1,6,8],\n",
    "                   'learned' : [], # learned parameters name list, e.g ['U_ss']\n",
    "                   #'parameter_file_dir' : '../seqm/params/', # file directory for other required parameters\n",
    "                   'pair_outer_cutoff' : 1.0e10, # consistent with the unit on coordinates\n",
    "                   'eig' : True\n",
    "                   }\n",
    "\n",
    "output={'molid':[0], 'thermo':1, 'dump':1, 'prefix':'BOMD'}\n",
    "molecule = Molecule(const, seqm_parameters, coordinates, species).to(device)\n",
    "\n",
    "# Set k for the dissipative electronic force term. See https://aip.scitation.org/doi/full/10.1063/1.3148075 for details.\n",
    "md =  Molecular_Dynamics_Basic(seqm_parameters=seqm_parameters, Temp=400.0, timestep=0.4, output=output).to(device)\n",
    "md.initialize_velocity(molecule )\n",
    "#remove center of mass velocity\n",
    "# Info_log flag generates .txt wtih additional info for every step (orbital energies, dipole)\n",
    "\n",
    "# with profile(activities=[ProfilerActivity.CPU, ProfilerActivity.CUDA],\n",
    "#         profile_memory=True, record_shapes=True) as prof:\n",
    "_ = md.run(molecule, 5, remove_com=[True, 1], Info_log=True)\n",
    "        \n"
   ]
  },
  {
   "cell_type": "code",
   "execution_count": 53,
   "id": "31d400c1-e0c7-48b3-b081-489c6c300e24",
   "metadata": {},
   "outputs": [
    {
     "data": {
      "text/plain": [
       "(torch.float32, torch.float32)"
      ]
     },
     "execution_count": 53,
     "metadata": {},
     "output_type": "execute_result"
    }
   ],
   "source": [
    "molecule.dm.dtype, molecule.q.dtype, "
   ]
  },
  {
   "cell_type": "code",
   "execution_count": 15,
   "id": "002fdf87-b416-4037-8862-3eaf0569b598",
   "metadata": {},
   "outputs": [
    {
     "name": "stdout",
     "output_type": "stream",
     "text": [
      "Doing initialization\n",
      "Step,    Temp,    E(kinetic),  E(potential),  E(total)\n",
      "     1 972734.75   1.508828e+03 -7.085800e-02 1.508758e+03 || \n",
      "     2 3883151.50   6.023234e+03 3.337885e+01 6.056613e+03 || \n",
      "     3 3869719.00   6.002398e+03 4.276874e+01 6.045167e+03 || \n",
      "     4 3863492.00   5.992739e+03 5.380439e+01 6.046543e+03 || \n",
      "     5 3862502.25   5.991204e+03 4.973622e+01 6.040940e+03 || \n",
      "     6 3863253.00   5.992369e+03 4.812804e+01 6.040497e+03 || \n",
      "     7 3868571.50   6.000619e+03 1.902797e+01 6.019646e+03 || \n",
      "     8 3879882.75   6.018163e+03 -2.363338e+02 5.781829e+03 || \n",
      "     9 3895126.25   6.041808e+03 -3.553184e+02 5.686489e+03 || \n",
      "    10 3920580.00   6.081290e+03 -5.441503e+02 5.537140e+03 || \n",
      "CPU times: user 45.5 s, sys: 926 ms, total: 46.4 s\n",
      "Wall time: 3.72 s\n"
     ]
    }
   ],
   "source": [
    "%%time\n",
    "torch.manual_seed(0)\n",
    "torch.set_default_dtype(torch.float32)\n",
    "    \n",
    "files = ['benzene.xyz']\n",
    "\n",
    "species, coordinates = read_xyz(files)\n",
    "species = torch.as_tensor(species,dtype=torch.int64, device=device)[:]\n",
    "coordinates = torch.tensor(coordinates, device=device, dtype=torch.float32)[:]\n",
    "\n",
    "coordinates.dtype, species.dtype\n",
    "const = Constants().to(device)\n",
    "elements = [0]+sorted(set(species.reshape(-1).tolist()))\n",
    "seqm_parameters = {\n",
    "                   'method' : 'AM1',  # AM1, MNDO, PM#\n",
    "                   'scf_eps' : 1.0e-6,  # unit eV, change of electric energy, as nuclear energy doesnt' change during SCF\n",
    "                   'scf_converger' : [2,0.0], # converger used for scf loop\n",
    "                                         # [0, 0.1], [0, alpha] constant mixing, P = alpha*P + (1.0-alpha)*Pnew\n",
    "                                         # [1], adaptive mixing\n",
    "                                         # [2], adaptive mixing, then pulay\n",
    "                   'sp2' : [False, 1.0e-5],  # whether to use sp2 algorithm in scf loop,\n",
    "                                            #[True, eps] or [False], eps for SP2 conve criteria\n",
    "                   'elements' : elements, #[0,1,6,8],\n",
    "                   'learned' : [], # learned parameters name list, e.g ['U_ss']\n",
    "                   #'parameter_file_dir' : '../seqm/params/', # file directory for other required parameters\n",
    "                   'pair_outer_cutoff' : 1.0e10, # consistent with the unit on coordinates\n",
    "                   'eig' : True\n",
    "                   }\n",
    "\n",
    "output={'molid':[0], 'thermo':1, 'dump':1, 'prefix':'XL-BOMD-LR'}\n",
    "molecule = Molecule(const, seqm_parameters, coordinates, species).to(device)\n",
    "md = XL_BOMD_LR_MD(max_rank = 3, err_threshold=0.0, T_el=1500, k=6,\n",
    "                   seqm_parameters=seqm_parameters, Temp=400.0, timestep=0.4, output=output).to(device)\n",
    "md.initialize_velocity(molecule )\n",
    "_ = md.run(molecule, 10, remove_com=[True, 1], Info_log=True)"
   ]
  },
  {
   "cell_type": "code",
   "execution_count": 7,
   "id": "05b19a02-4d4d-4fec-be70-3a1ffd2b281e",
   "metadata": {},
   "outputs": [
    {
     "data": {
      "text/plain": [
       "True"
      ]
     },
     "execution_count": 7,
     "metadata": {},
     "output_type": "execute_result"
    }
   ],
   "source": [
    "molecule.coordinates.requires_grad"
   ]
  },
  {
   "cell_type": "code",
   "execution_count": 3,
   "id": "1cc86289-3f24-49f3-8cb1-0cd33a9ca054",
   "metadata": {},
   "outputs": [
    {
     "name": "stdout",
     "output_type": "stream",
     "text": [
      "16891379712 0 0 0\n"
     ]
    }
   ],
   "source": [
    "t = torch.cuda.get_device_properties(0).total_memory\n",
    "r = torch.cuda.memory_reserved(0)\n",
    "a = torch.cuda.memory_allocated(0)\n",
    "f = r-a  # free inside reserved\n",
    "print(t, r, a, r+a)"
   ]
  },
  {
   "cell_type": "code",
   "execution_count": 4,
   "id": "9ee1045f-4222-4772-8636-921c7e94e4d2",
   "metadata": {},
   "outputs": [
    {
     "ename": "NameError",
     "evalue": "name 'prof' is not defined",
     "output_type": "error",
     "traceback": [
      "\u001b[0;31m---------------------------------------------------------------------------\u001b[0m",
      "\u001b[0;31mNameError\u001b[0m                                 Traceback (most recent call last)",
      "Cell \u001b[0;32mIn [4], line 1\u001b[0m\n\u001b[0;32m----> 1\u001b[0m \u001b[38;5;28mprint\u001b[39m(\u001b[43mprof\u001b[49m\u001b[38;5;241m.\u001b[39mkey_averages()\u001b[38;5;241m.\u001b[39mtable(sort_by\u001b[38;5;241m=\u001b[39m\u001b[38;5;124m\"\u001b[39m\u001b[38;5;124mself_cuda_memory_usage\u001b[39m\u001b[38;5;124m\"\u001b[39m, row_limit\u001b[38;5;241m=\u001b[39m\u001b[38;5;241m20\u001b[39m))\n",
      "\u001b[0;31mNameError\u001b[0m: name 'prof' is not defined"
     ]
    }
   ],
   "source": [
    "print(prof.key_averages().table(sort_by=\"self_cuda_memory_usage\", row_limit=20))\n"
   ]
  },
  {
   "cell_type": "code",
   "execution_count": 6,
   "id": "9912321e-d1a8-448f-aabd-4e4889d9153f",
   "metadata": {},
   "outputs": [
    {
     "name": "stdout",
     "output_type": "stream",
     "text": [
      "|===========================================================================|\n",
      "|                  PyTorch CUDA memory summary, device ID 0                 |\n",
      "|---------------------------------------------------------------------------|\n",
      "|            CUDA OOMs: 0            |        cudaMalloc retries: 0         |\n",
      "|===========================================================================|\n",
      "|        Metric         | Cur Usage  | Peak Usage | Tot Alloc  | Tot Freed  |\n",
      "|---------------------------------------------------------------------------|\n",
      "| Allocated memory      |    1156 KB |   22646 KB |    4516 MB |    4515 MB |\n",
      "|       from large pool |       0 KB |   12189 KB |     913 MB |     913 MB |\n",
      "|       from small pool |    1156 KB |   18001 KB |    3602 MB |    3601 MB |\n",
      "|---------------------------------------------------------------------------|\n",
      "| Active memory         |    1156 KB |   22646 KB |    4516 MB |    4515 MB |\n",
      "|       from large pool |       0 KB |   12189 KB |     913 MB |     913 MB |\n",
      "|       from small pool |    1156 KB |   18001 KB |    3602 MB |    3601 MB |\n",
      "|---------------------------------------------------------------------------|\n",
      "| GPU reserved memory   |   40960 KB |   40960 KB |   69632 KB |   28672 KB |\n",
      "|       from large pool |   20480 KB |   20480 KB |   40960 KB |   20480 KB |\n",
      "|       from small pool |   20480 KB |   20480 KB |   28672 KB |    8192 KB |\n",
      "|---------------------------------------------------------------------------|\n",
      "| Non-releasable memory |   11131 KB |   26340 KB |    5170 MB |    5159 MB |\n",
      "|       from large pool |       0 KB |   18855 KB |     981 MB |     981 MB |\n",
      "|       from small pool |   11131 KB |   12793 KB |    4189 MB |    4178 MB |\n",
      "|---------------------------------------------------------------------------|\n",
      "| Allocations           |      80    |    1104    |   88830    |   88750    |\n",
      "|       from large pool |       0    |       5    |     512    |     512    |\n",
      "|       from small pool |      80    |    1103    |   88318    |   88238    |\n",
      "|---------------------------------------------------------------------------|\n",
      "| Active allocs         |      80    |    1104    |   88830    |   88750    |\n",
      "|       from large pool |       0    |       5    |     512    |     512    |\n",
      "|       from small pool |      80    |    1103    |   88318    |   88238    |\n",
      "|---------------------------------------------------------------------------|\n",
      "| GPU reserved segments |      11    |      11    |      16    |       5    |\n",
      "|       from large pool |       1    |       1    |       2    |       1    |\n",
      "|       from small pool |      10    |      10    |      14    |       4    |\n",
      "|---------------------------------------------------------------------------|\n",
      "| Non-releasable allocs |      26    |     100    |   64364    |   64338    |\n",
      "|       from large pool |       0    |       2    |     228    |     228    |\n",
      "|       from small pool |      26    |     100    |   64136    |   64110    |\n",
      "|---------------------------------------------------------------------------|\n",
      "| Oversize allocations  |       0    |       0    |       0    |       0    |\n",
      "|---------------------------------------------------------------------------|\n",
      "| Oversize GPU segments |       0    |       0    |       0    |       0    |\n",
      "|===========================================================================|\n",
      "\n"
     ]
    }
   ],
   "source": [
    "print(torch.cuda.memory_summary())"
   ]
  },
  {
   "cell_type": "code",
   "execution_count": 5,
   "id": "c4e1e5f8-4718-437f-8182-029bb7d1102b",
   "metadata": {
    "scrolled": true,
    "tags": []
   },
   "outputs": [
    {
     "name": "stderr",
     "output_type": "stream",
     "text": [
      "/home/maxim/anaconda3/envs/pyseqm_4/lib/python3.9/site-packages/torch/distributed/distributed_c10d.py:262: UserWarning: torch.distributed.reduce_op is deprecated, please use torch.distributed.ReduceOp instead\n",
      "  warnings.warn(\n"
     ]
    },
    {
     "name": "stdout",
     "output_type": "stream",
     "text": [
      "<class 'torch.Tensor'> torch.Size([1, 65])\n",
      "<class 'torch.Tensor'> torch.Size([1, 65])\n",
      "<class 'torch.Tensor'> torch.Size([1, 65, 3])\n",
      "<class 'torch.Tensor'> torch.Size([1, 65, 3])\n",
      "<class 'torch.Tensor'> torch.Size([65])\n",
      "<class 'torch.Tensor'> torch.Size([1])\n",
      "<class 'torch.Tensor'> torch.Size([1])\n",
      "<class 'torch.Tensor'> torch.Size([1])\n",
      "<class 'torch.Tensor'> torch.Size([65])\n",
      "<class 'torch.Tensor'> torch.Size([65])\n",
      "<class 'torch.Tensor'> torch.Size([2080])\n",
      "<class 'torch.Tensor'> torch.Size([2080])\n",
      "<class 'torch.Tensor'> torch.Size([2080])\n",
      "<class 'torch.Tensor'> torch.Size([2080])\n",
      "<class 'torch.Tensor'> torch.Size([2080])\n",
      "<class 'torch.Tensor'> torch.Size([2080, 3])\n",
      "<class 'torch.Tensor'> torch.Size([2080])\n",
      "<class 'torch.Tensor'> torch.Size([2080])\n",
      "<class 'torch.Tensor'> torch.Size([2080])\n",
      "<class 'torch.Tensor'> torch.Size([1, 65])\n",
      "<class 'torch.Tensor'> torch.Size([1, 65, 1])\n",
      "<class 'torch.nn.parameter.Parameter'> torch.Size([19])\n",
      "<class 'torch.nn.parameter.Parameter'> torch.Size([19])\n",
      "<class 'torch.nn.parameter.Parameter'> torch.Size([19])\n",
      "<class 'torch.nn.parameter.Parameter'> torch.Size([19])\n",
      "<class 'torch.nn.parameter.Parameter'> torch.Size([19])\n",
      "<class 'torch.nn.parameter.Parameter'> torch.Size([19])\n",
      "<class 'torch.nn.parameter.Parameter'> torch.Size([19])\n",
      "<class 'torch.nn.parameter.Parameter'> torch.Size([19])\n",
      "<class 'torch.nn.parameter.Parameter'> torch.Size([19])\n",
      "<class 'torch.nn.parameter.Parameter'> torch.Size([19])\n",
      "<class 'torch.nn.parameter.Parameter'> torch.Size([19])\n",
      "<class 'torch.nn.parameter.Parameter'> torch.Size([19])\n",
      "<class 'torch.nn.parameter.Parameter'> torch.Size([9, 24])\n",
      "<class 'torch.nn.parameter.Parameter'> torch.Size([])\n",
      "<class 'torch.nn.parameter.Parameter'> torch.Size([])\n",
      "<class 'torch.nn.parameter.Parameter'> torch.Size([9, 24])\n",
      "<class 'torch.Tensor'> torch.Size([1, 65, 3])\n",
      "<class 'torch.nn.parameter.Parameter'> torch.Size([])\n",
      "<class 'torch.nn.parameter.Parameter'> torch.Size([9, 24])\n",
      "<class 'torch.Tensor'> torch.Size([1, 65, 3])\n",
      "<class 'torch.Tensor'> torch.Size([1])\n",
      "<class 'torch.Tensor'> torch.Size([65])\n",
      "<class 'torch.Tensor'> torch.Size([65])\n",
      "<class 'torch.Tensor'> torch.Size([65])\n",
      "<class 'torch.Tensor'> torch.Size([65])\n",
      "<class 'torch.Tensor'> torch.Size([65])\n",
      "<class 'torch.Tensor'> torch.Size([65])\n",
      "<class 'torch.Tensor'> torch.Size([65])\n",
      "<class 'torch.Tensor'> torch.Size([65])\n",
      "<class 'torch.Tensor'> torch.Size([65])\n",
      "<class 'torch.Tensor'> torch.Size([65])\n",
      "<class 'torch.Tensor'> torch.Size([65])\n",
      "<class 'torch.Tensor'> torch.Size([65])\n",
      "<class 'torch.Tensor'> torch.Size([65])\n",
      "<class 'torch.Tensor'> torch.Size([65])\n",
      "<class 'torch.Tensor'> torch.Size([65])\n",
      "<class 'torch.Tensor'> torch.Size([65])\n",
      "<class 'torch.Tensor'> torch.Size([65])\n",
      "<class 'torch.Tensor'> torch.Size([65])\n",
      "<class 'torch.Tensor'> torch.Size([65])\n",
      "<class 'torch.Tensor'> torch.Size([65])\n",
      "<class 'torch.Tensor'> torch.Size([65])\n",
      "<class 'torch.Tensor'> torch.Size([65])\n",
      "<class 'torch.Tensor'> torch.Size([65])\n",
      "<class 'torch.Tensor'> torch.Size([65])\n",
      "<class 'torch.Tensor'> torch.Size([1])\n",
      "<class 'torch.Tensor'> torch.Size([1, 179, 179])\n",
      "<class 'torch.Tensor'> torch.Size([1, 260])\n",
      "<class 'torch.Tensor'> torch.Size([1, 260, 65])\n",
      "<class 'torch.Tensor'> torch.Size([179, 179])\n",
      "<class 'torch.Tensor'> torch.Size([1, 1])\n",
      "<class 'torch.Tensor'> torch.Size([1, 1])\n",
      "<class 'torch.Tensor'> torch.Size([1, 1])\n",
      "<class 'torch.Tensor'> torch.Size([1, 65, 3])\n",
      "<class 'torch.Tensor'> torch.Size([1])\n",
      "<class 'torch.Tensor'> torch.Size([1])\n",
      "<class 'torch.Tensor'> torch.Size([1])\n",
      "<class 'torch.Tensor'> torch.Size([1])\n",
      "<class 'torch.Tensor'> torch.Size([1])\n",
      "<class 'torch.Tensor'> torch.Size([1, 260, 260])\n",
      "<class 'torch.Tensor'> torch.Size([1, 65])\n",
      "<class 'torch.Tensor'> torch.Size([1, 3])\n",
      "<class 'torch.Tensor'> torch.Size([1, 65, 3])\n"
     ]
    }
   ],
   "source": [
    "import gc\n",
    "for obj in gc.get_objects():\n",
    "    try:\n",
    "        if torch.is_tensor(obj) or (hasattr(obj, 'data') and torch.is_tensor(obj.data)):\n",
    "            print(type(obj), obj.size())\n",
    "    except:\n",
    "        pass"
   ]
  },
  {
   "cell_type": "code",
   "execution_count": 12,
   "id": "9a98eac2-2ceb-4285-99c5-4c586b19fda0",
   "metadata": {},
   "outputs": [],
   "source": [
    "torch.cuda.empty_cache()"
   ]
  },
  {
   "cell_type": "code",
   "execution_count": 13,
   "id": "4e21d487-188d-46ef-84db-9acee89730ef",
   "metadata": {},
   "outputs": [
    {
     "name": "stdout",
     "output_type": "stream",
     "text": [
      "|===========================================================================|\n",
      "|                  PyTorch CUDA memory summary, device ID 0                 |\n",
      "|---------------------------------------------------------------------------|\n",
      "|            CUDA OOMs: 0            |        cudaMalloc retries: 0         |\n",
      "|===========================================================================|\n",
      "|        Metric         | Cur Usage  | Peak Usage | Tot Alloc  | Tot Freed  |\n",
      "|---------------------------------------------------------------------------|\n",
      "| Allocated memory      |   96572 KB |    2022 MB |    1538 GB |    1538 GB |\n",
      "|       from large pool |   96320 KB |    2012 MB |    1537 GB |    1536 GB |\n",
      "|       from small pool |     252 KB |      13 MB |       1 GB |       1 GB |\n",
      "|---------------------------------------------------------------------------|\n",
      "| Active memory         |   96572 KB |    2022 MB |    1538 GB |    1538 GB |\n",
      "|       from large pool |   96320 KB |    2012 MB |    1537 GB |    1536 GB |\n",
      "|       from small pool |     252 KB |      13 MB |       1 GB |       1 GB |\n",
      "|---------------------------------------------------------------------------|\n",
      "| GPU reserved memory   |  249856 KB |    2820 MB |    7914 MB |    7670 MB |\n",
      "|       from large pool |  243712 KB |    2802 MB |    7872 MB |    7634 MB |\n",
      "|       from small pool |    6144 KB |      18 MB |      42 MB |      36 MB |\n",
      "|---------------------------------------------------------------------------|\n",
      "| Non-releasable memory |  153283 KB |  607070 KB |    1026 GB |    1026 GB |\n",
      "|       from large pool |  147392 KB |  603346 KB |    1024 GB |    1024 GB |\n",
      "|       from small pool |    5891 KB |    5985 KB |       1 GB |       1 GB |\n",
      "|---------------------------------------------------------------------------|\n",
      "| Allocations           |      80    |     990    |  322728    |  322648    |\n",
      "|       from large pool |      12    |     802    |  186074    |  186062    |\n",
      "|       from small pool |      68    |     192    |  136654    |  136586    |\n",
      "|---------------------------------------------------------------------------|\n",
      "| Active allocs         |      80    |     990    |  322728    |  322648    |\n",
      "|       from large pool |      12    |     802    |  186074    |  186062    |\n",
      "|       from small pool |      68    |     192    |  136654    |  136586    |\n",
      "|---------------------------------------------------------------------------|\n",
      "| GPU reserved segments |       9    |      78    |     211    |     202    |\n",
      "|       from large pool |       6    |      70    |     190    |     184    |\n",
      "|       from small pool |       3    |       9    |      21    |      18    |\n",
      "|---------------------------------------------------------------------------|\n",
      "| Non-releasable allocs |      25    |      81    |  205333    |  205308    |\n",
      "|       from large pool |       6    |      56    |  133784    |  133778    |\n",
      "|       from small pool |      19    |      33    |   71549    |   71530    |\n",
      "|---------------------------------------------------------------------------|\n",
      "| Oversize allocations  |       0    |       0    |       0    |       0    |\n",
      "|---------------------------------------------------------------------------|\n",
      "| Oversize GPU segments |       0    |       0    |       0    |       0    |\n",
      "|===========================================================================|\n",
      "\n"
     ]
    }
   ],
   "source": [
    "print(torch.cuda.memory_summary())"
   ]
  },
  {
   "cell_type": "code",
   "execution_count": 8,
   "id": "09374d1f-9ec1-48a0-a5ac-56fb9cdee1ba",
   "metadata": {},
   "outputs": [],
   "source": [
    "#molecule.q, molecule.d"
   ]
  },
  {
   "cell_type": "code",
   "execution_count": 8,
   "id": "8cceb6d6-6ce5-4a39-b3c2-653823b1e493",
   "metadata": {},
   "outputs": [
    {
     "name": "stdout",
     "output_type": "stream",
     "text": [
      "Step,    Temp,    E(kinetic),  E(potential),  E(total)\n",
      "     1   280.01   1.447747e-01 -1.350262e+00 -1.205487e+00 ||    377.92   1.954009e-01 1.466852e+00 1.662253e+00 || \n",
      "     2   241.00   1.246049e-01 -1.330547e+00 -1.205942e+00 ||    338.37   1.749517e-01 1.487116e+00 1.662068e+00 || \n",
      "     3   192.14   9.934243e-02 -1.305328e+00 -1.205985e+00 ||    328.51   1.698518e-01 1.492053e+00 1.661905e+00 || \n",
      "     4   140.12   7.244648e-02 -1.277651e+00 -1.205204e+00 ||    347.02   1.794210e-01 1.482445e+00 1.661866e+00 || \n",
      "     5    91.10   4.710300e-02 -1.251810e+00 -1.204707e+00 ||    388.67   2.009557e-01 1.460626e+00 1.661582e+00 || \n",
      "     6    51.05   2.639632e-02 -1.230928e+00 -1.204532e+00 ||    445.53   2.303557e-01 1.430952e+00 1.661308e+00 || \n",
      "     7    25.35   1.310720e-02 -1.217638e+00 -1.204530e+00 ||    508.00   2.626550e-01 1.398345e+00 1.661000e+00 || \n",
      "CPU times: user 2.62 s, sys: 30.7 ms, total: 2.65 s\n",
      "Wall time: 2.65 s\n"
     ]
    }
   ],
   "source": [
    "%%time\n",
    "torch.manual_seed(0)\n",
    "species = torch.as_tensor([[8,6,1,1],[5,1,1,1]],dtype=torch.int64, device=device)[:]\n",
    "coordinates = torch.tensor([\n",
    "                  [\n",
    "                   [ 0.00,  0.0,  0.0],\n",
    "                   [ 1.22,  0.0,  0.0],\n",
    "                   [ 1.82,  0.94, 0.0],\n",
    "                   [ 1.82, -0.94, 0.0]\n",
    "                  ],\n",
    "                  [\n",
    "                   [ 0.00,  0.00,  0.00],\n",
    "                   [ 1.20,  0.00,  0.00],\n",
    "                   [-0.60,  1.03,  0.00],\n",
    "                   [-0.60, -1.03,  0.00]\n",
    "                  ]\n",
    "                 ], device=device)[:]\n",
    "const = Constants().to(device)\n",
    "elements = [0]+sorted(set(species.reshape(-1).tolist()))\n",
    "seqm_parameters = {\n",
    "                   'method' : 'AM1',  # AM1, MNDO, PM#\n",
    "                   'scf_eps' : 1.0e-6,  # unit eV, change of electric energy, as nuclear energy doesnt' change during SCF\n",
    "                   'scf_converger' : [2,0.0], # converger used for scf loop\n",
    "                                         # [0, 0.1], [0, alpha] constant mixing, P = alpha*P + (1.0-alpha)*Pnew\n",
    "                                         # [1], adaptive mixing\n",
    "                                         # [2], adaptive mixing, then pulay\n",
    "                   'sp2' : [False, 1.0e-5],  # whether to use sp2 algorithm in scf loop,\n",
    "                                            #[True, eps] or [False], eps for SP2 conve criteria\n",
    "                   'elements' : elements, #[0,1,6,8],\n",
    "                   'learned' : [], # learned parameters name list, e.g ['U_ss']\n",
    "                   #'parameter_file_dir' : '../seqm/params/', # file directory for other required parameters\n",
    "                   'pair_outer_cutoff' : 1.0e10, # consistent with the unit on coordinates\n",
    "                   'eig' : True\n",
    "                   }\n",
    "\n",
    "output={'molid':[0, 1], 'thermo':1, 'dump':1, 'prefix':'XL-BOMD'}\n",
    "molecule = Molecule(const, seqm_parameters, coordinates, species).to(device)\n",
    "md = XL_BOMD_MD(k=6, seqm_parameters=seqm_parameters, Temp=400.0, timestep=0.4, output=output).to(device)\n",
    "md.initialize_velocity(molecule )\n",
    "_ = md.run(molecule, 7, remove_com=[True, 1], Info_log=True)"
   ]
  },
  {
   "cell_type": "code",
   "execution_count": 10,
   "id": "ace86f4a-d328-4c31-901c-a61540ae2c17",
   "metadata": {},
   "outputs": [
    {
     "data": {
      "text/plain": [
       "(tensor([[-0.2587,  0.1520,  0.0511,  0.0557],\n",
       "         [ 0.2984, -0.0930, -0.0838, -0.1216]], device='cuda:0'),\n",
       " tensor([[ 0.3725, -0.0022,  0.0009],\n",
       "         [ 0.0054,  0.0545,  0.0060]], device='cuda:0'))"
      ]
     },
     "execution_count": 10,
     "metadata": {},
     "output_type": "execute_result"
    }
   ],
   "source": [
    "molecule.q, molecule.d"
   ]
  },
  {
   "cell_type": "code",
   "execution_count": 11,
   "id": "ec3309b7-c50e-4bd2-9285-d935e8fabef9",
   "metadata": {},
   "outputs": [
    {
     "name": "stdout",
     "output_type": "stream",
     "text": [
      "Step,    Temp,    E(kinetic),  E(potential),  E(total)\n",
      "     1   280.01   1.447747e-01 -1.350262e+00 -1.205487e+00 ||    377.92   1.954009e-01 1.466852e+00 1.662253e+00 || \n",
      "     2   241.13   1.246739e-01 -1.330652e+00 -1.205978e+00 ||    338.43   1.749812e-01 1.487071e+00 1.662052e+00 || \n",
      "     3   192.53   9.954740e-02 -1.305245e+00 -1.205698e+00 ||    328.68   1.699414e-01 1.492090e+00 1.662032e+00 || \n",
      "     4   140.56   7.267445e-02 -1.277607e+00 -1.204932e+00 ||    347.27   1.795505e-01 1.482432e+00 1.661983e+00 || \n",
      "     5    91.24   4.717287e-02 -1.251874e+00 -1.204701e+00 ||    388.91   2.010795e-01 1.460582e+00 1.661662e+00 || \n",
      "     6    50.89   2.631291e-02 -1.230833e+00 -1.204520e+00 ||    445.67   2.304285e-01 1.430973e+00 1.661401e+00 || \n",
      "     7    25.21   1.303664e-02 -1.217585e+00 -1.204548e+00 ||    507.97   2.626398e-01 1.398335e+00 1.660974e+00 || \n",
      "CPU times: user 2.85 s, sys: 31.3 ms, total: 2.88 s\n",
      "Wall time: 2.87 s\n"
     ]
    }
   ],
   "source": [
    "%%time\n",
    "torch.manual_seed(0)\n",
    "species = torch.as_tensor([[8,6,1,1],[5,1,1,1]],dtype=torch.int64, device=device)[:]\n",
    "coordinates = torch.tensor([\n",
    "                  [\n",
    "                   [ 0.00,  0.0,  0.0],\n",
    "                   [ 1.22,  0.0,  0.0],\n",
    "                   [ 1.82,  0.94, 0.0],\n",
    "                   [ 1.82, -0.94, 0.0]\n",
    "                  ],\n",
    "                  [\n",
    "                   [ 0.00,  0.00,  0.00],\n",
    "                   [ 1.20,  0.00,  0.00],\n",
    "                   [-0.60,  1.03,  0.00],\n",
    "                   [-0.60, -1.03,  0.00]\n",
    "                  ]\n",
    "                 ], device=device)[:]\n",
    "const = Constants().to(device)\n",
    "elements = [0]+sorted(set(species.reshape(-1).tolist()))\n",
    "seqm_parameters = {\n",
    "                   'method' : 'AM1',  # AM1, MNDO, PM#\n",
    "                   'scf_eps' : 1.0e-6,  # unit eV, change of electric energy, as nuclear energy doesnt' change during SCF\n",
    "                   'scf_converger' : [2,0.0], # converger used for scf loop\n",
    "                                         # [0, 0.1], [0, alpha] constant mixing, P = alpha*P + (1.0-alpha)*Pnew\n",
    "                                         # [1], adaptive mixing\n",
    "                                         # [2], adaptive mixing, then pulay\n",
    "                   'sp2' : [False, 1.0e-5],  # whether to use sp2 algorithm in scf loop,\n",
    "                                            #[True, eps] or [False], eps for SP2 conve criteria\n",
    "                   'elements' : elements, #[0,1,6,8],\n",
    "                   'learned' : [], # learned parameters name list, e.g ['U_ss']\n",
    "                   #'parameter_file_dir' : '../seqm/params/', # file directory for other required parameters\n",
    "                   'pair_outer_cutoff' : 1.0e10, # consistent with the unit on coordinates\n",
    "                   'eig' : True\n",
    "                   }\n",
    "\n",
    "output={'molid':[0, 1], 'thermo':1, 'dump':1, 'prefix':'XL-BOMD-LR'}\n",
    "molecule = Molecule(const, seqm_parameters, coordinates, species).to(device)\n",
    "md = XL_BOMD_LR_MD(max_rank = 3, err_threshold=0.0, T_el=1500, k=6,\n",
    "                   seqm_parameters=seqm_parameters, Temp=400.0, timestep=0.4, output=output).to(device)\n",
    "md.initialize_velocity(molecule )\n",
    "_ = md.run(molecule, 7, remove_com=[True, 1], Info_log=True)"
   ]
  },
  {
   "cell_type": "code",
   "execution_count": 17,
   "id": "9b4f8e64-3a9a-4195-a319-15ed685ebd25",
   "metadata": {},
   "outputs": [
    {
     "data": {
      "text/plain": [
       "(tensor([[-0.2582,  0.1495,  0.0524,  0.0563],\n",
       "         [ 0.2977, -0.0930, -0.0841, -0.1206]], device='cuda:0'),\n",
       " tensor([[ 0.3731, -0.0014,  0.0010],\n",
       "         [ 0.0049,  0.0531,  0.0060]], device='cuda:0'))"
      ]
     },
     "execution_count": 17,
     "metadata": {},
     "output_type": "execute_result"
    }
   ],
   "source": [
    "molecule.q, molecule.d"
   ]
  },
  {
   "cell_type": "code",
   "execution_count": 18,
   "id": "a9033236-9a2e-4b23-ae60-4dfb05a12c39",
   "metadata": {},
   "outputs": [
    {
     "data": {
      "text/plain": [
       "(tensor([[-0.2560,  0.1459,  0.0534,  0.0567],\n",
       "         [ 0.2968, -0.0930, -0.0851, -0.1186]], device='cuda:0'),\n",
       " tensor([[ 0.3714, -0.0009,  0.0010],\n",
       "         [ 0.0044,  0.0503,  0.0060]], device='cuda:0'))"
      ]
     },
     "execution_count": 18,
     "metadata": {},
     "output_type": "execute_result"
    }
   ],
   "source": [
    "molecule.q_D, molecule.d_D"
   ]
  },
  {
   "cell_type": "code",
   "execution_count": 4,
   "id": "3e2e82c4-45ec-4ea9-b37d-244ce6d61544",
   "metadata": {},
   "outputs": [],
   "source": [
    "torch.cuda.empty_cache()"
   ]
  },
  {
   "cell_type": "code",
   "execution_count": null,
   "id": "4deb1023-867f-4e03-bae2-f9ea9b0fae3d",
   "metadata": {},
   "outputs": [],
   "source": []
  }
 ],
 "metadata": {
  "kernelspec": {
   "display_name": "pyseqm_4",
   "language": "python",
   "name": "pyseqm_4"
  },
  "language_info": {
   "codemirror_mode": {
    "name": "ipython",
    "version": 3
   },
   "file_extension": ".py",
   "mimetype": "text/x-python",
   "name": "python",
   "nbconvert_exporter": "python",
   "pygments_lexer": "ipython3",
   "version": "3.9.15"
  }
 },
 "nbformat": 4,
 "nbformat_minor": 5
}
