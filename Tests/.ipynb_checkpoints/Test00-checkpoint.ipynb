{
 "cells": [
  {
   "cell_type": "code",
   "execution_count": 1,
   "id": "ae4cb5b3-0946-41ed-896e-34d1631ef110",
   "metadata": {},
   "outputs": [],
   "source": [
    "import torch\n",
    "from seqm.seqm_functions.constants import Constants\n",
    "from seqm.Molecule import Molecule\n",
    "from seqm.MolecularDynamics import XL_BOMD_MD, Molecular_Dynamics_Basic, XL_BOMD_LR_MD\n",
    "\n",
    "torch.set_default_dtype(torch.float64)\n",
    "if torch.cuda.is_available():\n",
    "    device = torch.device('cuda')\n",
    "else:\n",
    "    device = torch.device('cpu')"
   ]
  },
  {
   "cell_type": "code",
   "execution_count": 2,
   "id": "ee68e9b3-b524-4bef-be1a-e067c55a542b",
   "metadata": {},
   "outputs": [
    {
     "name": "stderr",
     "output_type": "stream",
     "text": [
      "/home/maxim/anaconda3/envs/pyseqm_4/lib/python3.9/site-packages/PYSEQM-0.0.1-py3.9.egg/seqm/seqm_functions/diag.py:134: UserWarning: torch.symeig is deprecated in favor of torch.linalg.eigh and will be removed in a future PyTorch release.\n",
      "The default behavior has changed from using the upper triangular portion of the matrix by default to using the lower triangular portion.\n",
      "L, _ = torch.symeig(A, upper=upper)\n",
      "should be replaced with\n",
      "L = torch.linalg.eigvalsh(A, UPLO='U' if upper else 'L')\n",
      "and\n",
      "L, V = torch.symeig(A, eigenvectors=True)\n",
      "should be replaced with\n",
      "L, V = torch.linalg.eigh(A, UPLO='U' if upper else 'L') (Triggered internally at /opt/conda/conda-bld/pytorch_1666642975993/work/aten/src/ATen/native/BatchLinearAlgebra.cpp:2794.)\n",
      "  e0,v = torch.symeig(x0,eigenvectors=True,upper=True)\n"
     ]
    },
    {
     "name": "stdout",
     "output_type": "stream",
     "text": [
      "Step,    Temp,    E(kinetic),  E(potential),  E(total)\n",
      "     1   280.60   1.450802e-01 -1.350574e+00 -1.205494e+00 ||    378.19   1.955371e-01 1.466707e+00 1.662244e+00 || \n",
      "     2   242.49   1.253782e-01 -1.330693e+00 -1.205315e+00 ||    339.01   1.752832e-01 1.487065e+00 1.662348e+00 || \n",
      "     3   193.63   1.001159e-01 -1.305208e+00 -1.205092e+00 ||    329.26   1.702382e-01 1.492066e+00 1.662304e+00 || \n",
      "     4   140.75   7.277259e-02 -1.277631e+00 -1.204859e+00 ||    347.70   1.797740e-01 1.482357e+00 1.662131e+00 || \n",
      "     5    90.95   4.702431e-02 -1.251669e+00 -1.204644e+00 ||    389.29   2.012778e-01 1.460580e+00 1.661858e+00 || \n",
      "     6    50.76   2.624646e-02 -1.230724e+00 -1.204478e+00 ||    446.08   2.306435e-01 1.430882e+00 1.661525e+00 || \n",
      "     7    25.29   1.307362e-02 -1.217453e+00 -1.204379e+00 ||    508.48   2.629053e-01 1.398273e+00 1.661179e+00 || \n",
      "CPU times: user 4.34 s, sys: 993 ms, total: 5.33 s\n",
      "Wall time: 5.37 s\n"
     ]
    }
   ],
   "source": [
    "%%time\n",
    "torch.manual_seed(0)\n",
    "\n",
    "species = torch.as_tensor([[8,6,1,1],[5,1,1,1]],dtype=torch.int64, device=device)[:]\n",
    "coordinates = torch.tensor([\n",
    "                  [\n",
    "                   [ 0.00,  0.0,  0.0],\n",
    "                   [ 1.22,  0.0,  0.0],\n",
    "                   [ 1.82,  0.94, 0.0],\n",
    "                   [ 1.82, -0.94, 0.0]\n",
    "                  ],\n",
    "                  [\n",
    "                   [ 0.00,  0.00,  0.00],\n",
    "                   [ 1.20,  0.00,  0.00],\n",
    "                   [-0.60,  1.03,  0.00],\n",
    "                   [-0.60, -1.03,  0.00]\n",
    "                  ]\n",
    "                 ], device=device)[:]\n",
    "\n",
    "const = Constants().to(device)\n",
    "\n",
    "elements = [0]+sorted(set(species.reshape(-1).tolist()))\n",
    "seqm_parameters = {\n",
    "                   'method' : 'AM1',  # AM1, MNDO, PM#\n",
    "                   'scf_eps' : 1.0e-6,  # unit eV, change of electric energy, as nuclear energy doesnt' change during SCF\n",
    "                   'scf_converger' : [2,0.0], # converger used for scf loop\n",
    "                                         # [0, 0.1], [0, alpha] constant mixing, P = alpha*P + (1.0-alpha)*Pnew\n",
    "                                         # [1], adaptive mixing\n",
    "                                         # [2], adaptive mixing, then pulay\n",
    "                   'sp2' : [False, 1.0e-5],  # whether to use sp2 algorithm in scf loop,\n",
    "                                            #[True, eps] or [False], eps for SP2 conve criteria\n",
    "                   'elements' : elements, #[0,1,6,8],\n",
    "                   'learned' : [], # learned parameters name list, e.g ['U_ss']\n",
    "                   #'parameter_file_dir' : '../seqm/params/', # file directory for other required parameters\n",
    "                   'pair_outer_cutoff' : 1.0e10, # consistent with the unit on coordinates\n",
    "                   'eig' : True\n",
    "                   }\n",
    "\n",
    "output={'molid':[0, 1], 'thermo':1, 'dump':1, 'prefix':'BOMD'}\n",
    "molecule = Molecule(const, seqm_parameters, coordinates, species).to(device)\n",
    "\n",
    "# Set k for the dissipative electronic force term. See https://aip.scitation.org/doi/full/10.1063/1.3148075 for details.\n",
    "md =  Molecular_Dynamics_Basic(seqm_parameters=seqm_parameters, Temp=400.0, timestep=0.4, output=output).to(device)\n",
    "md.initialize_velocity(molecule )\n",
    "#remove center of mass velocity\n",
    "# Info_log flag generates .txt wtih additional info for every step (orbital energies, dipole)\n",
    "_ = md.run(molecule, 7, remove_com=[True, 1], Info_log=True)"
   ]
  },
  {
   "cell_type": "code",
   "execution_count": 3,
   "id": "09374d1f-9ec1-48a0-a5ac-56fb9cdee1ba",
   "metadata": {},
   "outputs": [
    {
     "data": {
      "text/plain": [
       "(tensor([[-0.2590,  0.1521,  0.0512,  0.0557],\n",
       "         [ 0.2987, -0.0930, -0.0831, -0.1226]], device='cuda:0'),\n",
       " tensor([[ 0.3728, -0.0021,  0.0009],\n",
       "         [ 0.0055,  0.0561,  0.0060]], device='cuda:0'))"
      ]
     },
     "execution_count": 3,
     "metadata": {},
     "output_type": "execute_result"
    }
   ],
   "source": [
    "molecule.q, molecule.d"
   ]
  },
  {
   "cell_type": "code",
   "execution_count": 11,
   "id": "5415dac6-ead3-4190-a4be-bb916f8fa430",
   "metadata": {},
   "outputs": [
    {
     "data": {
      "text/plain": [
       "(tensor([[-0.2590,  0.1521,  0.0512,  0.0557],\n",
       "         [ 0.2987, -0.0930, -0.0831, -0.1226]], device='cuda:0'),\n",
       " tensor([[ 0.3728, -0.0021,  0.0009],\n",
       "         [ 0.0055,  0.0561,  0.0060]], device='cuda:0'))"
      ]
     },
     "execution_count": 11,
     "metadata": {},
     "output_type": "execute_result"
    }
   ],
   "source": [
    "molecule.q, molecule.d"
   ]
  },
  {
   "cell_type": "code",
   "execution_count": 4,
   "id": "8cceb6d6-6ce5-4a39-b3c2-653823b1e493",
   "metadata": {},
   "outputs": [
    {
     "name": "stdout",
     "output_type": "stream",
     "text": [
      "Step,    Temp,    E(kinetic),  E(potential),  E(total)\n",
      "     1   280.01   1.447747e-01 -1.350262e+00 -1.205487e+00 ||    377.92   1.954009e-01 1.466852e+00 1.662253e+00 || \n",
      "     2   241.00   1.246049e-01 -1.330547e+00 -1.205942e+00 ||    338.37   1.749517e-01 1.487116e+00 1.662068e+00 || \n",
      "     3   192.14   9.934243e-02 -1.305328e+00 -1.205985e+00 ||    328.51   1.698518e-01 1.492053e+00 1.661905e+00 || \n",
      "     4   140.12   7.244648e-02 -1.277651e+00 -1.205204e+00 ||    347.02   1.794210e-01 1.482445e+00 1.661866e+00 || \n",
      "     5    91.10   4.710300e-02 -1.251810e+00 -1.204707e+00 ||    388.67   2.009557e-01 1.460626e+00 1.661582e+00 || \n",
      "     6    51.05   2.639632e-02 -1.230928e+00 -1.204532e+00 ||    445.53   2.303557e-01 1.430952e+00 1.661308e+00 || \n",
      "     7    25.35   1.310720e-02 -1.217638e+00 -1.204530e+00 ||    508.00   2.626550e-01 1.398345e+00 1.661000e+00 || \n",
      "CPU times: user 2.65 s, sys: 26.7 ms, total: 2.67 s\n",
      "Wall time: 2.66 s\n"
     ]
    }
   ],
   "source": [
    "%%time\n",
    "torch.manual_seed(0)\n",
    "species = torch.as_tensor([[8,6,1,1],[5,1,1,1]],dtype=torch.int64, device=device)[:]\n",
    "coordinates = torch.tensor([\n",
    "                  [\n",
    "                   [ 0.00,  0.0,  0.0],\n",
    "                   [ 1.22,  0.0,  0.0],\n",
    "                   [ 1.82,  0.94, 0.0],\n",
    "                   [ 1.82, -0.94, 0.0]\n",
    "                  ],\n",
    "                  [\n",
    "                   [ 0.00,  0.00,  0.00],\n",
    "                   [ 1.20,  0.00,  0.00],\n",
    "                   [-0.60,  1.03,  0.00],\n",
    "                   [-0.60, -1.03,  0.00]\n",
    "                  ]\n",
    "                 ], device=device)[:]\n",
    "const = Constants().to(device)\n",
    "elements = [0]+sorted(set(species.reshape(-1).tolist()))\n",
    "seqm_parameters = {\n",
    "                   'method' : 'AM1',  # AM1, MNDO, PM#\n",
    "                   'scf_eps' : 1.0e-6,  # unit eV, change of electric energy, as nuclear energy doesnt' change during SCF\n",
    "                   'scf_converger' : [2,0.0], # converger used for scf loop\n",
    "                                         # [0, 0.1], [0, alpha] constant mixing, P = alpha*P + (1.0-alpha)*Pnew\n",
    "                                         # [1], adaptive mixing\n",
    "                                         # [2], adaptive mixing, then pulay\n",
    "                   'sp2' : [False, 1.0e-5],  # whether to use sp2 algorithm in scf loop,\n",
    "                                            #[True, eps] or [False], eps for SP2 conve criteria\n",
    "                   'elements' : elements, #[0,1,6,8],\n",
    "                   'learned' : [], # learned parameters name list, e.g ['U_ss']\n",
    "                   #'parameter_file_dir' : '../seqm/params/', # file directory for other required parameters\n",
    "                   'pair_outer_cutoff' : 1.0e10, # consistent with the unit on coordinates\n",
    "                   'eig' : True\n",
    "                   }\n",
    "\n",
    "output={'molid':[0, 1], 'thermo':1, 'dump':1, 'prefix':'XL-BOMD'}\n",
    "molecule = Molecule(const, seqm_parameters, coordinates, species).to(device)\n",
    "md =  XL_BOMD_MD(k=6, seqm_parameters=seqm_parameters, Temp=400.0, timestep=0.4, output=output).to(device)\n",
    "md.initialize_velocity(molecule )\n",
    "_ = md.run(molecule, 7, remove_com=[True, 1], Info_log=True)"
   ]
  },
  {
   "cell_type": "code",
   "execution_count": 5,
   "id": "ace86f4a-d328-4c31-901c-a61540ae2c17",
   "metadata": {},
   "outputs": [
    {
     "data": {
      "text/plain": [
       "(tensor([[-0.2587,  0.1520,  0.0511,  0.0557],\n",
       "         [ 0.2984, -0.0930, -0.0838, -0.1216]], device='cuda:0'),\n",
       " tensor([[ 0.3725, -0.0022,  0.0009],\n",
       "         [ 0.0054,  0.0545,  0.0060]], device='cuda:0'))"
      ]
     },
     "execution_count": 5,
     "metadata": {},
     "output_type": "execute_result"
    }
   ],
   "source": [
    "molecule.q, molecule.d"
   ]
  },
  {
   "cell_type": "code",
   "execution_count": 14,
   "id": "e2e2387f-08ff-483b-a276-5c7e0552ea09",
   "metadata": {},
   "outputs": [
    {
     "data": {
      "text/plain": [
       "(tensor([[-0.2587,  0.1520,  0.0511,  0.0557],\n",
       "         [ 0.2984, -0.0930, -0.0838, -0.1216]], device='cuda:0'),\n",
       " tensor([[ 0.3725, -0.0022,  0.0009],\n",
       "         [ 0.0054,  0.0545,  0.0060]], device='cuda:0'))"
      ]
     },
     "execution_count": 14,
     "metadata": {},
     "output_type": "execute_result"
    }
   ],
   "source": [
    "molecule.q_D, molecule.d_D"
   ]
  },
  {
   "cell_type": "code",
   "execution_count": 13,
   "id": "336374da-d3eb-413f-a598-99590a78a41d",
   "metadata": {},
   "outputs": [
    {
     "data": {
      "text/plain": [
       "(tensor([[-0.2576,  0.1511,  0.0508,  0.0557],\n",
       "         [ 0.2988, -0.0931, -0.0848, -0.1210]], device='cuda:0'),\n",
       " tensor([[ 0.3710, -0.0025,  0.0009],\n",
       "         [ 0.0055,  0.0529,  0.0060]], device='cuda:0'))"
      ]
     },
     "execution_count": 13,
     "metadata": {},
     "output_type": "execute_result"
    }
   ],
   "source": [
    "molecule.q, molecule.d"
   ]
  },
  {
   "cell_type": "code",
   "execution_count": null,
   "id": "ec3309b7-c50e-4bd2-9285-d935e8fabef9",
   "metadata": {},
   "outputs": [],
   "source": [
    "%%time\n",
    "torch.manual_seed(0)\n",
    "species = torch.as_tensor([[8,6,1,1],[5,1,1,1]],dtype=torch.int64, device=device)[:]\n",
    "coordinates = torch.tensor([\n",
    "                  [\n",
    "                   [ 0.00,  0.0,  0.0],\n",
    "                   [ 1.22,  0.0,  0.0],\n",
    "                   [ 1.82,  0.94, 0.0],\n",
    "                   [ 1.82, -0.94, 0.0]\n",
    "                  ],\n",
    "                  [\n",
    "                   [ 0.00,  0.00,  0.00],\n",
    "                   [ 1.20,  0.00,  0.00],\n",
    "                   [-0.60,  1.03,  0.00],\n",
    "                   [-0.60, -1.03,  0.00]\n",
    "                  ]\n",
    "                 ], device=device)[:]\n",
    "const = Constants().to(device)\n",
    "elements = [0]+sorted(set(species.reshape(-1).tolist()))\n",
    "seqm_parameters = {\n",
    "                   'method' : 'AM1',  # AM1, MNDO, PM#\n",
    "                   'scf_eps' : 1.0e-6,  # unit eV, change of electric energy, as nuclear energy doesnt' change during SCF\n",
    "                   'scf_converger' : [2,0.0], # converger used for scf loop\n",
    "                                         # [0, 0.1], [0, alpha] constant mixing, P = alpha*P + (1.0-alpha)*Pnew\n",
    "                                         # [1], adaptive mixing\n",
    "                                         # [2], adaptive mixing, then pulay\n",
    "                   'sp2' : [False, 1.0e-5],  # whether to use sp2 algorithm in scf loop,\n",
    "                                            #[True, eps] or [False], eps for SP2 conve criteria\n",
    "                   'elements' : elements, #[0,1,6,8],\n",
    "                   'learned' : [], # learned parameters name list, e.g ['U_ss']\n",
    "                   #'parameter_file_dir' : '../seqm/params/', # file directory for other required parameters\n",
    "                   'pair_outer_cutoff' : 1.0e10, # consistent with the unit on coordinates\n",
    "                   'eig' : True\n",
    "                   }\n",
    "\n",
    "output={'molid':[0, 1], 'thermo':1, 'dump':1, 'prefix':'XL-BOMD'}\n",
    "molecule = Molecule(const, seqm_parameters, coordinates, species).to(device)\n",
    "md =  XL_BOMD_MD(k=6, seqm_parameters=seqm_parameters, Temp=400.0, timestep=0.4, output=output).to(device)\n",
    "md.initialize_velocity(molecule )\n",
    "_ = md.run(molecule, 7, remove_com=[True, 1], Info_log=True)"
   ]
  },
  {
   "cell_type": "code",
   "execution_count": 6,
   "id": "9b4f8e64-3a9a-4195-a319-15ed685ebd25",
   "metadata": {},
   "outputs": [
    {
     "data": {
      "text/plain": [
       "tensor([[-0.2576,  0.1511,  0.0508,  0.0557],\n",
       "        [ 0.2988, -0.0931, -0.0848, -0.1210]], device='cuda:0')"
      ]
     },
     "execution_count": 6,
     "metadata": {},
     "output_type": "execute_result"
    }
   ],
   "source": [
    "molecule.q"
   ]
  },
  {
   "cell_type": "code",
   "execution_count": 7,
   "id": "a9033236-9a2e-4b23-ae60-4dfb05a12c39",
   "metadata": {},
   "outputs": [
    {
     "data": {
      "text/plain": [
       "tensor([[ 0.3710, -0.0025,  0.0009],\n",
       "        [ 0.0055,  0.0529,  0.0060]], device='cuda:0')"
      ]
     },
     "execution_count": 7,
     "metadata": {},
     "output_type": "execute_result"
    }
   ],
   "source": [
    "molecule.d"
   ]
  },
  {
   "cell_type": "code",
   "execution_count": null,
   "id": "3e2e82c4-45ec-4ea9-b37d-244ce6d61544",
   "metadata": {},
   "outputs": [],
   "source": []
  }
 ],
 "metadata": {
  "kernelspec": {
   "display_name": "pyseqm_4",
   "language": "python",
   "name": "pyseqm_4"
  },
  "language_info": {
   "codemirror_mode": {
    "name": "ipython",
    "version": 3
   },
   "file_extension": ".py",
   "mimetype": "text/x-python",
   "name": "python",
   "nbconvert_exporter": "python",
   "pygments_lexer": "ipython3",
   "version": "3.9.15"
  }
 },
 "nbformat": 4,
 "nbformat_minor": 5
}
