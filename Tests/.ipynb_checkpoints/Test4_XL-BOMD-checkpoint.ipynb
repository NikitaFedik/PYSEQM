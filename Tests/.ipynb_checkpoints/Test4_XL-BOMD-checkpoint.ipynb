{
 "cells": [
  {
   "cell_type": "markdown",
   "id": "5e596866-8ca5-437f-ba60-8024305241d6",
   "metadata": {},
   "source": [
    "# XL-BOMD\n",
    "### see https://aip.scitation.org/doi/full/10.1063/1.3148075 for details."
   ]
  },
  {
   "cell_type": "code",
   "execution_count": 5,
   "id": "e7f5375b-e6f8-43c5-8812-00acdb615df1",
   "metadata": {},
   "outputs": [],
   "source": [
    "import torch\n",
    "from seqm.seqm_functions.constants import Constants\n",
    "from seqm.Molecule import Molecule\n",
    "from seqm.MolecularDynamics import XL_BOMD_MD\n",
    "\n",
    "torch.set_default_dtype(torch.float64)\n",
    "if torch.cuda.is_available():\n",
    "    device = torch.device('cuda')\n",
    "else:\n",
    "    device = torch.device('cpu')"
   ]
  },
  {
   "cell_type": "code",
   "execution_count": 6,
   "id": "7094efd9-0a57-4636-8583-e2d776da3684",
   "metadata": {},
   "outputs": [
    {
     "name": "stdout",
     "output_type": "stream",
     "text": [
      "Step,    Temp,    E(kinetic),  E(potential),  E(total)\n",
      "     1   442.65   2.288701e-01 -1.356180e+00 -1.127310e+00 ||    128.16   6.626367e-02 1.420716e+00 1.486980e+00 || \n",
      "     2   409.89   2.119304e-01 -1.339703e+00 -1.127773e+00 ||    181.46   9.382008e-02 1.392797e+00 1.486617e+00 || \n",
      "     3   361.74   1.870354e-01 -1.314812e+00 -1.127776e+00 ||    258.06   1.334261e-01 1.352702e+00 1.486128e+00 || \n",
      "     4   305.79   1.581053e-01 -1.285028e+00 -1.126923e+00 ||    347.28   1.795594e-01 1.306117e+00 1.485676e+00 || \n",
      "     5   249.90   1.292066e-01 -1.255630e+00 -1.126424e+00 ||    435.86   2.253553e-01 1.259878e+00 1.485233e+00 || \n",
      "     6   201.67   1.042694e-01 -1.230482e+00 -1.126212e+00 ||    509.49   2.634270e-01 1.221389e+00 1.484816e+00 || \n",
      "     7   167.19   8.644178e-02 -1.212636e+00 -1.126194e+00 ||    555.12   2.870203e-01 1.197414e+00 1.484434e+00 || \n",
      "     8   149.21   7.714519e-02 -1.203530e+00 -1.126384e+00 ||    563.40   2.913009e-01 1.192892e+00 1.484193e+00 || \n",
      "     9   146.32   7.565356e-02 -1.202221e+00 -1.126567e+00 ||    530.84   2.744633e-01 1.209767e+00 1.484231e+00 || \n",
      "    10   153.88   7.956005e-02 -1.206408e+00 -1.126848e+00 ||    461.11   2.384133e-01 1.246192e+00 1.484605e+00 || \n",
      "CPU times: user 3.49 s, sys: 23.2 ms, total: 3.51 s\n",
      "Wall time: 3.5 s\n"
     ]
    }
   ],
   "source": [
    "%%time\n",
    "species = torch.as_tensor([[8,6,1,1],[5,1,1,1]],dtype=torch.int64, device=device)[:]\n",
    "coordinates = torch.tensor([\n",
    "                  [\n",
    "                   [ 0.00,  0.0,  0.0],\n",
    "                   [ 1.22,  0.0,  0.0],\n",
    "                   [ 1.82,  0.94, 0.0],\n",
    "                   [ 1.82, -0.94, 0.0]\n",
    "                  ],\n",
    "                  [\n",
    "                   [ 0.00,  0.00,  0.00],\n",
    "                   [ 1.20,  0.00,  0.00],\n",
    "                   [-0.60,  1.03,  0.00],\n",
    "                   [-0.60, -1.03,  0.00]\n",
    "                  ]\n",
    "                 ], device=device)[:]\n",
    "\n",
    "const = Constants().to(device)\n",
    "\n",
    "elements = [0]+sorted(set(species.reshape(-1).tolist()))\n",
    "seqm_parameters = {\n",
    "                   'method' : 'AM1',  # AM1, MNDO, PM#\n",
    "                   'scf_eps' : 1.0e-6,  # unit eV, change of electric energy, as nuclear energy doesnt' change during SCF\n",
    "                   'scf_converger' : [2,0.0], # converger used for scf loop\n",
    "                                         # [0, 0.1], [0, alpha] constant mixing, P = alpha*P + (1.0-alpha)*Pnew\n",
    "                                         # [1], adaptive mixing\n",
    "                                         # [2], adaptive mixing, then pulay\n",
    "                   'sp2' : [False, 1.0e-5],  # whether to use sp2 algorithm in scf loop,\n",
    "                                            #[True, eps] or [False], eps for SP2 conve criteria\n",
    "                   'elements' : elements, #[0,1,6,8],\n",
    "                   'learned' : [], # learned parameters name list, e.g ['U_ss']\n",
    "                   #'parameter_file_dir' : '../seqm/params/', # file directory for other required parameters\n",
    "                   'pair_outer_cutoff' : 1.0e10, # consistent with the unit on coordinates\n",
    "                   'eig' : True\n",
    "                   }\n",
    "\n",
    "output={'molid':[0, 1], 'thermo':1, 'dump':1, 'prefix':'Outputs/XL-BOMD'}\n",
    "molecule = Molecule(const, seqm_parameters, coordinates, species).to(device)\n",
    "\n",
    "# Set k for the dissipative electronic force term. See https://aip.scitation.org/doi/full/10.1063/1.3148075 for details.\n",
    "md =  XL_BOMD_MD(k=6, seqm_parameters=seqm_parameters, Temp=400.0, timestep=0.4, output=output).to(device)\n",
    "md.initialize_velocity(molecule )\n",
    "#remove center of mass velocity\n",
    "# Info_log flag generates .txt wtih additional info for every step (orbital energies, dipole)\n",
    "_ = md.run(molecule, 10, remove_com=[True, 1], Info_log=True)"
   ]
  },
  {
   "cell_type": "code",
   "execution_count": null,
   "id": "ea50b0f1-fa2e-4706-b3c5-5f5a9d98c989",
   "metadata": {},
   "outputs": [],
   "source": []
  }
 ],
 "metadata": {
  "kernelspec": {
   "display_name": "pyseqm_4",
   "language": "python",
   "name": "pyseqm_4"
  },
  "language_info": {
   "codemirror_mode": {
    "name": "ipython",
    "version": 3
   },
   "file_extension": ".py",
   "mimetype": "text/x-python",
   "name": "python",
   "nbconvert_exporter": "python",
   "pygments_lexer": "ipython3",
   "version": "3.9.15"
  }
 },
 "nbformat": 4,
 "nbformat_minor": 5
}
