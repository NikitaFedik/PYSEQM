{
 "cells": [
  {
   "cell_type": "markdown",
   "id": "fcfb8b0a-1b5d-4de4-97f1-9228b2dffcbc",
   "metadata": {},
   "source": [
    "# Example of geometry optimization"
   ]
  },
  {
   "cell_type": "code",
   "execution_count": 5,
   "id": "af25061b-d7f2-407c-8cb0-130049fcc6cb",
   "metadata": {},
   "outputs": [],
   "source": [
    "import torch\n",
    "from seqm.seqm_functions.constants import Constants\n",
    "from seqm.Molecule import Molecule\n",
    "from seqm.MolecularDynamics import Geometry_Optimization_SD\n",
    "#from seqm.seqm_functions.read_xyz import read_xyz\n",
    "import numpy as np\n",
    "torch.set_default_dtype(torch.float64)\n",
    "if torch.cuda.is_available():\n",
    "    device = torch.device('cuda')\n",
    "else:\n",
    "    device = torch.device('cpu')"
   ]
  },
  {
   "cell_type": "code",
   "execution_count": 16,
   "id": "4c278f4d-61da-40a3-9ed6-54e7254ab44e",
   "metadata": {},
   "outputs": [],
   "source": [
    "def read_xyz(files):\n",
    "    '''\n",
    "    reads xyz structure from a list (files) of files names\n",
    "    '''\n",
    "    #SPECIES = []\n",
    "    COORDINATES = []\n",
    "    for file in files:\n",
    "        f = open(file)\n",
    "        lines = f.readlines()\n",
    "        f.close()\n",
    "        Natoms = int(lines[0])\n",
    "        #species = []\n",
    "        coords = []\n",
    "        for i in range(2, 2+Natoms):\n",
    "            #species.append(int(lines[i].split()[0]))\n",
    "            coords.append([int(lines[i].split()[0]), float(lines[i].split()[1]), float(lines[i].split()[2]), float(lines[i].split()[3])])\n",
    "        #SPECIES.append(species)\n",
    "        COORDINATES.append(coords)\n",
    "    COORDINATES = np.array(COORDINATES)\n",
    "    COORDINATES = COORDINATES[:,(-1*COORDINATES[:, :, 0]).argsort()]\n",
    "    SPECIES =COORDINATES[:,:,:,0].astype(int)[0]\n",
    "    COORDINATES = COORDINATES[:,:,:,1:4][0]\n",
    "\n",
    "    return SPECIES, COORDINATES"
   ]
  },
  {
   "cell_type": "code",
   "execution_count": 17,
   "id": "b30a529c-d535-4226-915e-b4aa69cd4600",
   "metadata": {},
   "outputs": [
    {
     "name": "stdout",
     "output_type": "stream",
     "text": [
      "1 6.239775e-01 4.242794e+00 0.000000e+00 4.242794e+00 4.242794e+00 0.000000e+00 4.242794e+00 \n",
      "2 4.805291e-01 4.213922e+00 4.242794e+00 -2.887210e-02 4.213922e+00 4.242794e+00 -2.887210e-02 \n",
      "3 3.749148e-01 4.199006e+00 4.213922e+00 -1.491619e-02 4.199006e+00 4.213922e+00 -1.491619e-02 \n",
      "4 2.951300e-01 4.190817e+00 4.199006e+00 -8.188616e-03 4.190817e+00 4.199006e+00 -8.188627e-03 \n",
      "5 2.381131e-01 4.186020e+00 4.190817e+00 -4.797443e-03 4.186020e+00 4.190817e+00 -4.797433e-03 \n",
      "6 1.943253e-01 4.183014e+00 4.186020e+00 -3.005341e-03 4.183014e+00 4.186020e+00 -3.005349e-03 \n",
      "7 1.611150e-01 4.181025e+00 4.183014e+00 -1.989355e-03 4.181025e+00 4.183014e+00 -1.989353e-03 \n",
      "8 1.344874e-01 4.179646e+00 4.181025e+00 -1.379087e-03 4.179646e+00 4.181025e+00 -1.379083e-03 \n",
      "9 1.136134e-01 4.178655e+00 4.179646e+00 -9.904667e-04 4.178655e+00 4.179646e+00 -9.904622e-04 \n",
      "10 9.542415e-02 4.177923e+00 4.178655e+00 -7.323228e-04 4.177923e+00 4.178655e+00 -7.323238e-04 \n",
      "converged with 10 step, Max Force = 9.542415e-02 (eV/Ang), dE = -7.323233e-04 (eV)\n",
      "CPU times: user 50 s, sys: 1.1 s, total: 51.1 s\n",
      "Wall time: 2.95 s\n"
     ]
    }
   ],
   "source": [
    "%%time\n",
    "torch.manual_seed(0)\n",
    "files = ['coronene.xyz', 'coronene.xyz']\n",
    "\n",
    "species, coordinates = read_xyz(files)\n",
    "species = torch.as_tensor(species,dtype=torch.int64, device=device)[:]\n",
    "coordinates = torch.tensor(coordinates, device=device)[:]\n",
    "const = Constants().to(device)\n",
    "#may need to add scaling factor for length and energy on const, check constants.py\n",
    "\n",
    "elements = [0]+sorted(set(species.reshape(-1).tolist()))\n",
    "seqm_parameters = {\n",
    "                   'method' : 'AM1',  # AM1, MNDO, PM#\n",
    "                   'scf_eps' : 1.0e-6,  # unit eV, change of electric energy, as nuclear energy doesnt' change during SCF\n",
    "                   'scf_converger' : [2,0.0], # converger used for scf loop\n",
    "                                         # [0, 0.1], [0, alpha] constant mixing, P = alpha*P + (1.0-alpha)*Pnew\n",
    "                                         # [1], adaptive mixing\n",
    "                                         # [2], adaptive mixing, then pulay\n",
    "                   'sp2' : [False, 1.0e-5],  # whether to use sp2 algorithm in scf loop,\n",
    "                                            #[True, eps] or [False], eps for SP2 conve criteria\n",
    "                   'elements' : elements, #[0,1,6,8],\n",
    "                   'learned' : [], # learned parameters name list, e.g ['U_ss']\n",
    "                   #'parameter_file_dir' : '../seqm/params/', # file directory for other required parameters\n",
    "                   'pair_outer_cutoff' : 1.0e10, # consistent with the unit on coordinates\n",
    "                   'eig' : True\n",
    "                   }\n",
    "\n",
    "mol = Molecule(const, seqm_parameters, coordinates, species).to(device)\n",
    "\n",
    "opt =  Geometry_Optimization_SD(seqm_parameters, alpha=0.003, force_tol=1.0e-1, max_evl=1000).to(device)\n",
    "coordinates, force_err, energy_err =  opt.run(mol)"
   ]
  },
  {
   "cell_type": "code",
   "execution_count": 18,
   "id": "aef8eb6e-ce1b-4590-9032-35d017f4bc3a",
   "metadata": {},
   "outputs": [
    {
     "name": "stdout",
     "output_type": "stream",
     "text": [
      "1 6.239775e-01 4.242794e+00 0.000000e+00 4.242794e+00 \n",
      "2 4.805291e-01 4.213922e+00 4.242794e+00 -2.887210e-02 \n",
      "3 3.749148e-01 4.199006e+00 4.213922e+00 -1.491619e-02 \n",
      "4 2.951300e-01 4.190817e+00 4.199006e+00 -8.188630e-03 \n",
      "5 2.381125e-01 4.186020e+00 4.190817e+00 -4.797428e-03 \n",
      "6 1.943251e-01 4.183014e+00 4.186020e+00 -3.005349e-03 \n",
      "7 1.611147e-01 4.181025e+00 4.183014e+00 -1.989351e-03 \n",
      "8 1.344874e-01 4.179646e+00 4.181025e+00 -1.379084e-03 \n",
      "9 1.136134e-01 4.178655e+00 4.179646e+00 -9.904661e-04 \n",
      "10 9.542397e-02 4.177923e+00 4.178655e+00 -7.323260e-04 \n",
      "converged with 10 step, Max Force = 9.542397e-02 (eV/Ang), dE = -7.323260e-04 (eV)\n",
      "CPU times: user 46.3 s, sys: 839 ms, total: 47.2 s\n",
      "Wall time: 2.73 s\n"
     ]
    }
   ],
   "source": [
    "%%time\n",
    "torch.manual_seed(0)\n",
    "files = ['coronene.xyz']\n",
    "\n",
    "species, coordinates = read_xyz(files)\n",
    "species = torch.as_tensor(species,dtype=torch.int64, device=device)[:]\n",
    "coordinates = torch.tensor(coordinates, device=device)[:]\n",
    "const = Constants().to(device)\n",
    "#may need to add scaling factor for length and energy on const, check constants.py\n",
    "\n",
    "elements = [0]+sorted(set(species.reshape(-1).tolist()))\n",
    "seqm_parameters = {\n",
    "                   'method' : 'AM1',  # AM1, MNDO, PM#\n",
    "                   'scf_eps' : 1.0e-6,  # unit eV, change of electric energy, as nuclear energy doesnt' change during SCF\n",
    "                   'scf_converger' : [2,0.0], # converger used for scf loop\n",
    "                                         # [0, 0.1], [0, alpha] constant mixing, P = alpha*P + (1.0-alpha)*Pnew\n",
    "                                         # [1], adaptive mixing\n",
    "                                         # [2], adaptive mixing, then pulay\n",
    "                   'sp2' : [False, 1.0e-5],  # whether to use sp2 algorithm in scf loop,\n",
    "                                            #[True, eps] or [False], eps for SP2 conve criteria\n",
    "                   'elements' : elements, #[0,1,6,8],\n",
    "                   'learned' : [], # learned parameters name list, e.g ['U_ss']\n",
    "                   #'parameter_file_dir' : '../seqm/params/', # file directory for other required parameters\n",
    "                   'pair_outer_cutoff' : 1.0e10, # consistent with the unit on coordinates\n",
    "                   'eig' : True\n",
    "                   }\n",
    "\n",
    "mol = Molecule(const, seqm_parameters, coordinates, species).to(device)\n",
    "\n",
    "opt =  Geometry_Optimization_SD(seqm_parameters, alpha=0.003, force_tol=1.0e-1, max_evl=1000).to(device)\n",
    "coordinates,force_err, energy_err =  opt.run(mol)"
   ]
  },
  {
   "cell_type": "code",
   "execution_count": 19,
   "id": "70f5de4c-da4e-4e11-ae7f-06cf540cc98c",
   "metadata": {},
   "outputs": [
    {
     "data": {
      "text/plain": [
       "(array([[6, 6, 6, 6, 6, 6, 6, 6, 6, 6, 6, 6, 6, 6, 6, 6, 6, 6, 6, 6, 6, 6,\n",
       "         6, 6, 1, 1, 1, 1, 1, 1, 1, 1, 1, 1, 1, 1]]),\n",
       " array([[[-0.48230796,  0.        , -4.98583584],\n",
       "         [-0.48230796,  1.34890014,  2.25923508],\n",
       "         [-0.48230796,  0.        ,  2.51037571],\n",
       "         [-0.48230796,  1.85193619,  0.92703549],\n",
       "         [-0.48230796,  3.24595401,  0.63632275],\n",
       "         [-0.48230796,  3.70291001, -0.65742944],\n",
       "         [-0.48230796,  2.80071004, -1.75917115],\n",
       "         [-0.48230796,  2.35401082, -4.15439425],\n",
       "         [-0.48230796, -3.24595401, -3.11178288],\n",
       "         [-0.48230796, -3.70291001, -1.81803069],\n",
       "         [-0.48230796, -2.80071004, -0.71628898],\n",
       "         [-0.48230796, -3.24595495,  0.63632256],\n",
       "         [-0.48230796,  3.24595495, -3.11178269],\n",
       "         [-0.48230796, -0.94877352,  1.44847563],\n",
       "         [-0.48230796,  0.92794007, -0.15304247],\n",
       "         [-0.48230796, -0.47539703,  0.10823311],\n",
       "         [-0.48230796, -1.40333711, -0.97645449],\n",
       "         [-0.48230796,  1.40333711, -1.49900564],\n",
       "         [-0.48230796, -1.34890014, -4.73469521],\n",
       "         [-0.48230796, -1.85193619, -3.40249562],\n",
       "         [-0.48230796, -0.92794007, -2.32241766],\n",
       "         [-0.48230796,  0.47539703, -2.58369324],\n",
       "         [-0.48230796,  0.94877352, -3.92393576],\n",
       "         [-0.48230796, -2.35401082,  1.67893412],\n",
       "         [-0.48230796,  3.95033665,  1.46394496],\n",
       "         [-0.48230796,  4.77083059, -0.85907042],\n",
       "         [-0.48230796, -0.3645501 ,  3.53419927],\n",
       "         [-0.48230796, -4.31488709,  0.83252519],\n",
       "         [-0.48230796, -2.71334473,  2.70460005],\n",
       "         [-0.48230796,  2.05748553,  3.08326065],\n",
       "         [-0.48230796,  0.3645501 , -6.0096594 ],\n",
       "         [-0.48230796, -4.77083059, -1.61638971],\n",
       "         [-0.48230796, -3.95033665, -3.93940509],\n",
       "         [-0.48230796,  2.71334473, -5.18006019],\n",
       "         [-0.48230796, -2.05748553, -5.55872078],\n",
       "         [-0.48230796,  4.31488709, -3.30798532]]]))"
      ]
     },
     "execution_count": 19,
     "metadata": {},
     "output_type": "execute_result"
    }
   ],
   "source": [
    "species, coordinates = read_xyz(files)\n",
    "species, coordinates"
   ]
  },
  {
   "cell_type": "code",
   "execution_count": null,
   "id": "fb1b897f-0a02-47a4-9cfc-af59e8f5aebe",
   "metadata": {},
   "outputs": [],
   "source": []
  },
  {
   "cell_type": "code",
   "execution_count": 21,
   "id": "90e670b8-33a8-4f37-b0b8-cfb9ea7035f6",
   "metadata": {},
   "outputs": [
    {
     "data": {
      "text/plain": [
       "tensor([[[-4.8231e-01, -8.9861e-04, -4.9805e+00],\n",
       "         [-4.8231e-01,  1.3461e+00,  2.2546e+00],\n",
       "         [-4.8231e-01,  8.9861e-04,  2.5050e+00],\n",
       "         [-4.8231e-01,  1.8466e+00,  9.2075e-01],\n",
       "         [-4.8231e-01,  3.2418e+00,  6.3287e-01],\n",
       "         [-4.8231e-01,  3.6975e+00, -6.5737e-01],\n",
       "         [-4.8231e-01,  2.7926e+00, -1.7577e+00],\n",
       "         [-4.8231e-01,  2.3513e+00, -4.1497e+00],\n",
       "         [-4.8231e-01, -3.2418e+00, -3.1083e+00],\n",
       "         [-4.8231e-01, -3.6975e+00, -1.8181e+00],\n",
       "         [-4.8231e-01, -2.7926e+00, -7.1780e-01],\n",
       "         [-4.8231e-01, -3.2409e+00,  6.3442e-01],\n",
       "         [-4.8231e-01,  3.2409e+00, -3.1099e+00],\n",
       "         [-4.8231e-01, -9.4602e-01,  1.4407e+00],\n",
       "         [-4.8231e-01,  9.2999e-01, -1.5065e-01],\n",
       "         [-4.8231e-01, -4.7645e-01,  1.1121e-01],\n",
       "         [-4.8231e-01, -1.4064e+00, -9.7588e-01],\n",
       "         [-4.8231e-01,  1.4064e+00, -1.4996e+00],\n",
       "         [-4.8231e-01, -1.3461e+00, -4.7300e+00],\n",
       "         [-4.8231e-01, -1.8466e+00, -3.3962e+00],\n",
       "         [-4.8231e-01, -9.2999e-01, -2.3248e+00],\n",
       "         [-4.8231e-01,  4.7645e-01, -2.5867e+00],\n",
       "         [-4.8231e-01,  9.4602e-01, -3.9161e+00],\n",
       "         [-4.8231e-01, -2.3513e+00,  1.6742e+00],\n",
       "         [-4.8231e-01,  3.9537e+00,  1.4700e+00],\n",
       "         [-4.8231e-01,  4.7772e+00, -8.6164e-01],\n",
       "         [-4.8231e-01, -3.6809e-01,  3.5401e+00],\n",
       "         [-4.8231e-01, -4.3218e+00,  8.3243e-01],\n",
       "         [-4.8231e-01, -2.7143e+00,  2.7114e+00],\n",
       "         [-4.8231e-01,  2.0629e+00,  3.0875e+00],\n",
       "         [-4.8231e-01,  3.6809e-01, -6.0156e+00],\n",
       "         [-4.8231e-01, -4.7772e+00, -1.6138e+00],\n",
       "         [-4.8231e-01, -3.9537e+00, -3.9454e+00],\n",
       "         [-4.8231e-01,  2.7143e+00, -5.1869e+00],\n",
       "         [-4.8231e-01, -2.0629e+00, -5.5630e+00],\n",
       "         [-4.8231e-01,  4.3218e+00, -3.3079e+00]]], device='cuda:0',\n",
       "       requires_grad=True)"
      ]
     },
     "execution_count": 21,
     "metadata": {},
     "output_type": "execute_result"
    }
   ],
   "source": [
    "mol.coordinates"
   ]
  },
  {
   "cell_type": "code",
   "execution_count": null,
   "id": "25c58c5d-bcff-487e-9c25-aaca3432cd34",
   "metadata": {},
   "outputs": [],
   "source": []
  },
  {
   "cell_type": "code",
   "execution_count": null,
   "id": "f6701aea-b600-4e84-a4ed-da79550ba0e0",
   "metadata": {},
   "outputs": [],
   "source": []
  }
 ],
 "metadata": {
  "kernelspec": {
   "display_name": "pyseqm_4",
   "language": "python",
   "name": "pyseqm_4"
  },
  "language_info": {
   "codemirror_mode": {
    "name": "ipython",
    "version": 3
   },
   "file_extension": ".py",
   "mimetype": "text/x-python",
   "name": "python",
   "nbconvert_exporter": "python",
   "pygments_lexer": "ipython3",
   "version": "3.9.15"
  }
 },
 "nbformat": 4,
 "nbformat_minor": 5
}
