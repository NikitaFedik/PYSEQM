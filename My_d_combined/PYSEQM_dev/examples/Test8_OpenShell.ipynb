{
 "cells": [
  {
   "cell_type": "markdown",
   "id": "f8f7961e-208e-4634-9d1d-13e8090d3fa4",
   "metadata": {},
   "source": [
    "# Open-shell\n",
    "\n",
    "## Currently, open-shell calculations support only linear mixing in SCF optimization.\n",
    "## Can do geometry optimization but not MD.\n",
    "## Will be fixed soon."
   ]
  },
  {
   "cell_type": "code",
   "execution_count": 2,
   "id": "0b17254d-3c5c-421b-98d4-287de276921f",
   "metadata": {},
   "outputs": [],
   "source": [
    "import torch\n",
    "import seqm\n",
    "from seqm.seqm_functions.constants import Constants\n",
    "from seqm.seqm_functions.make_dm_guess import make_dm_guess\n",
    "import matplotlib.pyplot as plt\n",
    "\n",
    "from seqm.Molecule import Molecule\n",
    "from seqm.ElectronicStructure import Electronic_Structure\n",
    "import numpy as np\n",
    "from seqm.seqm_functions.read_xyz import read_xyz\n",
    "from seqm.MolecularDynamics import Geometry_Optimization_SD\n",
    "\n",
    "DTYPE = torch.float64\n",
    "torch.set_default_dtype(DTYPE)\n",
    "if torch.cuda.is_available():\n",
    "    device = torch.device('cuda')\n",
    "else:\n",
    "    device = torch.device('cpu')"
   ]
  },
  {
   "cell_type": "markdown",
   "id": "15d691b1-02d3-45ba-85d0-4512fab356c7",
   "metadata": {},
   "source": [
    "# Carbene (CH2) and O2, triplets"
   ]
  },
  {
   "cell_type": "code",
   "execution_count": 6,
   "id": "6334e349-0a22-492e-ae62-a69afee001d1",
   "metadata": {},
   "outputs": [],
   "source": [
    "species = torch.as_tensor([\n",
    "                            [6,1,1],\n",
    "                            [8,8,0]\n",
    "                          ], dtype=torch.int64, device=device)\n",
    "\n",
    "coordinates = torch.tensor([\n",
    "                            [[ 1.2437e-01,  4.4651e-02,  1.7825e-01],\n",
    "                             [ 1.1301e+00, -3.9041e-02, -1.5585e-01],\n",
    "                             [-5.6454e-01,  2.4138e-01,  9.6361e-01]],\n",
    "\n",
    "                            [[ 1.9663e-04,  3.0676e-04, -1.0761e-03],\n",
    "                             [ 3.0337e-04,  9.3247e-05,  1.1676e+00],\n",
    "                             [ 0.0000e+00,  0.0000e+00,  0.0000e+00]]\n",
    "    \n",
    "                            ], device=device)\n",
    "\n",
    "const = Constants().to(device)\n",
    "\n",
    "elements = [0]+sorted(set(species.reshape(-1).tolist()))\n",
    "\n",
    "seqm_parameters = {\n",
    "                   'method' : 'PM3',\n",
    "                   'scf_eps' : 1.0e-6,  # unit eV, change of electric energy, as nuclear energy doesnt' change during SCF\n",
    "                   'scf_converger' : [0,0.5], # converger used for scf loop\n",
    "                   'sp2' : [False, 1.0e-5],  # whether to use sp2 algorithm in scf loop,\n",
    "                   'elements' : elements, #[0,1,6,8],\n",
    "                   'learned' : [], # learned parameters name list, e.g ['U_ss']\n",
    "                   'pair_outer_cutoff' : 1.0e10, # consistent with the unit on coordinates\n",
    "                   'eig' : True,\n",
    "                   'scf_backward' : 0,\n",
    "                   'UHF' : True, ### use unrestricted HF\n",
    "                   }\n",
    "\n",
    "# specify charges and multiplicity\n",
    "charges = torch.tensor([0,0],dtype=torch.int64, device=device)\n",
    "mult = torch.tensor([3,3], device=device)\n",
    "\n",
    "molecule = Molecule(const, seqm_parameters, coordinates, species, charges, mult).to(device)"
   ]
  },
  {
   "cell_type": "code",
   "execution_count": 8,
   "id": "a4e6f552-4591-45bd-adfa-0041762d9ce2",
   "metadata": {
    "scrolled": true,
    "tags": []
   },
   "outputs": [
    {
     "name": "stdout",
     "output_type": "stream",
     "text": [
      "Step,  Max_Force,      Etot(eV),     dE(eV)\n",
      "1      8.860222e-03 ||3.106364e+00 3.106364e+00 ||-1.812879e-01 -1.812879e-01 \n",
      "converged with 1 step, Max Force = 8.860222e-03 (eV/Ang), dE = 1.462538e+00 (eV)\n"
     ]
    }
   ],
   "source": [
    "# optimize geometry\n",
    "opt =  Geometry_Optimization_SD(seqm_parameters, alpha=0.01, force_tol=1.0e-2, max_evl=400).to(device)\n",
    "max_force, dE =  opt.run(molecule)"
   ]
  },
  {
   "cell_type": "code",
   "execution_count": 9,
   "id": "4ebeab1b-6278-4cba-9184-54ad7b81f96d",
   "metadata": {},
   "outputs": [
    {
     "data": {
      "text/plain": [
       "tensor([-146.1992, -584.0310], device='cuda:0')"
      ]
     },
     "execution_count": 9,
     "metadata": {},
     "output_type": "execute_result"
    }
   ],
   "source": [
    "# Total energy\n",
    "molecule.Etot"
   ]
  },
  {
   "cell_type": "markdown",
   "id": "220987f1-929c-4e0b-8cda-a58f83ea2204",
   "metadata": {},
   "source": [
    "## Compare with energies of singlets"
   ]
  },
  {
   "cell_type": "code",
   "execution_count": 10,
   "id": "8625ab0e-9e8a-4366-acf3-8bca172ace94",
   "metadata": {},
   "outputs": [],
   "source": [
    "coordinates = torch.tensor([\n",
    "                            [[-2.2974e-02, -7.9243e-03, -3.1638e-02],\n",
    "                             [ 1.0669e+00,  9.8889e-03,  3.9484e-02],\n",
    "                             [-3.5404e-01,  2.4503e-01,  9.7816e-01]],\n",
    "\n",
    "                            [[ 1.9159e-04,  3.1941e-04, -1.4933e-03],\n",
    "                             [ 3.0841e-04,  8.0601e-05,  1.1680e+00],\n",
    "                             [ 0.0000e+00,  0.0000e+00,  0.0000e+00]]\n",
    "    \n",
    "                            ], device=device)\n",
    "\n",
    "charges = torch.tensor([0,0],dtype=torch.int64, device=device)\n",
    "mult = torch.tensor([1,1], device=device)\n",
    "\n",
    "molecule = Molecule(const, seqm_parameters, coordinates, species, charges, mult).to(device)\n"
   ]
  },
  {
   "cell_type": "code",
   "execution_count": 11,
   "id": "2faa90ef-4531-4f57-911d-62bad7aa8b63",
   "metadata": {
    "scrolled": true,
    "tags": []
   },
   "outputs": [
    {
     "name": "stdout",
     "output_type": "stream",
     "text": [
      "Step,  Max_Force,      Etot(eV),     dE(eV)\n",
      "1      9.515048e-03 ||4.909879e+00 4.909879e+00 ||7.971812e-01 7.971812e-01 \n",
      "converged with 1 step, Max Force = 9.515048e-03 (eV/Ang), dE = 2.853530e+00 (eV)\n"
     ]
    }
   ],
   "source": [
    "opt =  Geometry_Optimization_SD(seqm_parameters, alpha=0.01, force_tol=1.0e-2, max_evl=400).to(device)\n",
    "max_force, dE =  opt.run(molecule)"
   ]
  },
  {
   "cell_type": "code",
   "execution_count": 12,
   "id": "75f0096b-b48c-4d2e-aa0d-facb44b137bd",
   "metadata": {},
   "outputs": [
    {
     "data": {
      "text/plain": [
       "tensor([-144.3957, -583.0526], device='cuda:0')"
      ]
     },
     "execution_count": 12,
     "metadata": {},
     "output_type": "execute_result"
    }
   ],
   "source": [
    "# Energies of singlets are higher than energies of triplets, as expected\n",
    "molecule.Etot"
   ]
  },
  {
   "cell_type": "markdown",
   "id": "2efcf273-2978-4cf3-a0ed-0f36c02ac23b",
   "metadata": {
    "tags": []
   },
   "source": [
    "# Open-shell singlet\n",
    "### H2 and HF separation\n",
    "### The symmetry needs to be broken. Otherwise, closed-shell solution.\n",
    "### Calculations will take a while because of linear mixing which is not the most efficient SCF optimization algorythm. Adaptive mixing for open shells will be added soon."
   ]
  },
  {
   "cell_type": "code",
   "execution_count": 13,
   "id": "4ec73366-a4e6-4f13-b931-6736ff32b659",
   "metadata": {},
   "outputs": [],
   "source": [
    "# array of bond lengths\n",
    "bond_l = np.linspace(0.7, 10.0, 41)\n",
    "\n",
    "species = torch.as_tensor([\n",
    "                       [1,1],\n",
    "                       [9,1],\n",
    "                            ],\n",
    "                      dtype=torch.int64, device=device)\n",
    "const = Constants().to(device)\n",
    "elements = [0]+sorted(set(species.reshape(-1).tolist()))\n",
    "charges = torch.tensor([0,0],dtype=torch.int64, device=device)"
   ]
  },
  {
   "cell_type": "markdown",
   "id": "902a0e73-7023-4f17-bd8b-a7c907b421fd",
   "metadata": {},
   "source": [
    "### Broken symmetry open-shell."
   ]
  },
  {
   "cell_type": "code",
   "execution_count": 16,
   "id": "0711c25c-8004-4c8d-8c85-6b39d0837e92",
   "metadata": {
    "scrolled": true,
    "tags": []
   },
   "outputs": [
    {
     "name": "stdout",
     "output_type": "stream",
     "text": [
      "Reinitializing DM\n",
      "Reinitializing DM\n",
      "Reinitializing DM\n",
      "Reinitializing DM\n",
      "Reinitializing DM\n",
      "Reinitializing DM\n",
      "Reinitializing DM\n",
      "Reinitializing DM\n",
      "Reinitializing DM\n",
      "Reinitializing DM\n",
      "Reinitializing DM\n",
      "Reinitializing DM\n",
      "Reinitializing DM\n",
      "Reinitializing DM\n",
      "Reinitializing DM\n",
      "Reinitializing DM\n",
      "Reinitializing DM\n",
      "Reinitializing DM\n",
      "Reinitializing DM\n",
      "Reinitializing DM\n",
      "Reinitializing DM\n",
      "Reinitializing DM\n",
      "Reinitializing DM\n",
      "Reinitializing DM\n",
      "Reinitializing DM\n",
      "Reinitializing DM\n",
      "Reinitializing DM\n",
      "Reinitializing DM\n",
      "Reinitializing DM\n",
      "Reinitializing DM\n",
      "Reinitializing DM\n",
      "Reinitializing DM\n",
      "Reinitializing DM\n",
      "Reinitializing DM\n",
      "Reinitializing DM\n",
      "Reinitializing DM\n",
      "Reinitializing DM\n",
      "Reinitializing DM\n",
      "Reinitializing DM\n",
      "Reinitializing DM\n",
      "Reinitializing DM\n"
     ]
    }
   ],
   "source": [
    "# arrays to record energies and charges\n",
    "E_os_break = np.array([[0,0]])\n",
    "Q_os_break = np.array([[[0,0],[0,0]]])\n",
    "\n",
    "for i in bond_l:\n",
    "    coordinates = torch.tensor([\n",
    "                              [\n",
    "                               [ 0.00,    0.00,    0.00],\n",
    "                               [ 0.00,    0.00,    i],\n",
    "                              ],\n",
    "                              [\n",
    "                               [0.00,    0.00,    0.00],\n",
    "                               [0.00,    0.00,    i],\n",
    "                              ],\n",
    "                            ], device=device)\n",
    "    \n",
    "    seqm_parameters = {\n",
    "                   'method' : 'PM3',  # AM1, MNDO, PM#\n",
    "                   'scf_eps' : 1.0e-7,  # unit eV, change of electric energy, as nuclear energy doesnt' change during SCF\n",
    "                   'scf_converger' : [0,0.95], # converger used for scf loop\n",
    "                                         # [0, 0.1], [0, alpha] constant mixing, P = alpha*P + (1.0-alpha)*Pnew\n",
    "                                         # [1], adaptive mixing\n",
    "                                         # [2], adaptive mixing, then pulay\n",
    "                   'sp2' : [False, 1.0e-5],  # whether to use sp2 algorithm in scf loop,\n",
    "                                            #[True, eps] or [False], eps for SP2 conve criteria\n",
    "                   'elements' : elements, #[0,1,6,8],\n",
    "                   'learned' : [], # learned parameters name list, e.g ['U_ss']\n",
    "                   #'parameter_file_dir' : '../seqm/params/', # file directory for other required parameters\n",
    "                   'pair_outer_cutoff' : 1.0e10, # consistent with the unit on coordinates\n",
    "                   'eig' : True,\n",
    "                   'scf_backward' : 0,\n",
    "                   'UHF' : True, # use unrestricted HF\n",
    "                   }\n",
    "    \n",
    "    mult = torch.tensor([1,1], device=device)\n",
    "    molecule = Molecule(const, seqm_parameters, coordinates, species, charges, mult).to(device)\n",
    "    \n",
    "    ### Break the symmetry of a DM guess: HOMO_alpha = 0.9*HOMO + 0.1*LUMO   (mix_coeff=0.1)\n",
    "    make_dm_guess(molecule, seqm_parameters, mix_homo_lumo=True, mix_coeff=0.1, overwrite_existing_dm=True);\n",
    "    \n",
    "    # Single point calculation with the current bond length\n",
    "    esdriver = Electronic_Structure(seqm_parameters).to(device)\n",
    "    esdriver(molecule, P0=molecule.dm)\n",
    "    \n",
    "    E_os_break = np.vstack((E_os_break,molecule.Etot.cpu().numpy()))\n",
    "    Q_os_break = np.vstack((Q_os_break,[molecule.q.cpu().numpy()]))\n",
    "    \n",
    "E_os_break = E_os_break[1:]\n",
    "Q_os_break = Q_os_break[1:]"
   ]
  },
  {
   "cell_type": "markdown",
   "id": "32e39b7c-7e32-454d-a8a0-33da4c3f2509",
   "metadata": {},
   "source": [
    "###  Closed-shell (equivalent to open-shell without breaking the symetry)."
   ]
  },
  {
   "cell_type": "code",
   "execution_count": 17,
   "id": "56771340-093c-497a-962c-85492c5ab69f",
   "metadata": {},
   "outputs": [],
   "source": [
    "E_cs = np.array([[0,0]])\n",
    "Q_cs = np.array([[[0,0],[0,0]]])\n",
    "\n",
    "dm=None\n",
    "for i in bond_l:\n",
    "\n",
    "    coordinates = torch.tensor([\n",
    "                              [[ 0.00,    0.00,    0.00],\n",
    "                               [ 0.00,    0.00,    i]],\n",
    "        \n",
    "                              [[0.00,    0.00,    0.00],\n",
    "                               [0.00,    0.00,    i]],\n",
    "                            ], device=device)\n",
    "    \n",
    "    \n",
    "    seqm_parameters = {\n",
    "                   'method' : 'PM3',  # AM1, MNDO, PM#\n",
    "                   'scf_eps' : 1.0e-6,  # unit eV, change of electric energy, as nuclear energy doesnt' change during SCF\n",
    "                   'scf_converger' : [0,0.95], # converger used for scf loop\n",
    "                                         # [0, 0.1], [0, alpha] constant mixing, P = alpha*P + (1.0-alpha)*Pnew\n",
    "                                         # [1], adaptive mixing\n",
    "                                         # [2], adaptive mixing, then pulay\n",
    "                   'sp2' : [False, 1.0e-5],  # whether to use sp2 algorithm in scf loop,\n",
    "                                            #[True, eps] or [False], eps for SP2 conve criteria\n",
    "                   'elements' : elements, #[0,1,6,8],\n",
    "                   'learned' : [], # learned parameters name list, e.g ['U_ss']\n",
    "                   #'parameter_file_dir' : '../seqm/params/', # file directory for other required parameters\n",
    "                   'pair_outer_cutoff' : 1.0e10, # consistent with the unit on coordinates\n",
    "                   'eig' : True,\n",
    "                   'scf_backward' : 0,\n",
    "                   'UHF' : False, # use unrestricted HF\n",
    "                   }\n",
    "    \n",
    "    mult = 1\n",
    "    molecule = Molecule(const, seqm_parameters, coordinates, species, charges, mult).to(device)\n",
    "    esdriver = Electronic_Structure(seqm_parameters).to(device)\n",
    "    esdriver(molecule)\n",
    "    E_cs = np.vstack((E_cs,molecule.Etot.cpu().numpy()))\n",
    "    Q_cs = np.vstack((Q_cs,[molecule.q.cpu().numpy()]))\n",
    "\n",
    "E_cs = E_cs[1:]\n",
    "Q_cs = Q_cs[1:]"
   ]
  },
  {
   "cell_type": "markdown",
   "id": "388c9868-2f95-4646-941b-49054d44c4af",
   "metadata": {},
   "source": [
    "### H2 separation energy curve."
   ]
  },
  {
   "cell_type": "code",
   "execution_count": 18,
   "id": "94e9096e-36ea-4766-96d3-5ef425f3a027",
   "metadata": {},
   "outputs": [
    {
     "data": {
      "text/plain": [
       "<matplotlib.legend.Legend at 0x7f80096e81f0>"
      ]
     },
     "execution_count": 18,
     "metadata": {},
     "output_type": "execute_result"
    },
    {
     "data": {
      "image/png": "[encoded data removed]",
      "text/plain": [
       "<Figure size 640x480 with 1 Axes>"
      ]
     },
     "metadata": {},
     "output_type": "display_data"
    }
   ],
   "source": [
    "plt.plot(bond_l, E_cs[:,0] - min(E_cs[:,0]), label='RHF')\n",
    "plt.plot(bond_l, E_os_break[:,0] - min(E_os_break[:,0]), label='UHF')\n",
    "plt.legend()"
   ]
  },
  {
   "cell_type": "code",
   "execution_count": null,
   "id": "1f4cbc98-a7a3-49ea-8a7a-0ba94532c4aa",
   "metadata": {},
   "outputs": [],
   "source": []
  },
  {
   "cell_type": "markdown",
   "id": "d2a7e17d-bf0e-4f9d-a9c9-3239bd96b551",
   "metadata": {},
   "source": [
    "### HF separation energy curve."
   ]
  },
  {
   "cell_type": "code",
   "execution_count": 19,
   "id": "f2dc2b91-3085-4bf9-94ac-de8a16df2e8c",
   "metadata": {},
   "outputs": [
    {
     "data": {
      "text/plain": [
       "<matplotlib.legend.Legend at 0x7f8009645a30>"
      ]
     },
     "execution_count": 19,
     "metadata": {},
     "output_type": "execute_result"
    },
    {
     "data": {
      "image/png": "[encoded data removed]",
      "text/plain": [
       "<Figure size 640x480 with 1 Axes>"
      ]
     },
     "metadata": {},
     "output_type": "display_data"
    }
   ],
   "source": [
    "plt.plot(bond_l, E_cs[:,1]-min(E_cs[:,1]), label='RHF')\n",
    "plt.plot(bond_l, E_os_break[:,1] - min(E_os_break[:,1]), label='UHF')\n",
    "#plt.plot(E_os_break_reuse_dm[:,1])\n",
    "plt.legend()"
   ]
  },
  {
   "cell_type": "markdown",
   "id": "57f0f79d-e32a-4248-99a1-adc6b513eab9",
   "metadata": {
    "tags": []
   },
   "source": [
    "### Charges on F and H at 0.93 Å (equilibrium) distance."
   ]
  },
  {
   "cell_type": "markdown",
   "id": "4a6e9a7b-a59a-4501-adfd-17eaf27bd973",
   "metadata": {},
   "source": [
    "#### Broken symmetry open-shell singlet"
   ]
  },
  {
   "cell_type": "code",
   "execution_count": 20,
   "id": "fcf307fd-b0a7-42d0-b2f3-7c9c3a7b885f",
   "metadata": {},
   "outputs": [
    {
     "data": {
      "text/plain": [
       "(-0.16475077642424196, 0.1647506017254214)"
      ]
     },
     "execution_count": 20,
     "metadata": {},
     "output_type": "execute_result"
    }
   ],
   "source": [
    "# F                    H\n",
    "Q_os_break[:,1,0][1], Q_os_break[:,1,1][1]"
   ]
  },
  {
   "cell_type": "markdown",
   "id": "3d099798-adde-48a8-955d-cdddd63e4470",
   "metadata": {},
   "source": [
    "#### Closed-shell singlet"
   ]
  },
  {
   "cell_type": "code",
   "execution_count": 21,
   "id": "d5655794-e4b4-4e56-98d6-46a1114f0d38",
   "metadata": {},
   "outputs": [
    {
     "data": {
      "text/plain": [
       "(-0.1647851705088188, 0.1647851705088198)"
      ]
     },
     "execution_count": 21,
     "metadata": {},
     "output_type": "execute_result"
    }
   ],
   "source": [
    "# F                    H\n",
    "Q_cs[:,1,0][1], Q_cs[:,1,1][1]"
   ]
  },
  {
   "cell_type": "code",
   "execution_count": null,
   "id": "fd23734b-ddfc-427d-95ba-9be1a6b9ebeb",
   "metadata": {},
   "outputs": [],
   "source": []
  },
  {
   "cell_type": "markdown",
   "id": "49d272cd-5970-43ef-8bb4-14100803c2ff",
   "metadata": {
    "tags": []
   },
   "source": [
    "### Charges on F and H at 10 Å distance."
   ]
  },
  {
   "cell_type": "markdown",
   "id": "9c151fd3-f541-49d5-916b-df59ccc77f35",
   "metadata": {},
   "source": [
    "#### Broken symmetry open-shell singlet. Almost zero (homolytic separation), which is correct."
   ]
  },
  {
   "cell_type": "code",
   "execution_count": 22,
   "id": "26500e1c-cde0-4222-8909-69359ffd7392",
   "metadata": {},
   "outputs": [
    {
     "data": {
      "text/plain": [
       "(-5.1932771634177755e-06, -1.2473832167667854e-05)"
      ]
     },
     "execution_count": 22,
     "metadata": {},
     "output_type": "execute_result"
    }
   ],
   "source": [
    "# F                    H\n",
    "Q_os_break[:,1,0][-1], Q_os_break[:,1,1][-1]"
   ]
  },
  {
   "cell_type": "markdown",
   "id": "2bcb05dd-a04e-46f1-8f97-c527167a047e",
   "metadata": {},
   "source": [
    "#### Closed-shell singlet. Non-zero charges, which is incorrect. In gas phase, separation shoud proceed homolytically."
   ]
  },
  {
   "cell_type": "code",
   "execution_count": 23,
   "id": "9d28eeb5-7038-4f0b-a211-264fdd19ee9c",
   "metadata": {},
   "outputs": [
    {
     "data": {
      "text/plain": [
       "(-0.29206280221770164, 0.29206280221769987)"
      ]
     },
     "execution_count": 23,
     "metadata": {},
     "output_type": "execute_result"
    }
   ],
   "source": [
    "# F                    H\n",
    "Q_cs[:,1,0][-1], Q_cs[:,1,1][-1]"
   ]
  },
  {
   "cell_type": "code",
   "execution_count": null,
   "id": "986fbf22-3ebb-4989-9ff0-a87541e6065d",
   "metadata": {},
   "outputs": [],
   "source": []
  }
 ],
 "metadata": {
  "kernelspec": {
   "display_name": "pyseqm_4",
   "language": "python",
   "name": "pyseqm_4"
  },
  "language_info": {
   "codemirror_mode": {
    "name": "ipython",
    "version": 3
   },
   "file_extension": ".py",
   "mimetype": "text/x-python",
   "name": "python",
   "nbconvert_exporter": "python",
   "pygments_lexer": "ipython3",
   "version": "3.9.15"
  }
 },
 "nbformat": 4,
 "nbformat_minor": 5
}
