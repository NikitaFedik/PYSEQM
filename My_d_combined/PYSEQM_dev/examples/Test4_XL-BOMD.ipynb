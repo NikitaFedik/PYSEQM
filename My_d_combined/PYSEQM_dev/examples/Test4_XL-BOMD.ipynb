{
 "cells": [
  {
   "cell_type": "markdown",
   "id": "5e596866-8ca5-437f-ba60-8024305241d6",
   "metadata": {},
   "source": [
    "# XL-BOMD\n",
    "## see https://aip.scitation.org/doi/full/10.1063/1.3148075 for details."
   ]
  },
  {
   "cell_type": "code",
   "execution_count": 1,
   "id": "e7f5375b-e6f8-43c5-8812-00acdb615df1",
   "metadata": {},
   "outputs": [],
   "source": [
    "import torch\n",
    "from seqm.seqm_functions.constants import Constants\n",
    "from seqm.Molecule import Molecule\n",
    "from seqm.MolecularDynamics import XL_BOMD\n",
    "\n",
    "torch.set_default_dtype(torch.float64)\n",
    "if torch.cuda.is_available():\n",
    "    device = torch.device('cuda')\n",
    "else:\n",
    "    device = torch.device('cpu')"
   ]
  },
  {
   "cell_type": "code",
   "execution_count": 3,
   "id": "7094efd9-0a57-4636-8583-e2d776da3684",
   "metadata": {},
   "outputs": [
    {
     "name": "stdout",
     "output_type": "stream",
     "text": [
      "Initialize velocities: zero_com\n",
      "Doing initialization\n",
      "Step,    Temp,    E(kinetic),  E(potential),  E(total)\n",
      "     1   280.01   1.447747e-01 -1.350262e+00 -1.205487e+00 ||    377.92   1.954009e-01 1.466852e+00 1.662253e+00 || \n",
      "     2   241.00   1.246049e-01 -1.330547e+00 -1.205942e+00 ||    338.37   1.749517e-01 1.487116e+00 1.662068e+00 || \n",
      "     3   192.14   9.934238e-02 -1.305328e+00 -1.205985e+00 ||    328.51   1.698518e-01 1.492053e+00 1.661905e+00 || \n",
      "     4   140.12   7.244645e-02 -1.277651e+00 -1.205204e+00 ||    347.02   1.794211e-01 1.482444e+00 1.661866e+00 || \n",
      "     5    91.10   4.710308e-02 -1.251810e+00 -1.204707e+00 ||    388.67   2.009560e-01 1.460626e+00 1.661582e+00 || \n",
      "     6    51.05   2.639654e-02 -1.230928e+00 -1.204532e+00 ||    445.53   2.303564e-01 1.430951e+00 1.661308e+00 || \n",
      "     7    25.35   1.310758e-02 -1.217638e+00 -1.204530e+00 ||    508.00   2.626565e-01 1.398344e+00 1.661000e+00 || \n",
      "     8    17.41   9.001947e-03 -1.213509e+00 -1.204507e+00 ||    566.01   2.926501e-01 1.367984e+00 1.660634e+00 || \n",
      "     9    27.69   1.431437e-02 -1.218866e+00 -1.204552e+00 ||    610.63   3.157181e-01 1.344479e+00 1.660197e+00 || \n",
      "    10    53.86   2.784945e-02 -1.232681e+00 -1.204831e+00 ||    635.34   3.284950e-01 1.331272e+00 1.659767e+00 || \n",
      "CPU times: user 3.57 s, sys: 22.7 ms, total: 3.59 s\n",
      "Wall time: 3.58 s\n"
     ]
    }
   ],
   "source": [
    "%%time\n",
    "torch.manual_seed(0)\n",
    "\n",
    "species = torch.as_tensor([[8,6,1,1],[5,1,1,1]],dtype=torch.int64, device=device)[:]\n",
    "coordinates = torch.tensor([\n",
    "                  [\n",
    "                   [ 0.00,  0.0,  0.0],\n",
    "                   [ 1.22,  0.0,  0.0],\n",
    "                   [ 1.82,  0.94, 0.0],\n",
    "                   [ 1.82, -0.94, 0.0]\n",
    "                  ],\n",
    "                  [\n",
    "                   [ 0.00,  0.00,  0.00],\n",
    "                   [ 1.20,  0.00,  0.00],\n",
    "                   [-0.60,  1.03,  0.00],\n",
    "                   [-0.60, -1.03,  0.00]\n",
    "                  ]\n",
    "                 ], device=device)[:]\n",
    "\n",
    "const = Constants().to(device)\n",
    "\n",
    "elements = [0]+sorted(set(species.reshape(-1).tolist()))\n",
    "seqm_parameters = {\n",
    "                   'method' : 'AM1',  # AM1, MNDO, PM#\n",
    "                   'scf_eps' : 1.0e-6,  # unit eV, change of electric energy, as nuclear energy doesnt' change during SCF\n",
    "                   'scf_converger' : [2,0.0], # converger used for scf loop\n",
    "                                         # [0, 0.1], [0, alpha] constant mixing, P = alpha*P + (1.0-alpha)*Pnew\n",
    "                                         # [1], adaptive mixing\n",
    "                                         # [2], adaptive mixing, then pulay\n",
    "                   'sp2' : [False, 1.0e-5],  # whether to use sp2 algorithm in scf loop,\n",
    "                                            #[True, eps] or [False], eps for SP2 conve criteria\n",
    "                   'elements' : elements, #[0,1,6,8],\n",
    "                   'learned' : [], # learned parameters name list, e.g ['U_ss']\n",
    "                   #'parameter_file_dir' : '../seqm/params/', # file directory for other required parameters\n",
    "                   'pair_outer_cutoff' : 1.0e10, # consistent with the unit on coordinates\n",
    "                   'eig' : True\n",
    "                   }\n",
    "\n",
    "molecule = Molecule(const, seqm_parameters, coordinates, species).to(device)\n",
    "\n",
    "# Set k for the dissipative electronic force term. See https://aip.scitation.org/doi/full/10.1063/1.3148075 for details.\n",
    "output={'molid':[0, 1], 'thermo':1, 'dump':1, 'prefix':'Outputs/4_XL-BOMD'}\n",
    "xl_bomd_params={'k':6}\n",
    "\n",
    "md =  XL_BOMD(xl_bomd_params=xl_bomd_params,\n",
    "              seqm_parameters=seqm_parameters, Temp=400.0, timestep=0.4, output=output).to(device)\n",
    "md.initialize_velocity(molecule )\n",
    "#remove center of mass velocity\n",
    "# Info_log flag generates .txt wtih additional info for every step (orbital energies, dipole)\n",
    "_ = md.run(molecule, 10, remove_com=[True, 1], Info_log=True)"
   ]
  },
  {
   "cell_type": "markdown",
   "id": "1d7b5fb6-e384-44c3-af15-e42702387697",
   "metadata": {},
   "source": [
    "## Damping (Langevin)"
   ]
  },
  {
   "cell_type": "code",
   "execution_count": 4,
   "id": "7a854fbc-f561-4fe9-9d6b-9bfde65e4dbd",
   "metadata": {},
   "outputs": [
    {
     "name": "stdout",
     "output_type": "stream",
     "text": [
      "Initialize velocities: zero_com\n",
      "Doing initialization\n",
      "Step,    Temp,    E(kinetic),  E(potential),  E(total)\n",
      "     1   285.79   1.477640e-01 -1.350202e+00 -1.202438e+00 ||    380.21   1.965849e-01 1.468534e+00 1.665119e+00 || \n",
      "     2   252.91   1.307640e-01 -1.329674e+00 -1.198910e+00 ||    364.07   1.882373e-01 1.489903e+00 1.678140e+00 || \n",
      "     3   212.76   1.100044e-01 -1.302967e+00 -1.192963e+00 ||    362.38   1.873650e-01 1.496224e+00 1.683589e+00 || \n",
      "     4   171.98   8.892239e-02 -1.271520e+00 -1.182598e+00 ||    394.36   2.038989e-01 1.487874e+00 1.691773e+00 || \n",
      "     5   123.99   6.410895e-02 -1.240546e+00 -1.176437e+00 ||    458.41   2.370160e-01 1.464583e+00 1.701599e+00 || \n",
      "     6    71.19   3.680733e-02 -1.213926e+00 -1.177119e+00 ||    515.47   2.665188e-01 1.436009e+00 1.702528e+00 || \n",
      "     7    29.85   1.543111e-02 -1.197917e+00 -1.182485e+00 ||    573.25   2.963936e-01 1.405441e+00 1.701834e+00 || \n",
      "     8    13.90   7.188450e-03 -1.192537e+00 -1.185349e+00 ||    611.36   3.160953e-01 1.377888e+00 1.693983e+00 || \n",
      "     9    23.91   1.236351e-02 -1.197585e+00 -1.185222e+00 ||    650.55   3.363603e-01 1.359247e+00 1.695607e+00 || \n",
      "    10    68.46   3.539440e-02 -1.213611e+00 -1.178217e+00 ||    695.35   3.595230e-01 1.351136e+00 1.710659e+00 || \n",
      "CPU times: user 3.56 s, sys: 18.6 ms, total: 3.58 s\n",
      "Wall time: 3.57 s\n"
     ]
    }
   ],
   "source": [
    "%%time\n",
    "torch.manual_seed(0)\n",
    "\n",
    "species = torch.as_tensor([[8,6,1,1],[5,1,1,1]],dtype=torch.int64, device=device)[:]\n",
    "coordinates = torch.tensor([\n",
    "                  [\n",
    "                   [ 0.00,  0.0,  0.0],\n",
    "                   [ 1.22,  0.0,  0.0],\n",
    "                   [ 1.82,  0.94, 0.0],\n",
    "                   [ 1.82, -0.94, 0.0]\n",
    "                  ],\n",
    "                  [\n",
    "                   [ 0.00,  0.00,  0.00],\n",
    "                   [ 1.20,  0.00,  0.00],\n",
    "                   [-0.60,  1.03,  0.00],\n",
    "                   [-0.60, -1.03,  0.00]\n",
    "                  ]\n",
    "                 ], device=device)[:]\n",
    "\n",
    "const = Constants().to(device)\n",
    "\n",
    "elements = [0]+sorted(set(species.reshape(-1).tolist()))\n",
    "seqm_parameters = {\n",
    "                   'method' : 'AM1',  # AM1, MNDO, PM#\n",
    "                   'scf_eps' : 1.0e-6,  # unit eV, change of electric energy, as nuclear energy doesnt' change during SCF\n",
    "                   'scf_converger' : [2,0.0], # converger used for scf loop\n",
    "                                         # [0, 0.1], [0, alpha] constant mixing, P = alpha*P + (1.0-alpha)*Pnew\n",
    "                                         # [1], adaptive mixing\n",
    "                                         # [2], adaptive mixing, then pulay\n",
    "                   'sp2' : [False, 1.0e-5],  # whether to use sp2 algorithm in scf loop,\n",
    "                                            #[True, eps] or [False], eps for SP2 conve criteria\n",
    "                   'elements' : elements, #[0,1,6,8],\n",
    "                   'learned' : [], # learned parameters name list, e.g ['U_ss']\n",
    "                   #'parameter_file_dir' : '../seqm/params/', # file directory for other required parameters\n",
    "                   'pair_outer_cutoff' : 1.0e10, # consistent with the unit on coordinates\n",
    "                   'eig' : True\n",
    "                   }\n",
    "\n",
    "\n",
    "molecule = Molecule(const, seqm_parameters, coordinates, species).to(device)\n",
    "\n",
    "# Set k for the dissipative electronic force term. See https://aip.scitation.org/doi/full/10.1063/1.3148075 for details.\n",
    "output={'molid':[0, 1], 'thermo':1, 'dump':1, 'prefix':'Outputs/4_XL-BOMD_damp'}\n",
    "xl_bomd_params={'k':6}\n",
    "\n",
    "md =  XL_BOMD(xl_bomd_params=xl_bomd_params, damp=100.0,\n",
    "              seqm_parameters=seqm_parameters, Temp=400.0, timestep=0.4, output=output).to(device)\n",
    "md.initialize_velocity(molecule )\n",
    "#remove center of mass velocity\n",
    "# Info_log flag generates .txt wtih additional info for every step (orbital energies, dipole)\n",
    "_ = md.run(molecule, 10, remove_com=[True, 1], Info_log=True)"
   ]
  },
  {
   "cell_type": "code",
   "execution_count": null,
   "id": "a73595d7-8d92-4adf-b283-3d7d4df8a061",
   "metadata": {},
   "outputs": [],
   "source": []
  }
 ],
 "metadata": {
  "kernelspec": {
   "display_name": "pyseqm_4",
   "language": "python",
   "name": "pyseqm_4"
  },
  "language_info": {
   "codemirror_mode": {
    "name": "ipython",
    "version": 3
   },
   "file_extension": ".py",
   "mimetype": "text/x-python",
   "name": "python",
   "nbconvert_exporter": "python",
   "pygments_lexer": "ipython3",
   "version": "3.9.15"
  }
 },
 "nbformat": 4,
 "nbformat_minor": 5
}
